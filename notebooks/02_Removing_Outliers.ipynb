{
  "nbformat": 4,
  "nbformat_minor": 0,
  "metadata": {
    "colab": {
      "provenance": [],
      "machine_shape": "hm",
      "gpuType": "T4",
      "cell_execution_strategy": "setup"
    },
    "kernelspec": {
      "name": "python3",
      "display_name": "Python 3"
    },
    "language_info": {
      "name": "python"
    },
    "accelerator": "GPU"
  },
  "cells": [
    {
      "cell_type": "code",
      "execution_count": 7,
      "metadata": {
        "id": "AVmqsi6Mn6p2"
      },
      "outputs": [],
      "source": [
        "import pandas as pd\n",
        "import numpy as np\n",
        "import matplotlib.pyplot as plt\n",
        "import seaborn as sns\n",
        "import dask.dataframe as dd"
      ]
    },
    {
      "cell_type": "code",
      "source": [
        "# paths for the three dfs\n",
        "\n",
        "df_jan_path = \"/content/yellow_tripdata_2016-01.csv\"\n",
        "df_feb_path = \"/content/yellow_tripdata_2016-02.csv\"\n",
        "df_mar_path = \"/content/yellow_tripdata_2016-03.csv\"\n",
        "\n",
        "# load the dataframes\n",
        "\n",
        "df_jan = dd.read_csv(df_jan_path, assume_missing=True, usecols= ['trip_distance', 'pickup_longitude',\n",
        "       'pickup_latitude','dropoff_longitude', 'dropoff_latitude', 'fare_amount'])\n",
        "df_feb = dd.read_csv(df_feb_path, assume_missing=True, usecols= ['trip_distance', 'pickup_longitude',\n",
        "       'pickup_latitude','dropoff_longitude', 'dropoff_latitude', 'fare_amount'])\n",
        "df_mar = dd.read_csv(df_mar_path, assume_missing=True, usecols= ['trip_distance', 'pickup_longitude',\n",
        "       'pickup_latitude','dropoff_longitude', 'dropoff_latitude', 'fare_amount'])"
      ],
      "metadata": {
        "id": "dWXI9RQOoAet"
      },
      "execution_count": 37,
      "outputs": []
    },
    {
      "cell_type": "code",
      "source": [
        "df_jan"
      ],
      "metadata": {
        "colab": {
          "base_uri": "https://localhost:8080/",
          "height": 285
        },
        "id": "GIUOhQbZoAhE",
        "outputId": "178afa25-5e98-4bd7-9a6e-49661a097059"
      },
      "execution_count": 10,
      "outputs": [
        {
          "output_type": "execute_result",
          "data": {
            "text/plain": [
              "Dask DataFrame Structure:\n",
              "               trip_distance pickup_longitude pickup_latitude dropoff_longitude dropoff_latitude fare_amount\n",
              "npartitions=26                                                                                              \n",
              "                     float64          float64         float64           float64          float64     float64\n",
              "                         ...              ...             ...               ...              ...         ...\n",
              "...                      ...              ...             ...               ...              ...         ...\n",
              "                         ...              ...             ...               ...              ...         ...\n",
              "                         ...              ...             ...               ...              ...         ...\n",
              "Dask Name: to_string_dtype, 2 expressions\n",
              "Expr=ArrowStringConversion(frame=FromMapProjectable(e7e3fcc))"
            ],
            "text/html": [
              "<div><strong>Dask DataFrame Structure:</strong></div>\n",
              "<table border=\"1\" class=\"dataframe\">\n",
              "  <thead>\n",
              "    <tr style=\"text-align: right;\">\n",
              "      <th></th>\n",
              "      <th>trip_distance</th>\n",
              "      <th>pickup_longitude</th>\n",
              "      <th>pickup_latitude</th>\n",
              "      <th>dropoff_longitude</th>\n",
              "      <th>dropoff_latitude</th>\n",
              "      <th>fare_amount</th>\n",
              "    </tr>\n",
              "    <tr>\n",
              "      <th>npartitions=26</th>\n",
              "      <th></th>\n",
              "      <th></th>\n",
              "      <th></th>\n",
              "      <th></th>\n",
              "      <th></th>\n",
              "      <th></th>\n",
              "    </tr>\n",
              "  </thead>\n",
              "  <tbody>\n",
              "    <tr>\n",
              "      <th></th>\n",
              "      <td>float64</td>\n",
              "      <td>float64</td>\n",
              "      <td>float64</td>\n",
              "      <td>float64</td>\n",
              "      <td>float64</td>\n",
              "      <td>float64</td>\n",
              "    </tr>\n",
              "    <tr>\n",
              "      <th></th>\n",
              "      <td>...</td>\n",
              "      <td>...</td>\n",
              "      <td>...</td>\n",
              "      <td>...</td>\n",
              "      <td>...</td>\n",
              "      <td>...</td>\n",
              "    </tr>\n",
              "    <tr>\n",
              "      <th>...</th>\n",
              "      <td>...</td>\n",
              "      <td>...</td>\n",
              "      <td>...</td>\n",
              "      <td>...</td>\n",
              "      <td>...</td>\n",
              "      <td>...</td>\n",
              "    </tr>\n",
              "    <tr>\n",
              "      <th></th>\n",
              "      <td>...</td>\n",
              "      <td>...</td>\n",
              "      <td>...</td>\n",
              "      <td>...</td>\n",
              "      <td>...</td>\n",
              "      <td>...</td>\n",
              "    </tr>\n",
              "    <tr>\n",
              "      <th></th>\n",
              "      <td>...</td>\n",
              "      <td>...</td>\n",
              "      <td>...</td>\n",
              "      <td>...</td>\n",
              "      <td>...</td>\n",
              "      <td>...</td>\n",
              "    </tr>\n",
              "  </tbody>\n",
              "</table>\n",
              "<div>Dask Name: to_string_dtype, 2 expressions</div>"
            ]
          },
          "metadata": {},
          "execution_count": 10
        }
      ]
    },
    {
      "cell_type": "code",
      "source": [
        "# concat the three dataframes as one.\n",
        "\n",
        "df_final = dd.concat([df_jan, df_feb, df_mar], axis=0)"
      ],
      "metadata": {
        "id": "jRarGLN0oAjY"
      },
      "execution_count": 11,
      "outputs": []
    },
    {
      "cell_type": "markdown",
      "source": [
        "New york bounding box:\n",
        "\n",
        "* min_latitude = 40.60\n",
        "\n",
        "* max_latitude = 40.85\n",
        "\n",
        "* min_longitude = -74.05\n",
        "\n",
        "* max_longitude = -73.70"
      ],
      "metadata": {
        "id": "va9baBgio6Qi"
      }
    },
    {
      "cell_type": "code",
      "source": [
        "# set the values of coordinates\n",
        "\n",
        "min_latitude = 40.60\n",
        "max_latitude = 40.85\n",
        "min_longitude = -74.05\n",
        "max_longitude = -73.70"
      ],
      "metadata": {
        "id": "uTZq8MY0oAlu"
      },
      "execution_count": 12,
      "outputs": []
    },
    {
      "cell_type": "code",
      "source": [
        "# fare amount column\n",
        "fare_amount = df_final[\"fare_amount\"].compute()\n",
        "\n",
        "# trip distance column\n",
        "trip_distance = df_final[\"trip_distance\"].compute()"
      ],
      "metadata": {
        "id": "wA_PXaNlpDdA"
      },
      "execution_count": 13,
      "outputs": []
    },
    {
      "cell_type": "code",
      "source": [
        "fare_amount.shape[0] / 10000000"
      ],
      "metadata": {
        "colab": {
          "base_uri": "https://localhost:8080/"
        },
        "id": "g3bNru3KpM95",
        "outputId": "59abc65b-6228-4fb7-afbc-7f56e9f736dc"
      },
      "execution_count": 15,
      "outputs": [
        {
          "output_type": "execute_result",
          "data": {
            "text/plain": [
              "3.2720574"
            ]
          },
          "metadata": {},
          "execution_count": 15
        }
      ]
    },
    {
      "cell_type": "code",
      "source": [
        "# Percentile values for the fare amount.\n",
        "\n",
        "percentile_values = np.arange(0.991,1.000, 0.001)\n",
        "\n",
        "print(percentile_values)\n",
        "\n",
        "fare_amount.quantile(percentile_values)"
      ],
      "metadata": {
        "colab": {
          "base_uri": "https://localhost:8080/",
          "height": 424
        },
        "id": "RG3bJgSZphMO",
        "outputId": "3bbf4bb7-ac00-4561-c87b-bf0f5c7df009"
      },
      "execution_count": 16,
      "outputs": [
        {
          "output_type": "stream",
          "name": "stdout",
          "text": [
            "[0.991 0.992 0.993 0.994 0.995 0.996 0.997 0.998 0.999 1.   ]\n"
          ]
        },
        {
          "output_type": "execute_result",
          "data": {
            "text/plain": [
              "0.991        52.00\n",
              "0.992        52.00\n",
              "0.993        52.00\n",
              "0.994        52.00\n",
              "0.995        55.00\n",
              "0.996        59.00\n",
              "0.997        63.50\n",
              "0.998        69.00\n",
              "0.999        82.50\n",
              "1.000    111270.85\n",
              "Name: fare_amount, dtype: float64"
            ],
            "text/html": [
              "<div>\n",
              "<style scoped>\n",
              "    .dataframe tbody tr th:only-of-type {\n",
              "        vertical-align: middle;\n",
              "    }\n",
              "\n",
              "    .dataframe tbody tr th {\n",
              "        vertical-align: top;\n",
              "    }\n",
              "\n",
              "    .dataframe thead th {\n",
              "        text-align: right;\n",
              "    }\n",
              "</style>\n",
              "<table border=\"1\" class=\"dataframe\">\n",
              "  <thead>\n",
              "    <tr style=\"text-align: right;\">\n",
              "      <th></th>\n",
              "      <th>fare_amount</th>\n",
              "    </tr>\n",
              "  </thead>\n",
              "  <tbody>\n",
              "    <tr>\n",
              "      <th>0.991</th>\n",
              "      <td>52.00</td>\n",
              "    </tr>\n",
              "    <tr>\n",
              "      <th>0.992</th>\n",
              "      <td>52.00</td>\n",
              "    </tr>\n",
              "    <tr>\n",
              "      <th>0.993</th>\n",
              "      <td>52.00</td>\n",
              "    </tr>\n",
              "    <tr>\n",
              "      <th>0.994</th>\n",
              "      <td>52.00</td>\n",
              "    </tr>\n",
              "    <tr>\n",
              "      <th>0.995</th>\n",
              "      <td>55.00</td>\n",
              "    </tr>\n",
              "    <tr>\n",
              "      <th>0.996</th>\n",
              "      <td>59.00</td>\n",
              "    </tr>\n",
              "    <tr>\n",
              "      <th>0.997</th>\n",
              "      <td>63.50</td>\n",
              "    </tr>\n",
              "    <tr>\n",
              "      <th>0.998</th>\n",
              "      <td>69.00</td>\n",
              "    </tr>\n",
              "    <tr>\n",
              "      <th>0.999</th>\n",
              "      <td>82.50</td>\n",
              "    </tr>\n",
              "    <tr>\n",
              "      <th>1.000</th>\n",
              "      <td>111270.85</td>\n",
              "    </tr>\n",
              "  </tbody>\n",
              "</table>\n",
              "</div><br><label><b>dtype:</b> float64</label>"
            ]
          },
          "metadata": {},
          "execution_count": 16
        }
      ]
    },
    {
      "cell_type": "code",
      "source": [
        "# since the maximum fare amount is 82.50 so setting max fare amount. 111270.85 <- this can be consider as a outlier.\n",
        "max_fare_amount_val = fare_amount.quantile(percentile_values).iloc[-2].item()\n",
        "min_fare_amount_val = 0.50\n",
        "\n",
        "print(min_fare_amount_val)\n",
        "print(max_fare_amount_val)"
      ],
      "metadata": {
        "colab": {
          "base_uri": "https://localhost:8080/"
        },
        "id": "j1I5-q5Ipy8Q",
        "outputId": "e6b1411a-0daa-440e-822b-d1910c19758e"
      },
      "execution_count": 21,
      "outputs": [
        {
          "output_type": "stream",
          "name": "stdout",
          "text": [
            "0.5\n",
            "82.5\n"
          ]
        }
      ]
    },
    {
      "cell_type": "code",
      "source": [
        "trip_distance.quantile(percentile_values)"
      ],
      "metadata": {
        "colab": {
          "base_uri": "https://localhost:8080/",
          "height": 407
        },
        "id": "AoeSkN9ap97b",
        "outputId": "00cafc88-229f-4a96-a642-1e80a60061c4"
      },
      "execution_count": 22,
      "outputs": [
        {
          "output_type": "execute_result",
          "data": {
            "text/plain": [
              "0.991         18.88\n",
              "0.992         19.10\n",
              "0.993         19.40\n",
              "0.994         19.72\n",
              "0.995         20.14\n",
              "0.996         20.60\n",
              "0.997         21.20\n",
              "0.998         22.00\n",
              "0.999         24.90\n",
              "1.000    8000010.00\n",
              "Name: trip_distance, dtype: float64"
            ],
            "text/html": [
              "<div>\n",
              "<style scoped>\n",
              "    .dataframe tbody tr th:only-of-type {\n",
              "        vertical-align: middle;\n",
              "    }\n",
              "\n",
              "    .dataframe tbody tr th {\n",
              "        vertical-align: top;\n",
              "    }\n",
              "\n",
              "    .dataframe thead th {\n",
              "        text-align: right;\n",
              "    }\n",
              "</style>\n",
              "<table border=\"1\" class=\"dataframe\">\n",
              "  <thead>\n",
              "    <tr style=\"text-align: right;\">\n",
              "      <th></th>\n",
              "      <th>trip_distance</th>\n",
              "    </tr>\n",
              "  </thead>\n",
              "  <tbody>\n",
              "    <tr>\n",
              "      <th>0.991</th>\n",
              "      <td>18.88</td>\n",
              "    </tr>\n",
              "    <tr>\n",
              "      <th>0.992</th>\n",
              "      <td>19.10</td>\n",
              "    </tr>\n",
              "    <tr>\n",
              "      <th>0.993</th>\n",
              "      <td>19.40</td>\n",
              "    </tr>\n",
              "    <tr>\n",
              "      <th>0.994</th>\n",
              "      <td>19.72</td>\n",
              "    </tr>\n",
              "    <tr>\n",
              "      <th>0.995</th>\n",
              "      <td>20.14</td>\n",
              "    </tr>\n",
              "    <tr>\n",
              "      <th>0.996</th>\n",
              "      <td>20.60</td>\n",
              "    </tr>\n",
              "    <tr>\n",
              "      <th>0.997</th>\n",
              "      <td>21.20</td>\n",
              "    </tr>\n",
              "    <tr>\n",
              "      <th>0.998</th>\n",
              "      <td>22.00</td>\n",
              "    </tr>\n",
              "    <tr>\n",
              "      <th>0.999</th>\n",
              "      <td>24.90</td>\n",
              "    </tr>\n",
              "    <tr>\n",
              "      <th>1.000</th>\n",
              "      <td>8000010.00</td>\n",
              "    </tr>\n",
              "  </tbody>\n",
              "</table>\n",
              "</div><br><label><b>dtype:</b> float64</label>"
            ]
          },
          "metadata": {},
          "execution_count": 22
        }
      ]
    },
    {
      "cell_type": "code",
      "source": [
        "# percentile values for trip_distance\n",
        "\n",
        "min_trip_distance_val = 0.25\n",
        "max_trip_distance_val = trip_distance.quantile(percentile_values).iloc[-2].item()\n",
        "\n",
        "print(min_trip_distance_val)\n",
        "print(max_trip_distance_val)"
      ],
      "metadata": {
        "colab": {
          "base_uri": "https://localhost:8080/"
        },
        "id": "RQlYmiCDqWSw",
        "outputId": "706a9c83-22f0-4cff-ec44-33ace6fac280"
      },
      "execution_count": 24,
      "outputs": [
        {
          "output_type": "stream",
          "name": "stdout",
          "text": [
            "0.25\n",
            "24.9\n"
          ]
        }
      ]
    },
    {
      "cell_type": "markdown",
      "source": [
        "## **Remove Outliers from the Data**"
      ],
      "metadata": {
        "id": "m_KFuxs6qp6n"
      }
    },
    {
      "cell_type": "code",
      "source": [
        "# select data points within the given ranges\n",
        "\n",
        "df_final = df_final.loc[\n",
        "    (df_final[\"pickup_latitude\"].between(min_latitude, max_latitude, inclusive=\"both\")) &\n",
        "    (df_final[\"pickup_longitude\"].between(min_longitude, max_longitude, inclusive=\"both\")) &\n",
        "    (df_final[\"dropoff_latitude\"].between(min_latitude, max_latitude, inclusive=\"both\")) &\n",
        "    (df_final[\"dropoff_longitude\"].between(min_longitude, max_longitude, inclusive=\"both\")),\n",
        ":]"
      ],
      "metadata": {
        "id": "yYn2FqjDqji7"
      },
      "execution_count": 25,
      "outputs": []
    },
    {
      "cell_type": "code",
      "source": [
        "df_final = df_final.loc[\n",
        "    (df_final[\"fare_amount\"].between(min_fare_amount_val,max_fare_amount_val,inclusive=\"both\")) &\n",
        "    (df_final[\"trip_distance\"].between(min_trip_distance_val,max_trip_distance_val,inclusive=\"both\"))\n",
        "]"
      ],
      "metadata": {
        "id": "I0fR9SLEq_oM"
      },
      "execution_count": 26,
      "outputs": []
    },
    {
      "cell_type": "markdown",
      "source": [
        "## **Location Based Columns**"
      ],
      "metadata": {
        "id": "Ft8hv86BrJtB"
      }
    },
    {
      "cell_type": "code",
      "source": [
        "# make a subset of location based columns\n",
        "\n",
        "location_subset = df_final[['pickup_latitude','pickup_longitude',\n",
        "                           'dropoff_latitude','dropoff_longitude']]\n",
        "\n",
        "location_subset"
      ],
      "metadata": {
        "colab": {
          "base_uri": "https://localhost:8080/",
          "height": 285
        },
        "id": "9WM1MivsrH1j",
        "outputId": "03be5fda-678d-4edf-c614-344b605b1bfa"
      },
      "execution_count": 27,
      "outputs": [
        {
          "output_type": "execute_result",
          "data": {
            "text/plain": [
              "Dask DataFrame Structure:\n",
              "               pickup_latitude pickup_longitude dropoff_latitude dropoff_longitude\n",
              "npartitions=78                                                                    \n",
              "                       float64          float64          float64           float64\n",
              "                           ...              ...              ...               ...\n",
              "...                        ...              ...              ...               ...\n",
              "                           ...              ...              ...               ...\n",
              "                           ...              ...              ...               ...\n",
              "Dask Name: getitem, 23 expressions\n",
              "Expr=(Loc(frame=Loc(frame=(Concat(frames=[ArrowStringConversion(frame=FromMapProjectable(e7e3fcc)), ArrowStringConversion(frame=FromMapProjectable(e7e3fcc)), ArrowStringConversion(frame=FromMapProjectable(e7e3fcc))], ))[['trip_distance', 'pickup_longitude', 'pickup_latitude', 'dropoff_longitude', 'dropoff_latitude', 'fare_amount']], iindexer=Between(frame=(Concat(frames=[ArrowStringConversion(frame=FromMapProjectable(e7e3fcc)), ArrowStringConversion(frame=FromMapProjectable(e7e3fcc)), ArrowStringConversion(frame=FromMapProjectable(e7e3fcc))], ))['pickup_latitude'], left=40.6, right=40.85) & Between(frame=(Concat(frames=[ArrowStringConversion(frame=FromMapProjectable(e7e3fcc)), ArrowStringConversion(frame=FromMapProjectable(e7e3fcc)), ArrowStringConversion(frame=FromMapProjectable(e7e3fcc))], ))['pickup_longitude'], left=-74.05, right=-73.7) & Between(frame=(Concat(frames=[ArrowStringConversion(frame=FromMapProjectable(e7e3fcc)), ArrowStringConversion(frame=FromMapProjectable(e7e3fcc)), ArrowStringConversion(frame=FromMapProjectable(e7e3fcc))], ))['dropoff_latitude'], left=40.6, right=40.85) & Between(frame=(Concat(frames=[ArrowStringConversion(frame=FromMapProjectable(e7e3fcc)), ArrowStringConversion(frame=FromMapProjectable(e7e3fcc)), ArrowStringConversion(frame=FromMapProjectable(e7e3fcc))], ))['dropoff_longitude'], left=-74.05, right=-73.7)), iindexer=Between(frame=(Loc(frame=(Concat(frames=[ArrowStringConversion(frame=FromMapProjectable(e7e3fcc)), ArrowStringConversion(frame=FromMapProjectable(e7e3fcc)), ArrowStringConversion(frame=FromMapProjectable(e7e3fcc))], ))[['trip_distance', 'pickup_longitude', 'pickup_latitude', 'dropoff_longitude', 'dropoff_latitude', 'fare_amount']], iindexer=Between(frame=(Concat(frames=[ArrowStringConversion(frame=FromMapProjectable(e7e3fcc)), ArrowStringConversion(frame=FromMapProjectable(e7e3fcc)), ArrowStringConversion(frame=FromMapProjectable(e7e3fcc))], ))['pickup_latitude'], left=40.6, right=40.85) & Between(frame=(Concat(frames=[ArrowStringConversion(frame=FromMapProjectable(e7e3fcc)), ArrowStringConversion(frame=FromMapProjectable(e7e3fcc)), ArrowStringConversion(frame=FromMapProjectable(e7e3fcc))], ))['pickup_longitude'], left=-74.05, right=-73.7) & Between(frame=(Concat(frames=[ArrowStringConversion(frame=FromMapProjectable(e7e3fcc)), ArrowStringConversion(frame=FromMapProjectable(e7e3fcc)), ArrowStringConversion(frame=FromMapProjectable(e7e3fcc))], ))['dropoff_latitude'], left=40.6, right=40.85) & Between(frame=(Concat(frames=[ArrowStringConversion(frame=FromMapProjectable(e7e3fcc)), ArrowStringConversion(frame=FromMapProjectable(e7e3fcc)), ArrowStringConversion(frame=FromMapProjectable(e7e3fcc))], ))['dropoff_longitude'], left=-74.05, right=-73.7)))['fare_amount'], left=0.5, right=82.5) & Between(frame=(Loc(frame=(Concat(frames=[ArrowStringConversion(frame=FromMapProjectable(e7e3fcc)), ArrowStringConversion(frame=FromMapProjectable(e7e3fcc)), ArrowStringConversion(frame=FromMapProjectable(e7e3fcc))], ))[['trip_distance', 'pickup_longitude', 'pickup_latitude', 'dropoff_longitude', 'dropoff_latitude', 'fare_amount']], iindexer=Between(frame=(Concat(frames=[ArrowStringConversion(frame=FromMapProjectable(e7e3fcc)), ArrowStringConversion(frame=FromMapProjectable(e7e3fcc)), ArrowStringConversion(frame=FromMapProjectable(e7e3fcc))], ))['pickup_latitude'], left=40.6, right=40.85) & Between(frame=(Concat(frames=[ArrowStringConversion(frame=FromMapProjectable(e7e3fcc)), ArrowStringConversion(frame=FromMapProjectable(e7e3fcc)), ArrowStringConversion(frame=FromMapProjectable(e7e3fcc))], ))['pickup_longitude'], left=-74.05, right=-73.7) & Between(frame=(Concat(frames=[ArrowStringConversion(frame=FromMapProjectable(e7e3fcc)), ArrowStringConversion(frame=FromMapProjectable(e7e3fcc)), ArrowStringConversion(frame=FromMapProjectable(e7e3fcc))], ))['dropoff_latitude'], left=40.6, right=40.85) & Between(frame=(Concat(frames=[ArrowStringConversion(frame=FromMapProjectable(e7e3fcc)), ArrowStringConversion(frame=FromMapProjectable(e7e3fcc)), ArrowStringConversion(frame=FromMapProjectable(e7e3fcc))], ))['dropoff_longitude'], left=-74.05, right=-73.7)))['trip_distance'], left=0.25, right=24.9)))[['pickup_latitude', 'pickup_longitude', 'dropoff_latitude', 'dropoff_longitude']]"
            ],
            "text/html": [
              "<div><strong>Dask DataFrame Structure:</strong></div>\n",
              "<table border=\"1\" class=\"dataframe\">\n",
              "  <thead>\n",
              "    <tr style=\"text-align: right;\">\n",
              "      <th></th>\n",
              "      <th>pickup_latitude</th>\n",
              "      <th>pickup_longitude</th>\n",
              "      <th>dropoff_latitude</th>\n",
              "      <th>dropoff_longitude</th>\n",
              "    </tr>\n",
              "    <tr>\n",
              "      <th>npartitions=78</th>\n",
              "      <th></th>\n",
              "      <th></th>\n",
              "      <th></th>\n",
              "      <th></th>\n",
              "    </tr>\n",
              "  </thead>\n",
              "  <tbody>\n",
              "    <tr>\n",
              "      <th></th>\n",
              "      <td>float64</td>\n",
              "      <td>float64</td>\n",
              "      <td>float64</td>\n",
              "      <td>float64</td>\n",
              "    </tr>\n",
              "    <tr>\n",
              "      <th></th>\n",
              "      <td>...</td>\n",
              "      <td>...</td>\n",
              "      <td>...</td>\n",
              "      <td>...</td>\n",
              "    </tr>\n",
              "    <tr>\n",
              "      <th>...</th>\n",
              "      <td>...</td>\n",
              "      <td>...</td>\n",
              "      <td>...</td>\n",
              "      <td>...</td>\n",
              "    </tr>\n",
              "    <tr>\n",
              "      <th></th>\n",
              "      <td>...</td>\n",
              "      <td>...</td>\n",
              "      <td>...</td>\n",
              "      <td>...</td>\n",
              "    </tr>\n",
              "    <tr>\n",
              "      <th></th>\n",
              "      <td>...</td>\n",
              "      <td>...</td>\n",
              "      <td>...</td>\n",
              "      <td>...</td>\n",
              "    </tr>\n",
              "  </tbody>\n",
              "</table>\n",
              "<div>Dask Name: getitem, 23 expressions</div>"
            ]
          },
          "metadata": {},
          "execution_count": 27
        }
      ]
    },
    {
      "cell_type": "code",
      "source": [
        "# boxplots for location based columns\n",
        "\n",
        "fig, (ax1, ax2) = plt.subplots(nrows=2, ncols=2, figsize=(12,5))\n",
        "for i in range(4):\n",
        "    if i <= 1:\n",
        "        # plot the boxplot\n",
        "        sns.boxplot(y=location_subset.iloc[:,i].compute(),ax=ax1[i],whis=3)\n",
        "    else:\n",
        "        # plot the boxplot\n",
        "        sns.boxplot(y=location_subset.iloc[:,i].compute(),ax=ax2[i - 2],whis=3)"
      ],
      "metadata": {
        "colab": {
          "base_uri": "https://localhost:8080/",
          "height": 446
        },
        "id": "rz_5hM_5rcMs",
        "outputId": "1f21a245-b9cf-48cd-a1d3-2c02112d2fcf"
      },
      "execution_count": 28,
      "outputs": [
        {
          "output_type": "display_data",
          "data": {
            "text/plain": [
              "<Figure size 1200x500 with 4 Axes>"
            ],
            "image/png": "[encoded data removed]"
          },
          "metadata": {}
        }
      ]
    },
    {
      "cell_type": "markdown",
      "source": [
        "## **Trip Distance**"
      ],
      "metadata": {
        "id": "_gwEg9bvrxSU"
      }
    },
    {
      "cell_type": "code",
      "source": [
        "# boxplot for the trip distance.\n",
        "\n",
        "sns.boxplot(df_final.loc[:,\"trip_distance\"].compute(), whis=3)"
      ],
      "metadata": {
        "colab": {
          "base_uri": "https://localhost:8080/",
          "height": 448
        },
        "id": "sKxpBLI6rOPh",
        "outputId": "6cd51b78-f6c8-428c-a1a3-614f310e4b56"
      },
      "execution_count": 29,
      "outputs": [
        {
          "output_type": "execute_result",
          "data": {
            "text/plain": [
              "<Axes: ylabel='trip_distance'>"
            ]
          },
          "metadata": {},
          "execution_count": 29
        },
        {
          "output_type": "display_data",
          "data": {
            "text/plain": [
              "<Figure size 640x480 with 1 Axes>"
            ],
            "image/png": "[encoded data removed]"
          },
          "metadata": {}
        }
      ]
    },
    {
      "cell_type": "markdown",
      "source": [
        "## **Fare Amount**"
      ],
      "metadata": {
        "id": "fPvIP6bJr79l"
      }
    },
    {
      "cell_type": "code",
      "source": [
        "# boxplot for the fare amount.\n",
        "\n",
        "sns.boxplot(df_final.loc[:,\"fare_amount\"].compute(), whis=3)"
      ],
      "metadata": {
        "colab": {
          "base_uri": "https://localhost:8080/",
          "height": 448
        },
        "id": "zxuoFT6or6N_",
        "outputId": "ea2a7423-a4c6-4622-e7cd-4f649ff67aef"
      },
      "execution_count": 30,
      "outputs": [
        {
          "output_type": "execute_result",
          "data": {
            "text/plain": [
              "<Axes: ylabel='fare_amount'>"
            ]
          },
          "metadata": {},
          "execution_count": 30
        },
        {
          "output_type": "display_data",
          "data": {
            "text/plain": [
              "<Figure size 640x480 with 1 Axes>"
            ],
            "image/png": "[encoded data removed]"
          },
          "metadata": {}
        }
      ]
    },
    {
      "cell_type": "code",
      "source": [
        "# save the pickup coordinates dataset.\n",
        "\n",
        "save_path = \"../location_data.csv\"\n",
        "\n",
        "pickup_coord_dataset = df_final.loc[:,['pickup_latitude','pickup_longitude']]\n",
        "pickup_coord_dataset.visualize()"
      ],
      "metadata": {
        "colab": {
          "base_uri": "https://localhost:8080/",
          "height": 1000
        },
        "id": "JziQGk7vr-p7",
        "outputId": "623e7e62-3ccc-42a3-bcd8-7fac2834907f"
      },
      "execution_count": 31,
      "outputs": [
        {
          "output_type": "execute_result",
          "data": {
            "image/svg+xml": "<?xml version=\"1.0\" encoding=\"UTF-8\" standalone=\"no\"?>\n<!DOCTYPE svg PUBLIC \"-//W3C//DTD SVG 1.1//EN\"\n \"http://www.w3.org/Graphics/SVG/1.1/DTD/svg11.dtd\">\n<!-- Generated by graphviz version 2.43.0 (0)\n -->\n<!-- Title: %3 Pages: 1 -->\n<svg width=\"2012pt\" height=\"980pt\"\n viewBox=\"0.00 0.00 2012.00 980.00\" xmlns=\"http://www.w3.org/2000/svg\" xmlns:xlink=\"http://www.w3.org/1999/xlink\">\n<g id=\"graph0\" class=\"graph\" transform=\"scale(1 1) rotate(0) translate(4 976)\">\n<title>%3</title>\n<polygon fill=\"white\" stroke=\"transparent\" points=\"-4,4 -4,-976 2008,-976 2008,4 -4,4\"/>\n<!-- &#45;4853401472556913047 -->\n<g id=\"node1\" class=\"node\">\n<title>&#45;4853401472556913047</title>\n<polygon fill=\"none\" stroke=\"black\" points=\"850,-972 368,-972 368,-936 850,-936 850,-972\"/>\n<text text-anchor=\"middle\" x=\"609\" y=\"-949\" font-family=\"Helvetica,sans-Serif\" font-size=\"20.00\">Projection(Loc, [&#39;pickup_latitude&#39;, &#39;pickup_longitude&#39;])</text>\n</g>\n<!-- 9140774110592415568 -->\n<g id=\"node2\" class=\"node\">\n<title>9140774110592415568</title>\n<polygon fill=\"none\" stroke=\"black\" points=\"679,-900 539,-900 539,-864 679,-864 679,-900\"/>\n<text text-anchor=\"middle\" x=\"609\" y=\"-877\" font-family=\"Helvetica,sans-Serif\" font-size=\"20.00\">Loc(Loc, And)</text>\n</g>\n<!-- 9140774110592415568&#45;&gt;&#45;4853401472556913047 -->\n<g id=\"edge1\" class=\"edge\">\n<title>9140774110592415568&#45;&gt;&#45;4853401472556913047</title>\n<path fill=\"none\" stroke=\"black\" d=\"M609,-900.3C609,-908.02 609,-917.29 609,-925.89\"/>\n<polygon fill=\"black\" stroke=\"black\" points=\"605.5,-925.9 609,-935.9 612.5,-925.9 605.5,-925.9\"/>\n</g>\n<!-- 3341654167241365909 -->\n<g id=\"node3\" class=\"node\">\n<title>3341654167241365909</title>\n<polygon fill=\"none\" stroke=\"black\" points=\"808.5,-828 575.5,-828 575.5,-792 808.5,-792 808.5,-828\"/>\n<text text-anchor=\"middle\" x=\"692\" y=\"-805\" font-family=\"Helvetica,sans-Serif\" font-size=\"20.00\">And(Between, Between)</text>\n</g>\n<!-- 3341654167241365909&#45;&gt;9140774110592415568 -->\n<g id=\"edge2\" class=\"edge\">\n<title>3341654167241365909&#45;&gt;9140774110592415568</title>\n<path fill=\"none\" stroke=\"black\" d=\"M671.48,-828.3C661.13,-837.03 648.41,-847.76 637.16,-857.25\"/>\n<polygon fill=\"black\" stroke=\"black\" points=\"634.67,-854.77 629.28,-863.9 639.18,-860.12 634.67,-854.77\"/>\n</g>\n<!-- 9168918108923545466 -->\n<g id=\"node4\" class=\"node\">\n<title>9168918108923545466</title>\n<polygon fill=\"none\" stroke=\"black\" points=\"790.5,-756 593.5,-756 593.5,-720 790.5,-720 790.5,-756\"/>\n<text text-anchor=\"middle\" x=\"692\" y=\"-733\" font-family=\"Helvetica,sans-Serif\" font-size=\"20.00\">Between(Projection)</text>\n</g>\n<!-- 9168918108923545466&#45;&gt;3341654167241365909 -->\n<g id=\"edge4\" class=\"edge\">\n<title>9168918108923545466&#45;&gt;3341654167241365909</title>\n<path fill=\"none\" stroke=\"black\" d=\"M692,-756.3C692,-764.02 692,-773.29 692,-781.89\"/>\n<polygon fill=\"black\" stroke=\"black\" points=\"688.5,-781.9 692,-791.9 695.5,-781.9 688.5,-781.9\"/>\n</g>\n<!-- 8801063825779227490 -->\n<g id=\"node5\" class=\"node\">\n<title>8801063825779227490</title>\n<polygon fill=\"none\" stroke=\"black\" points=\"829.5,-684 554.5,-684 554.5,-648 829.5,-648 829.5,-684\"/>\n<text text-anchor=\"middle\" x=\"692\" y=\"-661\" font-family=\"Helvetica,sans-Serif\" font-size=\"20.00\">Projection(Loc, trip_distance)</text>\n</g>\n<!-- 8801063825779227490&#45;&gt;9168918108923545466 -->\n<g id=\"edge6\" class=\"edge\">\n<title>8801063825779227490&#45;&gt;9168918108923545466</title>\n<path fill=\"none\" stroke=\"black\" d=\"M692,-684.3C692,-692.02 692,-701.29 692,-709.89\"/>\n<polygon fill=\"black\" stroke=\"black\" points=\"688.5,-709.9 692,-719.9 695.5,-709.9 688.5,-709.9\"/>\n</g>\n<!-- 7224418733582006455 -->\n<g id=\"node6\" class=\"node\">\n<title>7224418733582006455</title>\n<polygon fill=\"none\" stroke=\"black\" points=\"790.5,-612 593.5,-612 593.5,-576 790.5,-576 790.5,-612\"/>\n<text text-anchor=\"middle\" x=\"692\" y=\"-589\" font-family=\"Helvetica,sans-Serif\" font-size=\"20.00\">Loc(Projection, And)</text>\n</g>\n<!-- 7224418733582006455&#45;&gt;9140774110592415568 -->\n<g id=\"edge3\" class=\"edge\">\n<title>7224418733582006455&#45;&gt;9140774110592415568</title>\n<path fill=\"none\" stroke=\"black\" d=\"M593.38,-611.89C574.39,-619.76 556.77,-631.24 545,-648 523.85,-678.11 510.79,-702.09 566,-828 570.47,-838.2 577.45,-848.05 584.5,-856.44\"/>\n<polygon fill=\"black\" stroke=\"black\" points=\"581.95,-858.83 591.2,-863.99 587.18,-854.19 581.95,-858.83\"/>\n</g>\n<!-- 7224418733582006455&#45;&gt;8801063825779227490 -->\n<g id=\"edge7\" class=\"edge\">\n<title>7224418733582006455&#45;&gt;8801063825779227490</title>\n<path fill=\"none\" stroke=\"black\" d=\"M692,-612.3C692,-620.02 692,-629.29 692,-637.89\"/>\n<polygon fill=\"black\" stroke=\"black\" points=\"688.5,-637.9 692,-647.9 695.5,-637.9 688.5,-637.9\"/>\n</g>\n<!-- 8812132163742419598 -->\n<g id=\"node23\" class=\"node\">\n<title>8812132163742419598</title>\n<polygon fill=\"none\" stroke=\"black\" points=\"1122.5,-684 847.5,-684 847.5,-648 1122.5,-648 1122.5,-684\"/>\n<text text-anchor=\"middle\" x=\"985\" y=\"-661\" font-family=\"Helvetica,sans-Serif\" font-size=\"20.00\">Projection(Loc, fare_amount)</text>\n</g>\n<!-- 7224418733582006455&#45;&gt;8812132163742419598 -->\n<g id=\"edge28\" class=\"edge\">\n<title>7224418733582006455&#45;&gt;8812132163742419598</title>\n<path fill=\"none\" stroke=\"black\" d=\"M763.3,-612.03C805.74,-622.17 859.74,-635.07 903.81,-645.6\"/>\n<polygon fill=\"black\" stroke=\"black\" points=\"903.09,-649.03 913.63,-647.95 904.72,-642.22 903.09,-649.03\"/>\n</g>\n<!-- &#45;250178802297527992 -->\n<g id=\"node7\" class=\"node\">\n<title>&#45;250178802297527992</title>\n<polygon fill=\"none\" stroke=\"black\" points=\"725.5,-540 534.5,-540 534.5,-504 725.5,-504 725.5,-540\"/>\n<text text-anchor=\"middle\" x=\"630\" y=\"-517\" font-family=\"Helvetica,sans-Serif\" font-size=\"20.00\">And(And, Between)</text>\n</g>\n<!-- &#45;250178802297527992&#45;&gt;7224418733582006455 -->\n<g id=\"edge8\" class=\"edge\">\n<title>&#45;250178802297527992&#45;&gt;7224418733582006455</title>\n<path fill=\"none\" stroke=\"black\" d=\"M645.33,-540.3C652.76,-548.7 661.82,-558.93 669.98,-568.14\"/>\n<polygon fill=\"black\" stroke=\"black\" points=\"667.6,-570.73 676.85,-575.9 672.84,-566.09 667.6,-570.73\"/>\n</g>\n<!-- 8300556247284520008 -->\n<g id=\"node8\" class=\"node\">\n<title>8300556247284520008</title>\n<polygon fill=\"none\" stroke=\"black\" points=\"479.5,-468 282.5,-468 282.5,-432 479.5,-432 479.5,-468\"/>\n<text text-anchor=\"middle\" x=\"381\" y=\"-445\" font-family=\"Helvetica,sans-Serif\" font-size=\"20.00\">Between(Projection)</text>\n</g>\n<!-- 8300556247284520008&#45;&gt;&#45;250178802297527992 -->\n<g id=\"edge10\" class=\"edge\">\n<title>8300556247284520008&#45;&gt;&#45;250178802297527992</title>\n<path fill=\"none\" stroke=\"black\" d=\"M441.59,-468.03C477.14,-478.03 522.22,-490.7 559.38,-501.15\"/>\n<polygon fill=\"black\" stroke=\"black\" points=\"558.56,-504.55 569.13,-503.89 560.45,-497.81 558.56,-504.55\"/>\n</g>\n<!-- &#45;6296879123558468524 -->\n<g id=\"node9\" class=\"node\">\n<title>&#45;6296879123558468524</title>\n<polygon fill=\"none\" stroke=\"black\" points=\"348,-252 0,-252 0,-216 348,-216 348,-252\"/>\n<text text-anchor=\"middle\" x=\"174\" y=\"-229\" font-family=\"Helvetica,sans-Serif\" font-size=\"20.00\">Projection(Concat, dropoff_longitude)</text>\n</g>\n<!-- &#45;6296879123558468524&#45;&gt;8300556247284520008 -->\n<g id=\"edge12\" class=\"edge\">\n<title>&#45;6296879123558468524&#45;&gt;8300556247284520008</title>\n<path fill=\"none\" stroke=\"black\" d=\"M190.59,-252.15C227.15,-289.95 314.79,-380.55 357.2,-424.4\"/>\n<polygon fill=\"black\" stroke=\"black\" points=\"354.86,-427.01 364.33,-431.77 359.89,-422.15 354.86,-427.01\"/>\n</g>\n<!-- 2441201256628813456 -->\n<g id=\"node10\" class=\"node\">\n<title>2441201256628813456</title>\n<polygon fill=\"none\" stroke=\"black\" points=\"1253.5,-180 522.5,-180 522.5,-144 1253.5,-144 1253.5,-180\"/>\n<text text-anchor=\"middle\" x=\"888\" y=\"-157\" font-family=\"Helvetica,sans-Serif\" font-size=\"20.00\">Concat(ArrowStringConversion, ArrowStringConversion, ArrowStringConversion)</text>\n</g>\n<!-- 2441201256628813456&#45;&gt;&#45;6296879123558468524 -->\n<g id=\"edge13\" class=\"edge\">\n<title>2441201256628813456&#45;&gt;&#45;6296879123558468524</title>\n<path fill=\"none\" stroke=\"black\" d=\"M714.25,-180.03C606.27,-190.62 467.61,-204.21 357.8,-214.98\"/>\n<polygon fill=\"black\" stroke=\"black\" points=\"357.21,-211.52 347.6,-215.98 357.89,-218.49 357.21,-211.52\"/>\n</g>\n<!-- &#45;5734018599389580713 -->\n<g id=\"node15\" class=\"node\">\n<title>&#45;5734018599389580713</title>\n<polygon fill=\"none\" stroke=\"black\" points=\"697.5,-252 366.5,-252 366.5,-216 697.5,-216 697.5,-252\"/>\n<text text-anchor=\"middle\" x=\"532\" y=\"-229\" font-family=\"Helvetica,sans-Serif\" font-size=\"20.00\">Projection(Concat, dropoff_latitude)</text>\n</g>\n<!-- 2441201256628813456&#45;&gt;&#45;5734018599389580713 -->\n<g id=\"edge19\" class=\"edge\">\n<title>2441201256628813456&#45;&gt;&#45;5734018599389580713</title>\n<path fill=\"none\" stroke=\"black\" d=\"M801.37,-180.03C749.15,-190.3 682.54,-203.4 628.63,-214\"/>\n<polygon fill=\"black\" stroke=\"black\" points=\"627.85,-210.59 618.71,-215.95 629.2,-217.45 627.85,-210.59\"/>\n</g>\n<!-- 2778286150214811717 -->\n<g id=\"node18\" class=\"node\">\n<title>2778286150214811717</title>\n<polygon fill=\"none\" stroke=\"black\" points=\"1060,-252 716,-252 716,-216 1060,-216 1060,-252\"/>\n<text text-anchor=\"middle\" x=\"888\" y=\"-229\" font-family=\"Helvetica,sans-Serif\" font-size=\"20.00\">Projection(Concat, pickup_longitude)</text>\n</g>\n<!-- 2441201256628813456&#45;&gt;2778286150214811717 -->\n<g id=\"edge23\" class=\"edge\">\n<title>2441201256628813456&#45;&gt;2778286150214811717</title>\n<path fill=\"none\" stroke=\"black\" d=\"M888,-180.3C888,-188.02 888,-197.29 888,-205.89\"/>\n<polygon fill=\"black\" stroke=\"black\" points=\"884.5,-205.9 888,-215.9 891.5,-205.9 884.5,-205.9\"/>\n</g>\n<!-- 2306050509716128878 -->\n<g id=\"node20\" class=\"node\">\n<title>2306050509716128878</title>\n<polygon fill=\"none\" stroke=\"black\" points=\"1404,-252 1078,-252 1078,-216 1404,-216 1404,-252\"/>\n<text text-anchor=\"middle\" x=\"1241\" y=\"-229\" font-family=\"Helvetica,sans-Serif\" font-size=\"20.00\">Projection(Concat, pickup_latitude)</text>\n</g>\n<!-- 2441201256628813456&#45;&gt;2306050509716128878 -->\n<g id=\"edge25\" class=\"edge\">\n<title>2441201256628813456&#45;&gt;2306050509716128878</title>\n<path fill=\"none\" stroke=\"black\" d=\"M973.9,-180.03C1025.68,-190.3 1091.73,-203.4 1145.19,-214\"/>\n<polygon fill=\"black\" stroke=\"black\" points=\"1144.53,-217.44 1155.02,-215.95 1145.89,-210.57 1144.53,-217.44\"/>\n</g>\n<!-- 1169001044720891396 -->\n<g id=\"node21\" class=\"node\">\n<title>1169001044720891396</title>\n<polygon fill=\"none\" stroke=\"black\" points=\"2004,-396 900,-396 900,-360 2004,-360 2004,-396\"/>\n<text text-anchor=\"middle\" x=\"1452\" y=\"-373\" font-family=\"Helvetica,sans-Serif\" font-size=\"20.00\">Projection(Concat, [&#39;trip_distance&#39;, &#39;pickup_longitude&#39;, &#39;pickup_latitude&#39;, &#39;dropoff_longitude&#39;, &#39;dropoff_latitude&#39;, &#39;fare_amount&#39;])</text>\n</g>\n<!-- 2441201256628813456&#45;&gt;1169001044720891396 -->\n<g id=\"edge26\" class=\"edge\">\n<title>2441201256628813456&#45;&gt;1169001044720891396</title>\n<path fill=\"none\" stroke=\"black\" d=\"M1200.84,-180.01C1302.86,-188.39 1394.83,-200.16 1413,-216 1451.22,-249.31 1455.29,-313.08 1454.13,-349.57\"/>\n<polygon fill=\"black\" stroke=\"black\" points=\"1450.61,-349.8 1453.63,-359.95 1457.61,-350.13 1450.61,-349.8\"/>\n</g>\n<!-- &#45;277687359370073836 -->\n<g id=\"node11\" class=\"node\">\n<title>&#45;277687359370073836</title>\n<polygon fill=\"none\" stroke=\"black\" points=\"1099,-108 677,-108 677,-72 1099,-72 1099,-108\"/>\n<text text-anchor=\"middle\" x=\"888\" y=\"-85\" font-family=\"Helvetica,sans-Serif\" font-size=\"20.00\">ArrowStringConversion(FromMapProjectable)</text>\n</g>\n<!-- &#45;277687359370073836&#45;&gt;2441201256628813456 -->\n<g id=\"edge14\" class=\"edge\">\n<title>&#45;277687359370073836&#45;&gt;2441201256628813456</title>\n<path fill=\"none\" stroke=\"black\" d=\"M888,-108.3C888,-116.02 888,-125.29 888,-133.89\"/>\n<polygon fill=\"black\" stroke=\"black\" points=\"884.5,-133.9 888,-143.9 891.5,-133.9 884.5,-133.9\"/>\n</g>\n<!-- &#45;5440328578514493975 -->\n<g id=\"node12\" class=\"node\">\n<title>&#45;5440328578514493975</title>\n<polygon fill=\"none\" stroke=\"black\" points=\"989.5,-36 786.5,-36 786.5,0 989.5,0 989.5,-36\"/>\n<text text-anchor=\"middle\" x=\"888\" y=\"-13\" font-family=\"Helvetica,sans-Serif\" font-size=\"20.00\">FromMapProjectable</text>\n</g>\n<!-- &#45;5440328578514493975&#45;&gt;&#45;277687359370073836 -->\n<g id=\"edge15\" class=\"edge\">\n<title>&#45;5440328578514493975&#45;&gt;&#45;277687359370073836</title>\n<path fill=\"none\" stroke=\"black\" d=\"M888,-36.3C888,-44.02 888,-53.29 888,-61.89\"/>\n<polygon fill=\"black\" stroke=\"black\" points=\"884.5,-61.9 888,-71.9 891.5,-61.9 884.5,-61.9\"/>\n</g>\n<!-- 7967434071040106076 -->\n<g id=\"node13\" class=\"node\">\n<title>7967434071040106076</title>\n<polygon fill=\"none\" stroke=\"black\" points=\"725.5,-468 534.5,-468 534.5,-432 725.5,-432 725.5,-468\"/>\n<text text-anchor=\"middle\" x=\"630\" y=\"-445\" font-family=\"Helvetica,sans-Serif\" font-size=\"20.00\">And(And, Between)</text>\n</g>\n<!-- 7967434071040106076&#45;&gt;&#45;250178802297527992 -->\n<g id=\"edge11\" class=\"edge\">\n<title>7967434071040106076&#45;&gt;&#45;250178802297527992</title>\n<path fill=\"none\" stroke=\"black\" d=\"M630,-468.3C630,-476.02 630,-485.29 630,-493.89\"/>\n<polygon fill=\"black\" stroke=\"black\" points=\"626.5,-493.9 630,-503.9 633.5,-493.9 626.5,-493.9\"/>\n</g>\n<!-- 2685299961765068870 -->\n<g id=\"node14\" class=\"node\">\n<title>2685299961765068870</title>\n<polygon fill=\"none\" stroke=\"black\" points=\"630.5,-396 433.5,-396 433.5,-360 630.5,-360 630.5,-396\"/>\n<text text-anchor=\"middle\" x=\"532\" y=\"-373\" font-family=\"Helvetica,sans-Serif\" font-size=\"20.00\">Between(Projection)</text>\n</g>\n<!-- 2685299961765068870&#45;&gt;7967434071040106076 -->\n<g id=\"edge16\" class=\"edge\">\n<title>2685299961765068870&#45;&gt;7967434071040106076</title>\n<path fill=\"none\" stroke=\"black\" d=\"M555.97,-396.12C568.55,-405.11 584.13,-416.24 597.75,-425.97\"/>\n<polygon fill=\"black\" stroke=\"black\" points=\"595.76,-428.85 605.93,-431.81 599.83,-423.15 595.76,-428.85\"/>\n</g>\n<!-- &#45;5734018599389580713&#45;&gt;2685299961765068870 -->\n<g id=\"edge18\" class=\"edge\">\n<title>&#45;5734018599389580713&#45;&gt;2685299961765068870</title>\n<path fill=\"none\" stroke=\"black\" d=\"M532,-252.13C532,-276.33 532,-320.79 532,-349.61\"/>\n<polygon fill=\"black\" stroke=\"black\" points=\"528.5,-349.81 532,-359.81 535.5,-349.81 528.5,-349.81\"/>\n</g>\n<!-- 6933697104783111831 -->\n<g id=\"node16\" class=\"node\">\n<title>6933697104783111831</title>\n<polygon fill=\"none\" stroke=\"black\" points=\"881.5,-396 648.5,-396 648.5,-360 881.5,-360 881.5,-396\"/>\n<text text-anchor=\"middle\" x=\"765\" y=\"-373\" font-family=\"Helvetica,sans-Serif\" font-size=\"20.00\">And(Between, Between)</text>\n</g>\n<!-- 6933697104783111831&#45;&gt;7967434071040106076 -->\n<g id=\"edge17\" class=\"edge\">\n<title>6933697104783111831&#45;&gt;7967434071040106076</title>\n<path fill=\"none\" stroke=\"black\" d=\"M731.98,-396.12C713.92,-405.49 691.35,-417.19 672.05,-427.2\"/>\n<polygon fill=\"black\" stroke=\"black\" points=\"670.42,-424.1 663.15,-431.81 673.64,-430.31 670.42,-424.1\"/>\n</g>\n<!-- 301144572161458678 -->\n<g id=\"node17\" class=\"node\">\n<title>301144572161458678</title>\n<polygon fill=\"none\" stroke=\"black\" points=\"924.5,-324 727.5,-324 727.5,-288 924.5,-288 924.5,-324\"/>\n<text text-anchor=\"middle\" x=\"826\" y=\"-301\" font-family=\"Helvetica,sans-Serif\" font-size=\"20.00\">Between(Projection)</text>\n</g>\n<!-- 301144572161458678&#45;&gt;6933697104783111831 -->\n<g id=\"edge21\" class=\"edge\">\n<title>301144572161458678&#45;&gt;6933697104783111831</title>\n<path fill=\"none\" stroke=\"black\" d=\"M810.92,-324.3C803.61,-332.7 794.69,-342.93 786.66,-352.14\"/>\n<polygon fill=\"black\" stroke=\"black\" points=\"783.84,-350.06 779.91,-359.9 789.11,-354.66 783.84,-350.06\"/>\n</g>\n<!-- 2778286150214811717&#45;&gt;301144572161458678 -->\n<g id=\"edge22\" class=\"edge\">\n<title>2778286150214811717&#45;&gt;301144572161458678</title>\n<path fill=\"none\" stroke=\"black\" d=\"M872.67,-252.3C865.24,-260.7 856.18,-270.93 848.02,-280.14\"/>\n<polygon fill=\"black\" stroke=\"black\" points=\"845.16,-278.09 841.15,-287.9 850.4,-282.73 845.16,-278.09\"/>\n</g>\n<!-- &#45;5331631200289065248 -->\n<g id=\"node19\" class=\"node\">\n<title>&#45;5331631200289065248</title>\n<polygon fill=\"none\" stroke=\"black\" points=\"1209.5,-324 1012.5,-324 1012.5,-288 1209.5,-288 1209.5,-324\"/>\n<text text-anchor=\"middle\" x=\"1111\" y=\"-301\" font-family=\"Helvetica,sans-Serif\" font-size=\"20.00\">Between(Projection)</text>\n</g>\n<!-- &#45;5331631200289065248&#45;&gt;6933697104783111831 -->\n<g id=\"edge20\" class=\"edge\">\n<title>&#45;5331631200289065248&#45;&gt;6933697104783111831</title>\n<path fill=\"none\" stroke=\"black\" d=\"M1026.8,-324.03C976.16,-334.28 911.58,-347.34 859.24,-357.93\"/>\n<polygon fill=\"black\" stroke=\"black\" points=\"858.38,-354.54 849.28,-359.95 859.77,-361.4 858.38,-354.54\"/>\n</g>\n<!-- 2306050509716128878&#45;&gt;&#45;5331631200289065248 -->\n<g id=\"edge24\" class=\"edge\">\n<title>2306050509716128878&#45;&gt;&#45;5331631200289065248</title>\n<path fill=\"none\" stroke=\"black\" d=\"M1209.2,-252.12C1191.89,-261.45 1170.28,-273.08 1151.74,-283.06\"/>\n<polygon fill=\"black\" stroke=\"black\" points=\"1150.07,-279.99 1142.92,-287.81 1153.39,-286.15 1150.07,-279.99\"/>\n</g>\n<!-- 1169001044720891396&#45;&gt;7224418733582006455 -->\n<g id=\"edge9\" class=\"edge\">\n<title>1169001044720891396&#45;&gt;7224418733582006455</title>\n<path fill=\"none\" stroke=\"black\" d=\"M1391.41,-396.06C1252.27,-435.24 910.51,-531.47 762.37,-573.18\"/>\n<polygon fill=\"black\" stroke=\"black\" points=\"761.15,-569.89 752.47,-575.97 763.05,-576.63 761.15,-569.89\"/>\n</g>\n<!-- &#45;6055556119584968970 -->\n<g id=\"node22\" class=\"node\">\n<title>&#45;6055556119584968970</title>\n<polygon fill=\"none\" stroke=\"black\" points=\"1044.5,-756 847.5,-756 847.5,-720 1044.5,-720 1044.5,-756\"/>\n<text text-anchor=\"middle\" x=\"946\" y=\"-733\" font-family=\"Helvetica,sans-Serif\" font-size=\"20.00\">Between(Projection)</text>\n</g>\n<!-- &#45;6055556119584968970&#45;&gt;3341654167241365909 -->\n<g id=\"edge5\" class=\"edge\">\n<title>&#45;6055556119584968970&#45;&gt;3341654167241365909</title>\n<path fill=\"none\" stroke=\"black\" d=\"M884.19,-756.03C847.93,-766.03 801.94,-778.7 764.04,-789.15\"/>\n<polygon fill=\"black\" stroke=\"black\" points=\"762.8,-785.86 754.09,-791.89 764.66,-792.61 762.8,-785.86\"/>\n</g>\n<!-- 8812132163742419598&#45;&gt;&#45;6055556119584968970 -->\n<g id=\"edge27\" class=\"edge\">\n<title>8812132163742419598&#45;&gt;&#45;6055556119584968970</title>\n<path fill=\"none\" stroke=\"black\" d=\"M975.36,-684.3C970.87,-692.36 965.44,-702.11 960.48,-711.02\"/>\n<polygon fill=\"black\" stroke=\"black\" points=\"957.34,-709.46 955.53,-719.9 963.45,-712.86 957.34,-709.46\"/>\n</g>\n</g>\n</svg>\n",
            "text/plain": [
              "<graphviz.graphs.Digraph at 0x78bd0b42f110>"
            ]
          },
          "metadata": {},
          "execution_count": 31
        }
      ]
    },
    {
      "cell_type": "code",
      "source": [
        "# form the dataset\n",
        "\n",
        "pickup_coord_dataset = df_final.loc[:,['pickup_latitude','pickup_longitude']].compute()\n",
        "\n",
        "print(\"Shape of the dataset is \", pickup_coord_dataset.shape)"
      ],
      "metadata": {
        "colab": {
          "base_uri": "https://localhost:8080/"
        },
        "id": "aQyW7txUsZl_",
        "outputId": "36e79b11-b7cf-4d18-8449-61146663a85a"
      },
      "execution_count": 32,
      "outputs": [
        {
          "output_type": "stream",
          "name": "stdout",
          "text": [
            "Shape of the dataset is  (31516830, 2)\n"
          ]
        }
      ]
    },
    {
      "cell_type": "code",
      "source": [
        "pickup_coord_dataset"
      ],
      "metadata": {
        "colab": {
          "base_uri": "https://localhost:8080/",
          "height": 433
        },
        "id": "Y7mzUdN2sZpn",
        "outputId": "f5b7b895-e622-45a4-abc6-a18a2d990454"
      },
      "execution_count": 34,
      "outputs": [
        {
          "output_type": "execute_result",
          "data": {
            "text/plain": [
              "        pickup_latitude  pickup_longitude\n",
              "0             40.734695        -73.990372\n",
              "1             40.729912        -73.980782\n",
              "2             40.679565        -73.984550\n",
              "3             40.718990        -73.993469\n",
              "4             40.781330        -73.960625\n",
              "...                 ...               ...\n",
              "418490        40.750751        -74.003578\n",
              "418491        40.734852        -74.002159\n",
              "418492        40.751011        -74.003578\n",
              "418494        40.766586        -73.994240\n",
              "418495        40.776531        -73.948067\n",
              "\n",
              "[31516830 rows x 2 columns]"
            ],
            "text/html": [
              "\n",
              "  <div id=\"df-1199e80e-5f01-43f9-adce-31bca353df51\" class=\"colab-df-container\">\n",
              "    <div>\n",
              "<style scoped>\n",
              "    .dataframe tbody tr th:only-of-type {\n",
              "        vertical-align: middle;\n",
              "    }\n",
              "\n",
              "    .dataframe tbody tr th {\n",
              "        vertical-align: top;\n",
              "    }\n",
              "\n",
              "    .dataframe thead th {\n",
              "        text-align: right;\n",
              "    }\n",
              "</style>\n",
              "<table border=\"1\" class=\"dataframe\">\n",
              "  <thead>\n",
              "    <tr style=\"text-align: right;\">\n",
              "      <th></th>\n",
              "      <th>pickup_latitude</th>\n",
              "      <th>pickup_longitude</th>\n",
              "    </tr>\n",
              "  </thead>\n",
              "  <tbody>\n",
              "    <tr>\n",
              "      <th>0</th>\n",
              "      <td>40.734695</td>\n",
              "      <td>-73.990372</td>\n",
              "    </tr>\n",
              "    <tr>\n",
              "      <th>1</th>\n",
              "      <td>40.729912</td>\n",
              "      <td>-73.980782</td>\n",
              "    </tr>\n",
              "    <tr>\n",
              "      <th>2</th>\n",
              "      <td>40.679565</td>\n",
              "      <td>-73.984550</td>\n",
              "    </tr>\n",
              "    <tr>\n",
              "      <th>3</th>\n",
              "      <td>40.718990</td>\n",
              "      <td>-73.993469</td>\n",
              "    </tr>\n",
              "    <tr>\n",
              "      <th>4</th>\n",
              "      <td>40.781330</td>\n",
              "      <td>-73.960625</td>\n",
              "    </tr>\n",
              "    <tr>\n",
              "      <th>...</th>\n",
              "      <td>...</td>\n",
              "      <td>...</td>\n",
              "    </tr>\n",
              "    <tr>\n",
              "      <th>418490</th>\n",
              "      <td>40.750751</td>\n",
              "      <td>-74.003578</td>\n",
              "    </tr>\n",
              "    <tr>\n",
              "      <th>418491</th>\n",
              "      <td>40.734852</td>\n",
              "      <td>-74.002159</td>\n",
              "    </tr>\n",
              "    <tr>\n",
              "      <th>418492</th>\n",
              "      <td>40.751011</td>\n",
              "      <td>-74.003578</td>\n",
              "    </tr>\n",
              "    <tr>\n",
              "      <th>418494</th>\n",
              "      <td>40.766586</td>\n",
              "      <td>-73.994240</td>\n",
              "    </tr>\n",
              "    <tr>\n",
              "      <th>418495</th>\n",
              "      <td>40.776531</td>\n",
              "      <td>-73.948067</td>\n",
              "    </tr>\n",
              "  </tbody>\n",
              "</table>\n",
              "<p>31516830 rows × 2 columns</p>\n",
              "</div>\n",
              "    <div class=\"colab-df-buttons\">\n",
              "\n",
              "  <div class=\"colab-df-container\">\n",
              "    <button class=\"colab-df-convert\" onclick=\"convertToInteractive('df-1199e80e-5f01-43f9-adce-31bca353df51')\"\n",
              "            title=\"Convert this dataframe to an interactive table.\"\n",
              "            style=\"display:none;\">\n",
              "\n",
              "  <svg xmlns=\"http://www.w3.org/2000/svg\" height=\"24px\" viewBox=\"0 -960 960 960\">\n",
              "    <path d=\"M120-120v-720h720v720H120Zm60-500h600v-160H180v160Zm220 220h160v-160H400v160Zm0 220h160v-160H400v160ZM180-400h160v-160H180v160Zm440 0h160v-160H620v160ZM180-180h160v-160H180v160Zm440 0h160v-160H620v160Z\"/>\n",
              "  </svg>\n",
              "    </button>\n",
              "\n",
              "  <style>\n",
              "    .colab-df-container {\n",
              "      display:flex;\n",
              "      gap: 12px;\n",
              "    }\n",
              "\n",
              "    .colab-df-convert {\n",
              "      background-color: #E8F0FE;\n",
              "      border: none;\n",
              "      border-radius: 50%;\n",
              "      cursor: pointer;\n",
              "      display: none;\n",
              "      fill: #1967D2;\n",
              "      height: 32px;\n",
              "      padding: 0 0 0 0;\n",
              "      width: 32px;\n",
              "    }\n",
              "\n",
              "    .colab-df-convert:hover {\n",
              "      background-color: #E2EBFA;\n",
              "      box-shadow: 0px 1px 2px rgba(60, 64, 67, 0.3), 0px 1px 3px 1px rgba(60, 64, 67, 0.15);\n",
              "      fill: #174EA6;\n",
              "    }\n",
              "\n",
              "    .colab-df-buttons div {\n",
              "      margin-bottom: 4px;\n",
              "    }\n",
              "\n",
              "    [theme=dark] .colab-df-convert {\n",
              "      background-color: #3B4455;\n",
              "      fill: #D2E3FC;\n",
              "    }\n",
              "\n",
              "    [theme=dark] .colab-df-convert:hover {\n",
              "      background-color: #434B5C;\n",
              "      box-shadow: 0px 1px 3px 1px rgba(0, 0, 0, 0.15);\n",
              "      filter: drop-shadow(0px 1px 2px rgba(0, 0, 0, 0.3));\n",
              "      fill: #FFFFFF;\n",
              "    }\n",
              "  </style>\n",
              "\n",
              "    <script>\n",
              "      const buttonEl =\n",
              "        document.querySelector('#df-1199e80e-5f01-43f9-adce-31bca353df51 button.colab-df-convert');\n",
              "      buttonEl.style.display =\n",
              "        google.colab.kernel.accessAllowed ? 'block' : 'none';\n",
              "\n",
              "      async function convertToInteractive(key) {\n",
              "        const element = document.querySelector('#df-1199e80e-5f01-43f9-adce-31bca353df51');\n",
              "        const dataTable =\n",
              "          await google.colab.kernel.invokeFunction('convertToInteractive',\n",
              "                                                    [key], {});\n",
              "        if (!dataTable) return;\n",
              "\n",
              "        const docLinkHtml = 'Like what you see? Visit the ' +\n",
              "          '<a target=\"_blank\" href=https://colab.research.google.com/notebooks/data_table.ipynb>data table notebook</a>'\n",
              "          + ' to learn more about interactive tables.';\n",
              "        element.innerHTML = '';\n",
              "        dataTable['output_type'] = 'display_data';\n",
              "        await google.colab.output.renderOutput(dataTable, element);\n",
              "        const docLink = document.createElement('div');\n",
              "        docLink.innerHTML = docLinkHtml;\n",
              "        element.appendChild(docLink);\n",
              "      }\n",
              "    </script>\n",
              "  </div>\n",
              "\n",
              "\n",
              "<div id=\"df-8b002e4c-e355-4199-8430-4b837a70cbc5\">\n",
              "  <button class=\"colab-df-quickchart\" onclick=\"quickchart('df-8b002e4c-e355-4199-8430-4b837a70cbc5')\"\n",
              "            title=\"Suggest charts\"\n",
              "            style=\"display:none;\">\n",
              "\n",
              "<svg xmlns=\"http://www.w3.org/2000/svg\" height=\"24px\"viewBox=\"0 0 24 24\"\n",
              "     width=\"24px\">\n",
              "    <g>\n",
              "        <path d=\"M19 3H5c-1.1 0-2 .9-2 2v14c0 1.1.9 2 2 2h14c1.1 0 2-.9 2-2V5c0-1.1-.9-2-2-2zM9 17H7v-7h2v7zm4 0h-2V7h2v10zm4 0h-2v-4h2v4z\"/>\n",
              "    </g>\n",
              "</svg>\n",
              "  </button>\n",
              "\n",
              "<style>\n",
              "  .colab-df-quickchart {\n",
              "      --bg-color: #E8F0FE;\n",
              "      --fill-color: #1967D2;\n",
              "      --hover-bg-color: #E2EBFA;\n",
              "      --hover-fill-color: #174EA6;\n",
              "      --disabled-fill-color: #AAA;\n",
              "      --disabled-bg-color: #DDD;\n",
              "  }\n",
              "\n",
              "  [theme=dark] .colab-df-quickchart {\n",
              "      --bg-color: #3B4455;\n",
              "      --fill-color: #D2E3FC;\n",
              "      --hover-bg-color: #434B5C;\n",
              "      --hover-fill-color: #FFFFFF;\n",
              "      --disabled-bg-color: #3B4455;\n",
              "      --disabled-fill-color: #666;\n",
              "  }\n",
              "\n",
              "  .colab-df-quickchart {\n",
              "    background-color: var(--bg-color);\n",
              "    border: none;\n",
              "    border-radius: 50%;\n",
              "    cursor: pointer;\n",
              "    display: none;\n",
              "    fill: var(--fill-color);\n",
              "    height: 32px;\n",
              "    padding: 0;\n",
              "    width: 32px;\n",
              "  }\n",
              "\n",
              "  .colab-df-quickchart:hover {\n",
              "    background-color: var(--hover-bg-color);\n",
              "    box-shadow: 0 1px 2px rgba(60, 64, 67, 0.3), 0 1px 3px 1px rgba(60, 64, 67, 0.15);\n",
              "    fill: var(--button-hover-fill-color);\n",
              "  }\n",
              "\n",
              "  .colab-df-quickchart-complete:disabled,\n",
              "  .colab-df-quickchart-complete:disabled:hover {\n",
              "    background-color: var(--disabled-bg-color);\n",
              "    fill: var(--disabled-fill-color);\n",
              "    box-shadow: none;\n",
              "  }\n",
              "\n",
              "  .colab-df-spinner {\n",
              "    border: 2px solid var(--fill-color);\n",
              "    border-color: transparent;\n",
              "    border-bottom-color: var(--fill-color);\n",
              "    animation:\n",
              "      spin 1s steps(1) infinite;\n",
              "  }\n",
              "\n",
              "  @keyframes spin {\n",
              "    0% {\n",
              "      border-color: transparent;\n",
              "      border-bottom-color: var(--fill-color);\n",
              "      border-left-color: var(--fill-color);\n",
              "    }\n",
              "    20% {\n",
              "      border-color: transparent;\n",
              "      border-left-color: var(--fill-color);\n",
              "      border-top-color: var(--fill-color);\n",
              "    }\n",
              "    30% {\n",
              "      border-color: transparent;\n",
              "      border-left-color: var(--fill-color);\n",
              "      border-top-color: var(--fill-color);\n",
              "      border-right-color: var(--fill-color);\n",
              "    }\n",
              "    40% {\n",
              "      border-color: transparent;\n",
              "      border-right-color: var(--fill-color);\n",
              "      border-top-color: var(--fill-color);\n",
              "    }\n",
              "    60% {\n",
              "      border-color: transparent;\n",
              "      border-right-color: var(--fill-color);\n",
              "    }\n",
              "    80% {\n",
              "      border-color: transparent;\n",
              "      border-right-color: var(--fill-color);\n",
              "      border-bottom-color: var(--fill-color);\n",
              "    }\n",
              "    90% {\n",
              "      border-color: transparent;\n",
              "      border-bottom-color: var(--fill-color);\n",
              "    }\n",
              "  }\n",
              "</style>\n",
              "\n",
              "  <script>\n",
              "    async function quickchart(key) {\n",
              "      const quickchartButtonEl =\n",
              "        document.querySelector('#' + key + ' button');\n",
              "      quickchartButtonEl.disabled = true;  // To prevent multiple clicks.\n",
              "      quickchartButtonEl.classList.add('colab-df-spinner');\n",
              "      try {\n",
              "        const charts = await google.colab.kernel.invokeFunction(\n",
              "            'suggestCharts', [key], {});\n",
              "      } catch (error) {\n",
              "        console.error('Error during call to suggestCharts:', error);\n",
              "      }\n",
              "      quickchartButtonEl.classList.remove('colab-df-spinner');\n",
              "      quickchartButtonEl.classList.add('colab-df-quickchart-complete');\n",
              "    }\n",
              "    (() => {\n",
              "      let quickchartButtonEl =\n",
              "        document.querySelector('#df-8b002e4c-e355-4199-8430-4b837a70cbc5 button');\n",
              "      quickchartButtonEl.style.display =\n",
              "        google.colab.kernel.accessAllowed ? 'block' : 'none';\n",
              "    })();\n",
              "  </script>\n",
              "</div>\n",
              "\n",
              "  <div id=\"id_8e30dc28-5dfc-4477-a747-1e3459d7c54b\">\n",
              "    <style>\n",
              "      .colab-df-generate {\n",
              "        background-color: #E8F0FE;\n",
              "        border: none;\n",
              "        border-radius: 50%;\n",
              "        cursor: pointer;\n",
              "        display: none;\n",
              "        fill: #1967D2;\n",
              "        height: 32px;\n",
              "        padding: 0 0 0 0;\n",
              "        width: 32px;\n",
              "      }\n",
              "\n",
              "      .colab-df-generate:hover {\n",
              "        background-color: #E2EBFA;\n",
              "        box-shadow: 0px 1px 2px rgba(60, 64, 67, 0.3), 0px 1px 3px 1px rgba(60, 64, 67, 0.15);\n",
              "        fill: #174EA6;\n",
              "      }\n",
              "\n",
              "      [theme=dark] .colab-df-generate {\n",
              "        background-color: #3B4455;\n",
              "        fill: #D2E3FC;\n",
              "      }\n",
              "\n",
              "      [theme=dark] .colab-df-generate:hover {\n",
              "        background-color: #434B5C;\n",
              "        box-shadow: 0px 1px 3px 1px rgba(0, 0, 0, 0.15);\n",
              "        filter: drop-shadow(0px 1px 2px rgba(0, 0, 0, 0.3));\n",
              "        fill: #FFFFFF;\n",
              "      }\n",
              "    </style>\n",
              "    <button class=\"colab-df-generate\" onclick=\"generateWithVariable('pickup_coord_dataset')\"\n",
              "            title=\"Generate code using this dataframe.\"\n",
              "            style=\"display:none;\">\n",
              "\n",
              "  <svg xmlns=\"http://www.w3.org/2000/svg\" height=\"24px\"viewBox=\"0 0 24 24\"\n",
              "       width=\"24px\">\n",
              "    <path d=\"M7,19H8.4L18.45,9,17,7.55,7,17.6ZM5,21V16.75L18.45,3.32a2,2,0,0,1,2.83,0l1.4,1.43a1.91,1.91,0,0,1,.58,1.4,1.91,1.91,0,0,1-.58,1.4L9.25,21ZM18.45,9,17,7.55Zm-12,3A5.31,5.31,0,0,0,4.9,8.1,5.31,5.31,0,0,0,1,6.5,5.31,5.31,0,0,0,4.9,4.9,5.31,5.31,0,0,0,6.5,1,5.31,5.31,0,0,0,8.1,4.9,5.31,5.31,0,0,0,12,6.5,5.46,5.46,0,0,0,6.5,12Z\"/>\n",
              "  </svg>\n",
              "    </button>\n",
              "    <script>\n",
              "      (() => {\n",
              "      const buttonEl =\n",
              "        document.querySelector('#id_8e30dc28-5dfc-4477-a747-1e3459d7c54b button.colab-df-generate');\n",
              "      buttonEl.style.display =\n",
              "        google.colab.kernel.accessAllowed ? 'block' : 'none';\n",
              "\n",
              "      buttonEl.onclick = () => {\n",
              "        google.colab.notebook.generateWithVariable('pickup_coord_dataset');\n",
              "      }\n",
              "      })();\n",
              "    </script>\n",
              "  </div>\n",
              "\n",
              "    </div>\n",
              "  </div>\n"
            ],
            "application/vnd.google.colaboratory.intrinsic+json": {
              "type": "dataframe",
              "variable_name": "pickup_coord_dataset"
            }
          },
          "metadata": {},
          "execution_count": 34
        }
      ]
    },
    {
      "cell_type": "code",
      "source": [
        "save_path = \"/content/location_data.csv\"\n",
        "\n",
        "# save the dataset\n",
        "\n",
        "pickup_coord_dataset.to_csv(save_path, index=False)"
      ],
      "metadata": {
        "id": "xp_KS8fUsZsh"
      },
      "execution_count": 36,
      "outputs": []
    },
    {
      "cell_type": "code",
      "source": [],
      "metadata": {
        "id": "pls_aWtTsZu1"
      },
      "execution_count": null,
      "outputs": []
    },
    {
      "cell_type": "code",
      "source": [],
      "metadata": {
        "id": "efSJHc6bsZxc"
      },
      "execution_count": null,
      "outputs": []
    },
    {
      "cell_type": "code",
      "source": [],
      "metadata": {
        "id": "ete59o50sZ0k"
      },
      "execution_count": null,
      "outputs": []
    }
  ]
}