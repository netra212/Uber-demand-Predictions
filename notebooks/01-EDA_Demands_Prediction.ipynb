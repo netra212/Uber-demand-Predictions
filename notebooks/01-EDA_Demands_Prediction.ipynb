{
  "nbformat": 4,
  "nbformat_minor": 0,
  "metadata": {
    "colab": {
      "provenance": [],
      "machine_shape": "hm",
      "gpuType": "V28",
      "cell_execution_strategy": "setup"
    },
    "kernelspec": {
      "name": "python3",
      "display_name": "Python 3"
    },
    "language_info": {
      "name": "python"
    },
    "accelerator": "TPU"
  },
  "cells": [
    {
      "cell_type": "code",
      "source": [
        "!mkdir -p ~/.kaggle\n",
        "!mv kaggle.json ~/.kaggle/\n",
        "!chmod 600 ~/.kaggle/kaggle.json"
      ],
      "metadata": {
        "colab": {
          "base_uri": "https://localhost:8080/"
        },
        "id": "Z1CvtXM4S7sh",
        "outputId": "b112ed8a-1eb5-4a68-9669-90194b472c87"
      },
      "execution_count": 1,
      "outputs": [
        {
          "output_type": "stream",
          "name": "stdout",
          "text": [
            "mv: cannot stat 'kaggle.json': No such file or directory\n"
          ]
        }
      ]
    },
    {
      "cell_type": "code",
      "source": [
        "!kaggle datasets download -d elemento/nyc-yellow-taxi-trip-data --unzip"
      ],
      "metadata": {
        "colab": {
          "base_uri": "https://localhost:8080/"
        },
        "id": "_D9w3KLpTEv1",
        "outputId": "3f106d00-a951-4799-b445-d1435f11f685"
      },
      "execution_count": 4,
      "outputs": [
        {
          "output_type": "stream",
          "name": "stdout",
          "text": [
            "Dataset URL: https://www.kaggle.com/datasets/elemento/nyc-yellow-taxi-trip-data\n",
            "License(s): U.S. Government Works\n"
          ]
        }
      ]
    },
    {
      "cell_type": "code",
      "source": [
        "import numpy as np\n",
        "import pandas as pd\n",
        "import dask.dataframe as dd\n",
        "import matplotlib.pyplot as plt\n",
        "import seaborn as sns"
      ],
      "metadata": {
        "id": "EN8GUZ4DTFTx"
      },
      "execution_count": 2,
      "outputs": []
    },
    {
      "cell_type": "markdown",
      "source": [
        "### **Import the Data**"
      ],
      "metadata": {
        "id": "XHp8M0udTSuj"
      }
    },
    {
      "cell_type": "code",
      "source": [
        "# paths for the three dfs\n",
        "\n",
        "df_jan_path = \"/content/yellow_tripdata_2016-01.csv\"\n",
        "df_feb_path = \"/content/yellow_tripdata_2016-01.csv\"\n",
        "df_mar_path = \"/content/yellow_tripdata_2016-01.csv\"\n",
        "\n",
        "# load the dataframes\n",
        "\n",
        "df_jan = dd.read_csv(df_jan_path, assume_missing=True)\n",
        "df_feb = dd.read_csv(df_feb_path, assume_missing=True)\n",
        "df_mar = dd.read_csv(df_mar_path, assume_missing=True)"
      ],
      "metadata": {
        "id": "oR7WtkLjTQ1N"
      },
      "execution_count": 4,
      "outputs": []
    },
    {
      "cell_type": "code",
      "source": [
        "# print\n",
        "\n",
        "df_jan"
      ],
      "metadata": {
        "colab": {
          "base_uri": "https://localhost:8080/",
          "height": 285
        },
        "id": "UKa_EhjiTaRo",
        "outputId": "3b29caec-9684-4a78-b911-88ca249ff020"
      },
      "execution_count": 5,
      "outputs": [
        {
          "output_type": "execute_result",
          "data": {
            "text/plain": [
              "Dask DataFrame Structure:\n",
              "               VendorID tpep_pickup_datetime tpep_dropoff_datetime passenger_count trip_distance pickup_longitude pickup_latitude RatecodeID store_and_fwd_flag dropoff_longitude dropoff_latitude payment_type fare_amount    extra  mta_tax tip_amount tolls_amount improvement_surcharge total_amount\n",
              "npartitions=26                                                                                                                                                                                                                                                                                          \n",
              "                float64               string                string         float64       float64          float64         float64    float64             string           float64          float64      float64     float64  float64  float64    float64      float64               float64      float64\n",
              "                    ...                  ...                   ...             ...           ...              ...             ...        ...                ...               ...              ...          ...         ...      ...      ...        ...          ...                   ...          ...\n",
              "...                 ...                  ...                   ...             ...           ...              ...             ...        ...                ...               ...              ...          ...         ...      ...      ...        ...          ...                   ...          ...\n",
              "                    ...                  ...                   ...             ...           ...              ...             ...        ...                ...               ...              ...          ...         ...      ...      ...        ...          ...                   ...          ...\n",
              "                    ...                  ...                   ...             ...           ...              ...             ...        ...                ...               ...              ...          ...         ...      ...      ...        ...          ...                   ...          ...\n",
              "Dask Name: to_string_dtype, 2 expressions\n",
              "Expr=ArrowStringConversion(frame=FromMapProjectable(2dd432b))"
            ],
            "text/html": [
              "<div><strong>Dask DataFrame Structure:</strong></div>\n",
              "<table border=\"1\" class=\"dataframe\">\n",
              "  <thead>\n",
              "    <tr style=\"text-align: right;\">\n",
              "      <th></th>\n",
              "      <th>VendorID</th>\n",
              "      <th>tpep_pickup_datetime</th>\n",
              "      <th>tpep_dropoff_datetime</th>\n",
              "      <th>passenger_count</th>\n",
              "      <th>trip_distance</th>\n",
              "      <th>pickup_longitude</th>\n",
              "      <th>pickup_latitude</th>\n",
              "      <th>RatecodeID</th>\n",
              "      <th>store_and_fwd_flag</th>\n",
              "      <th>dropoff_longitude</th>\n",
              "      <th>dropoff_latitude</th>\n",
              "      <th>payment_type</th>\n",
              "      <th>fare_amount</th>\n",
              "      <th>extra</th>\n",
              "      <th>mta_tax</th>\n",
              "      <th>tip_amount</th>\n",
              "      <th>tolls_amount</th>\n",
              "      <th>improvement_surcharge</th>\n",
              "      <th>total_amount</th>\n",
              "    </tr>\n",
              "    <tr>\n",
              "      <th>npartitions=26</th>\n",
              "      <th></th>\n",
              "      <th></th>\n",
              "      <th></th>\n",
              "      <th></th>\n",
              "      <th></th>\n",
              "      <th></th>\n",
              "      <th></th>\n",
              "      <th></th>\n",
              "      <th></th>\n",
              "      <th></th>\n",
              "      <th></th>\n",
              "      <th></th>\n",
              "      <th></th>\n",
              "      <th></th>\n",
              "      <th></th>\n",
              "      <th></th>\n",
              "      <th></th>\n",
              "      <th></th>\n",
              "      <th></th>\n",
              "    </tr>\n",
              "  </thead>\n",
              "  <tbody>\n",
              "    <tr>\n",
              "      <th></th>\n",
              "      <td>float64</td>\n",
              "      <td>string</td>\n",
              "      <td>string</td>\n",
              "      <td>float64</td>\n",
              "      <td>float64</td>\n",
              "      <td>float64</td>\n",
              "      <td>float64</td>\n",
              "      <td>float64</td>\n",
              "      <td>string</td>\n",
              "      <td>float64</td>\n",
              "      <td>float64</td>\n",
              "      <td>float64</td>\n",
              "      <td>float64</td>\n",
              "      <td>float64</td>\n",
              "      <td>float64</td>\n",
              "      <td>float64</td>\n",
              "      <td>float64</td>\n",
              "      <td>float64</td>\n",
              "      <td>float64</td>\n",
              "    </tr>\n",
              "    <tr>\n",
              "      <th></th>\n",
              "      <td>...</td>\n",
              "      <td>...</td>\n",
              "      <td>...</td>\n",
              "      <td>...</td>\n",
              "      <td>...</td>\n",
              "      <td>...</td>\n",
              "      <td>...</td>\n",
              "      <td>...</td>\n",
              "      <td>...</td>\n",
              "      <td>...</td>\n",
              "      <td>...</td>\n",
              "      <td>...</td>\n",
              "      <td>...</td>\n",
              "      <td>...</td>\n",
              "      <td>...</td>\n",
              "      <td>...</td>\n",
              "      <td>...</td>\n",
              "      <td>...</td>\n",
              "      <td>...</td>\n",
              "    </tr>\n",
              "    <tr>\n",
              "      <th>...</th>\n",
              "      <td>...</td>\n",
              "      <td>...</td>\n",
              "      <td>...</td>\n",
              "      <td>...</td>\n",
              "      <td>...</td>\n",
              "      <td>...</td>\n",
              "      <td>...</td>\n",
              "      <td>...</td>\n",
              "      <td>...</td>\n",
              "      <td>...</td>\n",
              "      <td>...</td>\n",
              "      <td>...</td>\n",
              "      <td>...</td>\n",
              "      <td>...</td>\n",
              "      <td>...</td>\n",
              "      <td>...</td>\n",
              "      <td>...</td>\n",
              "      <td>...</td>\n",
              "      <td>...</td>\n",
              "    </tr>\n",
              "    <tr>\n",
              "      <th></th>\n",
              "      <td>...</td>\n",
              "      <td>...</td>\n",
              "      <td>...</td>\n",
              "      <td>...</td>\n",
              "      <td>...</td>\n",
              "      <td>...</td>\n",
              "      <td>...</td>\n",
              "      <td>...</td>\n",
              "      <td>...</td>\n",
              "      <td>...</td>\n",
              "      <td>...</td>\n",
              "      <td>...</td>\n",
              "      <td>...</td>\n",
              "      <td>...</td>\n",
              "      <td>...</td>\n",
              "      <td>...</td>\n",
              "      <td>...</td>\n",
              "      <td>...</td>\n",
              "      <td>...</td>\n",
              "    </tr>\n",
              "    <tr>\n",
              "      <th></th>\n",
              "      <td>...</td>\n",
              "      <td>...</td>\n",
              "      <td>...</td>\n",
              "      <td>...</td>\n",
              "      <td>...</td>\n",
              "      <td>...</td>\n",
              "      <td>...</td>\n",
              "      <td>...</td>\n",
              "      <td>...</td>\n",
              "      <td>...</td>\n",
              "      <td>...</td>\n",
              "      <td>...</td>\n",
              "      <td>...</td>\n",
              "      <td>...</td>\n",
              "      <td>...</td>\n",
              "      <td>...</td>\n",
              "      <td>...</td>\n",
              "      <td>...</td>\n",
              "      <td>...</td>\n",
              "    </tr>\n",
              "  </tbody>\n",
              "</table>\n",
              "<div>Dask Name: to_string_dtype, 2 expressions</div>"
            ]
          },
          "metadata": {},
          "execution_count": 5
        }
      ]
    },
    {
      "cell_type": "code",
      "source": [
        "# visualize the chunks using the task graph\n",
        "\n",
        "df_jan.visualize(tasks=True)"
      ],
      "metadata": {
        "colab": {
          "base_uri": "https://localhost:8080/",
          "height": 193
        },
        "id": "18qB0To5TtFj",
        "outputId": "12db82d2-a649-4083-9a01-eb3d893f8129"
      },
      "execution_count": 13,
      "outputs": [
        {
          "output_type": "execute_result",
          "data": {
            "image/png": "[encoded data removed]",
            "text/plain": [
              "<IPython.core.display.Image object>"
            ]
          },
          "metadata": {},
          "execution_count": 13
        }
      ]
    },
    {
      "cell_type": "code",
      "source": [
        "# shape of all the three datasets\n",
        "\n",
        "print(\"Shape of january dataset\", df_jan.shape)\n",
        "print(\"Shape of february dataset\", df_feb.shape)\n",
        "print(\"Shape of march dataset\", df_mar.shape)"
      ],
      "metadata": {
        "colab": {
          "base_uri": "https://localhost:8080/"
        },
        "id": "FuGgrA6CUAYB",
        "outputId": "f6da2337-7f15-4810-9883-1824f9bf1a1f"
      },
      "execution_count": 14,
      "outputs": [
        {
          "output_type": "stream",
          "name": "stdout",
          "text": [
            "Shape of january dataset (<dask_expr.expr.Scalar: expr=ArrowStringConversion(frame=FromMapProjectable(2dd432b)).size() // 19, dtype=int64>, 19)\n",
            "Shape of february dataset (<dask_expr.expr.Scalar: expr=ArrowStringConversion(frame=FromMapProjectable(2dd432b)).size() // 19, dtype=int64>, 19)\n",
            "Shape of march dataset (<dask_expr.expr.Scalar: expr=ArrowStringConversion(frame=FromMapProjectable(2dd432b)).size() // 19, dtype=int64>, 19)\n"
          ]
        }
      ]
    },
    {
      "cell_type": "code",
      "source": [
        "# We can concat the three dataframes as the number of columns are same in all the three dfs\n",
        "\n",
        "# concat the three dataframes as one\n",
        "\n",
        "df_final = dd.concat([df_jan, df_feb, df_mar], axis=0).drop(columns=['extra', 'mta_tax', 'tip_amount', 'tolls_amount',\n",
        "       'improvement_surcharge', 'total_amount', 'payment_type'])"
      ],
      "metadata": {
        "id": "ghTf2LXPUL5O"
      },
      "execution_count": 15,
      "outputs": []
    },
    {
      "cell_type": "code",
      "source": [
        "df_final"
      ],
      "metadata": {
        "colab": {
          "base_uri": "https://localhost:8080/",
          "height": 285
        },
        "id": "HX1oj72TUL7j",
        "outputId": "2505ee88-4aa9-4a1f-b9e8-02747da2669d"
      },
      "execution_count": 16,
      "outputs": [
        {
          "output_type": "execute_result",
          "data": {
            "text/plain": [
              "Dask DataFrame Structure:\n",
              "               VendorID tpep_pickup_datetime tpep_dropoff_datetime passenger_count trip_distance pickup_longitude pickup_latitude RatecodeID store_and_fwd_flag dropoff_longitude dropoff_latitude fare_amount\n",
              "npartitions=78                                                                                                                                                                                                \n",
              "                float64               string                string         float64       float64          float64         float64    float64             string           float64          float64     float64\n",
              "                    ...                  ...                   ...             ...           ...              ...             ...        ...                ...               ...              ...         ...\n",
              "...                 ...                  ...                   ...             ...           ...              ...             ...        ...                ...               ...              ...         ...\n",
              "                    ...                  ...                   ...             ...           ...              ...             ...        ...                ...               ...              ...         ...\n",
              "                    ...                  ...                   ...             ...           ...              ...             ...        ...                ...               ...              ...         ...\n",
              "Dask Name: drop_by_shallow_copy, 4 expressions\n",
              "Expr=Drop(frame=Concat(frames=[ArrowStringConversion(frame=FromMapProjectable(2dd432b)), ArrowStringConversion(frame=FromMapProjectable(2dd432b)), ArrowStringConversion(frame=FromMapProjectable(2dd432b))], ), columns=['extra', 'mta_tax', 'tip_amount', 'tolls_amount', 'improvement_surcharge', 'total_amount', 'payment_type'])"
            ],
            "text/html": [
              "<div><strong>Dask DataFrame Structure:</strong></div>\n",
              "<table border=\"1\" class=\"dataframe\">\n",
              "  <thead>\n",
              "    <tr style=\"text-align: right;\">\n",
              "      <th></th>\n",
              "      <th>VendorID</th>\n",
              "      <th>tpep_pickup_datetime</th>\n",
              "      <th>tpep_dropoff_datetime</th>\n",
              "      <th>passenger_count</th>\n",
              "      <th>trip_distance</th>\n",
              "      <th>pickup_longitude</th>\n",
              "      <th>pickup_latitude</th>\n",
              "      <th>RatecodeID</th>\n",
              "      <th>store_and_fwd_flag</th>\n",
              "      <th>dropoff_longitude</th>\n",
              "      <th>dropoff_latitude</th>\n",
              "      <th>fare_amount</th>\n",
              "    </tr>\n",
              "    <tr>\n",
              "      <th>npartitions=78</th>\n",
              "      <th></th>\n",
              "      <th></th>\n",
              "      <th></th>\n",
              "      <th></th>\n",
              "      <th></th>\n",
              "      <th></th>\n",
              "      <th></th>\n",
              "      <th></th>\n",
              "      <th></th>\n",
              "      <th></th>\n",
              "      <th></th>\n",
              "      <th></th>\n",
              "    </tr>\n",
              "  </thead>\n",
              "  <tbody>\n",
              "    <tr>\n",
              "      <th></th>\n",
              "      <td>float64</td>\n",
              "      <td>string</td>\n",
              "      <td>string</td>\n",
              "      <td>float64</td>\n",
              "      <td>float64</td>\n",
              "      <td>float64</td>\n",
              "      <td>float64</td>\n",
              "      <td>float64</td>\n",
              "      <td>string</td>\n",
              "      <td>float64</td>\n",
              "      <td>float64</td>\n",
              "      <td>float64</td>\n",
              "    </tr>\n",
              "    <tr>\n",
              "      <th></th>\n",
              "      <td>...</td>\n",
              "      <td>...</td>\n",
              "      <td>...</td>\n",
              "      <td>...</td>\n",
              "      <td>...</td>\n",
              "      <td>...</td>\n",
              "      <td>...</td>\n",
              "      <td>...</td>\n",
              "      <td>...</td>\n",
              "      <td>...</td>\n",
              "      <td>...</td>\n",
              "      <td>...</td>\n",
              "    </tr>\n",
              "    <tr>\n",
              "      <th>...</th>\n",
              "      <td>...</td>\n",
              "      <td>...</td>\n",
              "      <td>...</td>\n",
              "      <td>...</td>\n",
              "      <td>...</td>\n",
              "      <td>...</td>\n",
              "      <td>...</td>\n",
              "      <td>...</td>\n",
              "      <td>...</td>\n",
              "      <td>...</td>\n",
              "      <td>...</td>\n",
              "      <td>...</td>\n",
              "    </tr>\n",
              "    <tr>\n",
              "      <th></th>\n",
              "      <td>...</td>\n",
              "      <td>...</td>\n",
              "      <td>...</td>\n",
              "      <td>...</td>\n",
              "      <td>...</td>\n",
              "      <td>...</td>\n",
              "      <td>...</td>\n",
              "      <td>...</td>\n",
              "      <td>...</td>\n",
              "      <td>...</td>\n",
              "      <td>...</td>\n",
              "      <td>...</td>\n",
              "    </tr>\n",
              "    <tr>\n",
              "      <th></th>\n",
              "      <td>...</td>\n",
              "      <td>...</td>\n",
              "      <td>...</td>\n",
              "      <td>...</td>\n",
              "      <td>...</td>\n",
              "      <td>...</td>\n",
              "      <td>...</td>\n",
              "      <td>...</td>\n",
              "      <td>...</td>\n",
              "      <td>...</td>\n",
              "      <td>...</td>\n",
              "      <td>...</td>\n",
              "    </tr>\n",
              "  </tbody>\n",
              "</table>\n",
              "<div>Dask Name: drop_by_shallow_copy, 4 expressions</div>"
            ]
          },
          "metadata": {},
          "execution_count": 16
        }
      ]
    },
    {
      "cell_type": "code",
      "source": [
        "# visulaize the concatenation\n",
        "\n",
        "df_final.visualize()"
      ],
      "metadata": {
        "colab": {
          "base_uri": "https://localhost:8080/",
          "height": 389
        },
        "id": "yBPEoaaMUL95",
        "outputId": "996dda2f-930b-417c-84ed-f93b3b14ccd8"
      },
      "execution_count": 17,
      "outputs": [
        {
          "output_type": "execute_result",
          "data": {
            "image/svg+xml": "<?xml version=\"1.0\" encoding=\"UTF-8\" standalone=\"no\"?>\n<!DOCTYPE svg PUBLIC \"-//W3C//DTD SVG 1.1//EN\"\n \"http://www.w3.org/Graphics/SVG/1.1/DTD/svg11.dtd\">\n<!-- Generated by graphviz version 2.43.0 (0)\n -->\n<!-- Title: %3 Pages: 1 -->\n<svg width=\"739pt\" height=\"260pt\"\n viewBox=\"0.00 0.00 739.00 260.00\" xmlns=\"http://www.w3.org/2000/svg\" xmlns:xlink=\"http://www.w3.org/1999/xlink\">\n<g id=\"graph0\" class=\"graph\" transform=\"scale(1 1) rotate(0) translate(4 256)\">\n<title>%3</title>\n<polygon fill=\"white\" stroke=\"transparent\" points=\"-4,4 -4,-256 735,-256 735,4 -4,4\"/>\n<!-- &#45;1980465335869368908 -->\n<g id=\"node1\" class=\"node\">\n<title>&#45;1980465335869368908</title>\n<polygon fill=\"none\" stroke=\"black\" points=\"434,-252 297,-252 297,-216 434,-216 434,-252\"/>\n<text text-anchor=\"middle\" x=\"365.5\" y=\"-229\" font-family=\"Helvetica,sans-Serif\" font-size=\"20.00\">Drop(Concat)</text>\n</g>\n<!-- 1341296637188645068 -->\n<g id=\"node2\" class=\"node\">\n<title>1341296637188645068</title>\n<polygon fill=\"none\" stroke=\"black\" points=\"731,-180 0,-180 0,-144 731,-144 731,-180\"/>\n<text text-anchor=\"middle\" x=\"365.5\" y=\"-157\" font-family=\"Helvetica,sans-Serif\" font-size=\"20.00\">Concat(ArrowStringConversion, ArrowStringConversion, ArrowStringConversion)</text>\n</g>\n<!-- 1341296637188645068&#45;&gt;&#45;1980465335869368908 -->\n<g id=\"edge1\" class=\"edge\">\n<title>1341296637188645068&#45;&gt;&#45;1980465335869368908</title>\n<path fill=\"none\" stroke=\"black\" d=\"M365.5,-180.3C365.5,-188.02 365.5,-197.29 365.5,-205.89\"/>\n<polygon fill=\"black\" stroke=\"black\" points=\"362,-205.9 365.5,-215.9 369,-205.9 362,-205.9\"/>\n</g>\n<!-- &#45;7566481729919965046 -->\n<g id=\"node3\" class=\"node\">\n<title>&#45;7566481729919965046</title>\n<polygon fill=\"none\" stroke=\"black\" points=\"576.5,-108 154.5,-108 154.5,-72 576.5,-72 576.5,-108\"/>\n<text text-anchor=\"middle\" x=\"365.5\" y=\"-85\" font-family=\"Helvetica,sans-Serif\" font-size=\"20.00\">ArrowStringConversion(FromMapProjectable)</text>\n</g>\n<!-- &#45;7566481729919965046&#45;&gt;1341296637188645068 -->\n<g id=\"edge2\" class=\"edge\">\n<title>&#45;7566481729919965046&#45;&gt;1341296637188645068</title>\n<path fill=\"none\" stroke=\"black\" d=\"M365.5,-108.3C365.5,-116.02 365.5,-125.29 365.5,-133.89\"/>\n<polygon fill=\"black\" stroke=\"black\" points=\"362,-133.9 365.5,-143.9 369,-133.9 362,-133.9\"/>\n</g>\n<!-- 1195809208253362179 -->\n<g id=\"node4\" class=\"node\">\n<title>1195809208253362179</title>\n<polygon fill=\"none\" stroke=\"black\" points=\"467,-36 264,-36 264,0 467,0 467,-36\"/>\n<text text-anchor=\"middle\" x=\"365.5\" y=\"-13\" font-family=\"Helvetica,sans-Serif\" font-size=\"20.00\">FromMapProjectable</text>\n</g>\n<!-- 1195809208253362179&#45;&gt;&#45;7566481729919965046 -->\n<g id=\"edge3\" class=\"edge\">\n<title>1195809208253362179&#45;&gt;&#45;7566481729919965046</title>\n<path fill=\"none\" stroke=\"black\" d=\"M365.5,-36.3C365.5,-44.02 365.5,-53.29 365.5,-61.89\"/>\n<polygon fill=\"black\" stroke=\"black\" points=\"362,-61.9 365.5,-71.9 369,-61.9 362,-61.9\"/>\n</g>\n</g>\n</svg>\n",
            "text/plain": [
              "<graphviz.graphs.Digraph at 0x7bb5dad64fd0>"
            ]
          },
          "metadata": {},
          "execution_count": 17
        }
      ]
    },
    {
      "cell_type": "code",
      "source": [
        "# columns in the final dataset\n",
        "\n",
        "df_final.columns"
      ],
      "metadata": {
        "colab": {
          "base_uri": "https://localhost:8080/"
        },
        "id": "B0ZAPGmMUSx9",
        "outputId": "8d72a3cb-c895-4496-f55c-4a531fb453f0"
      },
      "execution_count": 18,
      "outputs": [
        {
          "output_type": "execute_result",
          "data": {
            "text/plain": [
              "Index(['VendorID', 'tpep_pickup_datetime', 'tpep_dropoff_datetime',\n",
              "       'passenger_count', 'trip_distance', 'pickup_longitude',\n",
              "       'pickup_latitude', 'RatecodeID', 'store_and_fwd_flag',\n",
              "       'dropoff_longitude', 'dropoff_latitude', 'fare_amount'],\n",
              "      dtype='object')"
            ]
          },
          "metadata": {},
          "execution_count": 18
        }
      ]
    },
    {
      "cell_type": "code",
      "source": [
        "# print top ten rows\n",
        "\n",
        "df_final.head(10)"
      ],
      "metadata": {
        "colab": {
          "base_uri": "https://localhost:8080/",
          "height": 374
        },
        "id": "n-88VsDhUWIY",
        "outputId": "12001978-2673-40ab-ab5e-f960dd93fe30"
      },
      "execution_count": 19,
      "outputs": [
        {
          "output_type": "execute_result",
          "data": {
            "text/plain": [
              "   VendorID tpep_pickup_datetime tpep_dropoff_datetime  passenger_count  \\\n",
              "0       2.0  2016-01-01 00:00:00   2016-01-01 00:00:00              2.0   \n",
              "1       2.0  2016-01-01 00:00:00   2016-01-01 00:00:00              5.0   \n",
              "2       2.0  2016-01-01 00:00:00   2016-01-01 00:00:00              1.0   \n",
              "3       2.0  2016-01-01 00:00:00   2016-01-01 00:00:00              1.0   \n",
              "4       2.0  2016-01-01 00:00:00   2016-01-01 00:00:00              3.0   \n",
              "5       2.0  2016-01-01 00:00:00   2016-01-01 00:18:30              2.0   \n",
              "6       2.0  2016-01-01 00:00:00   2016-01-01 00:26:45              2.0   \n",
              "7       1.0  2016-01-01 00:00:01   2016-01-01 00:11:55              1.0   \n",
              "8       1.0  2016-01-01 00:00:02   2016-01-01 00:11:14              1.0   \n",
              "9       2.0  2016-01-01 00:00:02   2016-01-01 00:11:08              1.0   \n",
              "\n",
              "   trip_distance  pickup_longitude  pickup_latitude  RatecodeID  \\\n",
              "0           1.10        -73.990372        40.734695         1.0   \n",
              "1           4.90        -73.980782        40.729912         1.0   \n",
              "2          10.54        -73.984550        40.679565         1.0   \n",
              "3           4.75        -73.993469        40.718990         1.0   \n",
              "4           1.76        -73.960625        40.781330         1.0   \n",
              "5           5.52        -73.980118        40.743050         1.0   \n",
              "6           7.45        -73.994057        40.719990         1.0   \n",
              "7           1.20        -73.979424        40.744614         1.0   \n",
              "8           6.00        -73.947151        40.791046         1.0   \n",
              "9           3.21        -73.998344        40.723896         1.0   \n",
              "\n",
              "  store_and_fwd_flag  dropoff_longitude  dropoff_latitude  fare_amount  \n",
              "0                  N         -73.981842         40.732407          7.5  \n",
              "1                  N         -73.944473         40.716679         18.0  \n",
              "2                  N         -73.950272         40.788925         33.0  \n",
              "3                  N         -73.962242         40.657333         16.5  \n",
              "4                  N         -73.977264         40.758514          8.0  \n",
              "5                  N         -73.913490         40.763142         19.0  \n",
              "6                  N         -73.966362         40.789871         26.0  \n",
              "7                  N         -73.992035         40.753944          9.0  \n",
              "8                  N         -73.920769         40.865578         18.0  \n",
              "9                  N         -73.995850         40.688400         11.5  "
            ],
            "text/html": [
              "\n",
              "  <div id=\"df-94014dc3-d006-48bd-a73a-c24df7912719\" class=\"colab-df-container\">\n",
              "    <div>\n",
              "<style scoped>\n",
              "    .dataframe tbody tr th:only-of-type {\n",
              "        vertical-align: middle;\n",
              "    }\n",
              "\n",
              "    .dataframe tbody tr th {\n",
              "        vertical-align: top;\n",
              "    }\n",
              "\n",
              "    .dataframe thead th {\n",
              "        text-align: right;\n",
              "    }\n",
              "</style>\n",
              "<table border=\"1\" class=\"dataframe\">\n",
              "  <thead>\n",
              "    <tr style=\"text-align: right;\">\n",
              "      <th></th>\n",
              "      <th>VendorID</th>\n",
              "      <th>tpep_pickup_datetime</th>\n",
              "      <th>tpep_dropoff_datetime</th>\n",
              "      <th>passenger_count</th>\n",
              "      <th>trip_distance</th>\n",
              "      <th>pickup_longitude</th>\n",
              "      <th>pickup_latitude</th>\n",
              "      <th>RatecodeID</th>\n",
              "      <th>store_and_fwd_flag</th>\n",
              "      <th>dropoff_longitude</th>\n",
              "      <th>dropoff_latitude</th>\n",
              "      <th>fare_amount</th>\n",
              "    </tr>\n",
              "  </thead>\n",
              "  <tbody>\n",
              "    <tr>\n",
              "      <th>0</th>\n",
              "      <td>2.0</td>\n",
              "      <td>2016-01-01 00:00:00</td>\n",
              "      <td>2016-01-01 00:00:00</td>\n",
              "      <td>2.0</td>\n",
              "      <td>1.10</td>\n",
              "      <td>-73.990372</td>\n",
              "      <td>40.734695</td>\n",
              "      <td>1.0</td>\n",
              "      <td>N</td>\n",
              "      <td>-73.981842</td>\n",
              "      <td>40.732407</td>\n",
              "      <td>7.5</td>\n",
              "    </tr>\n",
              "    <tr>\n",
              "      <th>1</th>\n",
              "      <td>2.0</td>\n",
              "      <td>2016-01-01 00:00:00</td>\n",
              "      <td>2016-01-01 00:00:00</td>\n",
              "      <td>5.0</td>\n",
              "      <td>4.90</td>\n",
              "      <td>-73.980782</td>\n",
              "      <td>40.729912</td>\n",
              "      <td>1.0</td>\n",
              "      <td>N</td>\n",
              "      <td>-73.944473</td>\n",
              "      <td>40.716679</td>\n",
              "      <td>18.0</td>\n",
              "    </tr>\n",
              "    <tr>\n",
              "      <th>2</th>\n",
              "      <td>2.0</td>\n",
              "      <td>2016-01-01 00:00:00</td>\n",
              "      <td>2016-01-01 00:00:00</td>\n",
              "      <td>1.0</td>\n",
              "      <td>10.54</td>\n",
              "      <td>-73.984550</td>\n",
              "      <td>40.679565</td>\n",
              "      <td>1.0</td>\n",
              "      <td>N</td>\n",
              "      <td>-73.950272</td>\n",
              "      <td>40.788925</td>\n",
              "      <td>33.0</td>\n",
              "    </tr>\n",
              "    <tr>\n",
              "      <th>3</th>\n",
              "      <td>2.0</td>\n",
              "      <td>2016-01-01 00:00:00</td>\n",
              "      <td>2016-01-01 00:00:00</td>\n",
              "      <td>1.0</td>\n",
              "      <td>4.75</td>\n",
              "      <td>-73.993469</td>\n",
              "      <td>40.718990</td>\n",
              "      <td>1.0</td>\n",
              "      <td>N</td>\n",
              "      <td>-73.962242</td>\n",
              "      <td>40.657333</td>\n",
              "      <td>16.5</td>\n",
              "    </tr>\n",
              "    <tr>\n",
              "      <th>4</th>\n",
              "      <td>2.0</td>\n",
              "      <td>2016-01-01 00:00:00</td>\n",
              "      <td>2016-01-01 00:00:00</td>\n",
              "      <td>3.0</td>\n",
              "      <td>1.76</td>\n",
              "      <td>-73.960625</td>\n",
              "      <td>40.781330</td>\n",
              "      <td>1.0</td>\n",
              "      <td>N</td>\n",
              "      <td>-73.977264</td>\n",
              "      <td>40.758514</td>\n",
              "      <td>8.0</td>\n",
              "    </tr>\n",
              "    <tr>\n",
              "      <th>5</th>\n",
              "      <td>2.0</td>\n",
              "      <td>2016-01-01 00:00:00</td>\n",
              "      <td>2016-01-01 00:18:30</td>\n",
              "      <td>2.0</td>\n",
              "      <td>5.52</td>\n",
              "      <td>-73.980118</td>\n",
              "      <td>40.743050</td>\n",
              "      <td>1.0</td>\n",
              "      <td>N</td>\n",
              "      <td>-73.913490</td>\n",
              "      <td>40.763142</td>\n",
              "      <td>19.0</td>\n",
              "    </tr>\n",
              "    <tr>\n",
              "      <th>6</th>\n",
              "      <td>2.0</td>\n",
              "      <td>2016-01-01 00:00:00</td>\n",
              "      <td>2016-01-01 00:26:45</td>\n",
              "      <td>2.0</td>\n",
              "      <td>7.45</td>\n",
              "      <td>-73.994057</td>\n",
              "      <td>40.719990</td>\n",
              "      <td>1.0</td>\n",
              "      <td>N</td>\n",
              "      <td>-73.966362</td>\n",
              "      <td>40.789871</td>\n",
              "      <td>26.0</td>\n",
              "    </tr>\n",
              "    <tr>\n",
              "      <th>7</th>\n",
              "      <td>1.0</td>\n",
              "      <td>2016-01-01 00:00:01</td>\n",
              "      <td>2016-01-01 00:11:55</td>\n",
              "      <td>1.0</td>\n",
              "      <td>1.20</td>\n",
              "      <td>-73.979424</td>\n",
              "      <td>40.744614</td>\n",
              "      <td>1.0</td>\n",
              "      <td>N</td>\n",
              "      <td>-73.992035</td>\n",
              "      <td>40.753944</td>\n",
              "      <td>9.0</td>\n",
              "    </tr>\n",
              "    <tr>\n",
              "      <th>8</th>\n",
              "      <td>1.0</td>\n",
              "      <td>2016-01-01 00:00:02</td>\n",
              "      <td>2016-01-01 00:11:14</td>\n",
              "      <td>1.0</td>\n",
              "      <td>6.00</td>\n",
              "      <td>-73.947151</td>\n",
              "      <td>40.791046</td>\n",
              "      <td>1.0</td>\n",
              "      <td>N</td>\n",
              "      <td>-73.920769</td>\n",
              "      <td>40.865578</td>\n",
              "      <td>18.0</td>\n",
              "    </tr>\n",
              "    <tr>\n",
              "      <th>9</th>\n",
              "      <td>2.0</td>\n",
              "      <td>2016-01-01 00:00:02</td>\n",
              "      <td>2016-01-01 00:11:08</td>\n",
              "      <td>1.0</td>\n",
              "      <td>3.21</td>\n",
              "      <td>-73.998344</td>\n",
              "      <td>40.723896</td>\n",
              "      <td>1.0</td>\n",
              "      <td>N</td>\n",
              "      <td>-73.995850</td>\n",
              "      <td>40.688400</td>\n",
              "      <td>11.5</td>\n",
              "    </tr>\n",
              "  </tbody>\n",
              "</table>\n",
              "</div>\n",
              "    <div class=\"colab-df-buttons\">\n",
              "\n",
              "  <div class=\"colab-df-container\">\n",
              "    <button class=\"colab-df-convert\" onclick=\"convertToInteractive('df-94014dc3-d006-48bd-a73a-c24df7912719')\"\n",
              "            title=\"Convert this dataframe to an interactive table.\"\n",
              "            style=\"display:none;\">\n",
              "\n",
              "  <svg xmlns=\"http://www.w3.org/2000/svg\" height=\"24px\" viewBox=\"0 -960 960 960\">\n",
              "    <path d=\"M120-120v-720h720v720H120Zm60-500h600v-160H180v160Zm220 220h160v-160H400v160Zm0 220h160v-160H400v160ZM180-400h160v-160H180v160Zm440 0h160v-160H620v160ZM180-180h160v-160H180v160Zm440 0h160v-160H620v160Z\"/>\n",
              "  </svg>\n",
              "    </button>\n",
              "\n",
              "  <style>\n",
              "    .colab-df-container {\n",
              "      display:flex;\n",
              "      gap: 12px;\n",
              "    }\n",
              "\n",
              "    .colab-df-convert {\n",
              "      background-color: #E8F0FE;\n",
              "      border: none;\n",
              "      border-radius: 50%;\n",
              "      cursor: pointer;\n",
              "      display: none;\n",
              "      fill: #1967D2;\n",
              "      height: 32px;\n",
              "      padding: 0 0 0 0;\n",
              "      width: 32px;\n",
              "    }\n",
              "\n",
              "    .colab-df-convert:hover {\n",
              "      background-color: #E2EBFA;\n",
              "      box-shadow: 0px 1px 2px rgba(60, 64, 67, 0.3), 0px 1px 3px 1px rgba(60, 64, 67, 0.15);\n",
              "      fill: #174EA6;\n",
              "    }\n",
              "\n",
              "    .colab-df-buttons div {\n",
              "      margin-bottom: 4px;\n",
              "    }\n",
              "\n",
              "    [theme=dark] .colab-df-convert {\n",
              "      background-color: #3B4455;\n",
              "      fill: #D2E3FC;\n",
              "    }\n",
              "\n",
              "    [theme=dark] .colab-df-convert:hover {\n",
              "      background-color: #434B5C;\n",
              "      box-shadow: 0px 1px 3px 1px rgba(0, 0, 0, 0.15);\n",
              "      filter: drop-shadow(0px 1px 2px rgba(0, 0, 0, 0.3));\n",
              "      fill: #FFFFFF;\n",
              "    }\n",
              "  </style>\n",
              "\n",
              "    <script>\n",
              "      const buttonEl =\n",
              "        document.querySelector('#df-94014dc3-d006-48bd-a73a-c24df7912719 button.colab-df-convert');\n",
              "      buttonEl.style.display =\n",
              "        google.colab.kernel.accessAllowed ? 'block' : 'none';\n",
              "\n",
              "      async function convertToInteractive(key) {\n",
              "        const element = document.querySelector('#df-94014dc3-d006-48bd-a73a-c24df7912719');\n",
              "        const dataTable =\n",
              "          await google.colab.kernel.invokeFunction('convertToInteractive',\n",
              "                                                    [key], {});\n",
              "        if (!dataTable) return;\n",
              "\n",
              "        const docLinkHtml = 'Like what you see? Visit the ' +\n",
              "          '<a target=\"_blank\" href=https://colab.research.google.com/notebooks/data_table.ipynb>data table notebook</a>'\n",
              "          + ' to learn more about interactive tables.';\n",
              "        element.innerHTML = '';\n",
              "        dataTable['output_type'] = 'display_data';\n",
              "        await google.colab.output.renderOutput(dataTable, element);\n",
              "        const docLink = document.createElement('div');\n",
              "        docLink.innerHTML = docLinkHtml;\n",
              "        element.appendChild(docLink);\n",
              "      }\n",
              "    </script>\n",
              "  </div>\n",
              "\n",
              "\n",
              "<div id=\"df-4d4d7adf-ccb1-4ecd-80df-c89a838e36c9\">\n",
              "  <button class=\"colab-df-quickchart\" onclick=\"quickchart('df-4d4d7adf-ccb1-4ecd-80df-c89a838e36c9')\"\n",
              "            title=\"Suggest charts\"\n",
              "            style=\"display:none;\">\n",
              "\n",
              "<svg xmlns=\"http://www.w3.org/2000/svg\" height=\"24px\"viewBox=\"0 0 24 24\"\n",
              "     width=\"24px\">\n",
              "    <g>\n",
              "        <path d=\"M19 3H5c-1.1 0-2 .9-2 2v14c0 1.1.9 2 2 2h14c1.1 0 2-.9 2-2V5c0-1.1-.9-2-2-2zM9 17H7v-7h2v7zm4 0h-2V7h2v10zm4 0h-2v-4h2v4z\"/>\n",
              "    </g>\n",
              "</svg>\n",
              "  </button>\n",
              "\n",
              "<style>\n",
              "  .colab-df-quickchart {\n",
              "      --bg-color: #E8F0FE;\n",
              "      --fill-color: #1967D2;\n",
              "      --hover-bg-color: #E2EBFA;\n",
              "      --hover-fill-color: #174EA6;\n",
              "      --disabled-fill-color: #AAA;\n",
              "      --disabled-bg-color: #DDD;\n",
              "  }\n",
              "\n",
              "  [theme=dark] .colab-df-quickchart {\n",
              "      --bg-color: #3B4455;\n",
              "      --fill-color: #D2E3FC;\n",
              "      --hover-bg-color: #434B5C;\n",
              "      --hover-fill-color: #FFFFFF;\n",
              "      --disabled-bg-color: #3B4455;\n",
              "      --disabled-fill-color: #666;\n",
              "  }\n",
              "\n",
              "  .colab-df-quickchart {\n",
              "    background-color: var(--bg-color);\n",
              "    border: none;\n",
              "    border-radius: 50%;\n",
              "    cursor: pointer;\n",
              "    display: none;\n",
              "    fill: var(--fill-color);\n",
              "    height: 32px;\n",
              "    padding: 0;\n",
              "    width: 32px;\n",
              "  }\n",
              "\n",
              "  .colab-df-quickchart:hover {\n",
              "    background-color: var(--hover-bg-color);\n",
              "    box-shadow: 0 1px 2px rgba(60, 64, 67, 0.3), 0 1px 3px 1px rgba(60, 64, 67, 0.15);\n",
              "    fill: var(--button-hover-fill-color);\n",
              "  }\n",
              "\n",
              "  .colab-df-quickchart-complete:disabled,\n",
              "  .colab-df-quickchart-complete:disabled:hover {\n",
              "    background-color: var(--disabled-bg-color);\n",
              "    fill: var(--disabled-fill-color);\n",
              "    box-shadow: none;\n",
              "  }\n",
              "\n",
              "  .colab-df-spinner {\n",
              "    border: 2px solid var(--fill-color);\n",
              "    border-color: transparent;\n",
              "    border-bottom-color: var(--fill-color);\n",
              "    animation:\n",
              "      spin 1s steps(1) infinite;\n",
              "  }\n",
              "\n",
              "  @keyframes spin {\n",
              "    0% {\n",
              "      border-color: transparent;\n",
              "      border-bottom-color: var(--fill-color);\n",
              "      border-left-color: var(--fill-color);\n",
              "    }\n",
              "    20% {\n",
              "      border-color: transparent;\n",
              "      border-left-color: var(--fill-color);\n",
              "      border-top-color: var(--fill-color);\n",
              "    }\n",
              "    30% {\n",
              "      border-color: transparent;\n",
              "      border-left-color: var(--fill-color);\n",
              "      border-top-color: var(--fill-color);\n",
              "      border-right-color: var(--fill-color);\n",
              "    }\n",
              "    40% {\n",
              "      border-color: transparent;\n",
              "      border-right-color: var(--fill-color);\n",
              "      border-top-color: var(--fill-color);\n",
              "    }\n",
              "    60% {\n",
              "      border-color: transparent;\n",
              "      border-right-color: var(--fill-color);\n",
              "    }\n",
              "    80% {\n",
              "      border-color: transparent;\n",
              "      border-right-color: var(--fill-color);\n",
              "      border-bottom-color: var(--fill-color);\n",
              "    }\n",
              "    90% {\n",
              "      border-color: transparent;\n",
              "      border-bottom-color: var(--fill-color);\n",
              "    }\n",
              "  }\n",
              "</style>\n",
              "\n",
              "  <script>\n",
              "    async function quickchart(key) {\n",
              "      const quickchartButtonEl =\n",
              "        document.querySelector('#' + key + ' button');\n",
              "      quickchartButtonEl.disabled = true;  // To prevent multiple clicks.\n",
              "      quickchartButtonEl.classList.add('colab-df-spinner');\n",
              "      try {\n",
              "        const charts = await google.colab.kernel.invokeFunction(\n",
              "            'suggestCharts', [key], {});\n",
              "      } catch (error) {\n",
              "        console.error('Error during call to suggestCharts:', error);\n",
              "      }\n",
              "      quickchartButtonEl.classList.remove('colab-df-spinner');\n",
              "      quickchartButtonEl.classList.add('colab-df-quickchart-complete');\n",
              "    }\n",
              "    (() => {\n",
              "      let quickchartButtonEl =\n",
              "        document.querySelector('#df-4d4d7adf-ccb1-4ecd-80df-c89a838e36c9 button');\n",
              "      quickchartButtonEl.style.display =\n",
              "        google.colab.kernel.accessAllowed ? 'block' : 'none';\n",
              "    })();\n",
              "  </script>\n",
              "</div>\n",
              "\n",
              "    </div>\n",
              "  </div>\n"
            ],
            "application/vnd.google.colaboratory.intrinsic+json": {
              "type": "dataframe",
              "summary": "{\n  \"name\": \"df_final\",\n  \"rows\": 10,\n  \"fields\": [\n    {\n      \"column\": \"VendorID\",\n      \"properties\": {\n        \"dtype\": \"number\",\n        \"std\": 0.4216370213557839,\n        \"min\": 1.0,\n        \"max\": 2.0,\n        \"num_unique_values\": 2,\n        \"samples\": [\n          1.0,\n          2.0\n        ],\n        \"semantic_type\": \"\",\n        \"description\": \"\"\n      }\n    },\n    {\n      \"column\": \"tpep_pickup_datetime\",\n      \"properties\": {\n        \"dtype\": \"string\",\n        \"num_unique_values\": 3,\n        \"samples\": [\n          \"2016-01-01 00:00:00\",\n          \"2016-01-01 00:00:01\"\n        ],\n        \"semantic_type\": \"\",\n        \"description\": \"\"\n      }\n    },\n    {\n      \"column\": \"tpep_dropoff_datetime\",\n      \"properties\": {\n        \"dtype\": \"string\",\n        \"num_unique_values\": 6,\n        \"samples\": [\n          \"2016-01-01 00:00:00\",\n          \"2016-01-01 00:18:30\"\n        ],\n        \"semantic_type\": \"\",\n        \"description\": \"\"\n      }\n    },\n    {\n      \"column\": \"passenger_count\",\n      \"properties\": {\n        \"dtype\": \"number\",\n        \"std\": 1.286683937707919,\n        \"min\": 1.0,\n        \"max\": 5.0,\n        \"num_unique_values\": 4,\n        \"samples\": [\n          5.0,\n          3.0\n        ],\n        \"semantic_type\": \"\",\n        \"description\": \"\"\n      }\n    },\n    {\n      \"column\": \"trip_distance\",\n      \"properties\": {\n        \"dtype\": \"number\",\n        \"std\": 2.9835513886790834,\n        \"min\": 1.1,\n        \"max\": 10.54,\n        \"num_unique_values\": 10,\n        \"samples\": [\n          6.0,\n          4.9\n        ],\n        \"semantic_type\": \"\",\n        \"description\": \"\"\n      }\n    },\n    {\n      \"column\": \"pickup_longitude\",\n      \"properties\": {\n        \"dtype\": \"number\",\n        \"std\": 0.015955865481124112,\n        \"min\": -73.99834442138672,\n        \"max\": -73.94715118408203,\n        \"num_unique_values\": 10,\n        \"samples\": [\n          -73.94715118408203,\n          -73.98078155517578\n        ],\n        \"semantic_type\": \"\",\n        \"description\": \"\"\n      }\n    },\n    {\n      \"column\": \"pickup_latitude\",\n      \"properties\": {\n        \"dtype\": \"number\",\n        \"std\": 0.031832121105200735,\n        \"min\": 40.6795654296875,\n        \"max\": 40.791046142578125,\n        \"num_unique_values\": 10,\n        \"samples\": [\n          40.791046142578125,\n          40.72991180419922\n        ],\n        \"semantic_type\": \"\",\n        \"description\": \"\"\n      }\n    },\n    {\n      \"column\": \"RatecodeID\",\n      \"properties\": {\n        \"dtype\": \"number\",\n        \"std\": 0.0,\n        \"min\": 1.0,\n        \"max\": 1.0,\n        \"num_unique_values\": 1,\n        \"samples\": [\n          1.0\n        ],\n        \"semantic_type\": \"\",\n        \"description\": \"\"\n      }\n    },\n    {\n      \"column\": \"store_and_fwd_flag\",\n      \"properties\": {\n        \"dtype\": \"string\",\n        \"num_unique_values\": 1,\n        \"samples\": [\n          \"N\"\n        ],\n        \"semantic_type\": \"\",\n        \"description\": \"\"\n      }\n    },\n    {\n      \"column\": \"dropoff_longitude\",\n      \"properties\": {\n        \"dtype\": \"number\",\n        \"std\": 0.02822118438708967,\n        \"min\": -73.995849609375,\n        \"max\": -73.91349029541014,\n        \"num_unique_values\": 10,\n        \"samples\": [\n          -73.92076873779298\n        ],\n        \"semantic_type\": \"\",\n        \"description\": \"\"\n      }\n    },\n    {\n      \"column\": \"dropoff_latitude\",\n      \"properties\": {\n        \"dtype\": \"number\",\n        \"std\": 0.05821743765789098,\n        \"min\": 40.65733337402344,\n        \"max\": 40.86557769775391,\n        \"num_unique_values\": 10,\n        \"samples\": [\n          40.86557769775391\n        ],\n        \"semantic_type\": \"\",\n        \"description\": \"\"\n      }\n    },\n    {\n      \"column\": \"fare_amount\",\n      \"properties\": {\n        \"dtype\": \"number\",\n        \"std\": 8.216007411010398,\n        \"min\": 7.5,\n        \"max\": 33.0,\n        \"num_unique_values\": 9,\n        \"samples\": [\n          9.0\n        ],\n        \"semantic_type\": \"\",\n        \"description\": \"\"\n      }\n    }\n  ]\n}"
            }
          },
          "metadata": {},
          "execution_count": 19
        }
      ]
    },
    {
      "cell_type": "code",
      "source": [
        "df_final.isna().sum().visualize()"
      ],
      "metadata": {
        "colab": {
          "base_uri": "https://localhost:8080/",
          "height": 580
        },
        "id": "Lr03STYyUYOp",
        "outputId": "752ecd95-4002-402b-de3f-51916c6d7cbd"
      },
      "execution_count": 20,
      "outputs": [
        {
          "output_type": "execute_result",
          "data": {
            "image/svg+xml": "<?xml version=\"1.0\" encoding=\"UTF-8\" standalone=\"no\"?>\n<!DOCTYPE svg PUBLIC \"-//W3C//DTD SVG 1.1//EN\"\n \"http://www.w3.org/Graphics/SVG/1.1/DTD/svg11.dtd\">\n<!-- Generated by graphviz version 2.43.0 (0)\n -->\n<!-- Title: %3 Pages: 1 -->\n<svg width=\"739pt\" height=\"404pt\"\n viewBox=\"0.00 0.00 739.00 404.00\" xmlns=\"http://www.w3.org/2000/svg\" xmlns:xlink=\"http://www.w3.org/1999/xlink\">\n<g id=\"graph0\" class=\"graph\" transform=\"scale(1 1) rotate(0) translate(4 400)\">\n<title>%3</title>\n<polygon fill=\"white\" stroke=\"transparent\" points=\"-4,4 -4,-400 735,-400 735,4 -4,4\"/>\n<!-- &#45;8421523888746813225 -->\n<g id=\"node1\" class=\"node\">\n<title>&#45;8421523888746813225</title>\n<polygon fill=\"none\" stroke=\"black\" points=\"421.5,-396 309.5,-396 309.5,-360 421.5,-360 421.5,-396\"/>\n<text text-anchor=\"middle\" x=\"365.5\" y=\"-373\" font-family=\"Helvetica,sans-Serif\" font-size=\"20.00\">Sum(IsNa)</text>\n</g>\n<!-- &#45;644621374796801679 -->\n<g id=\"node2\" class=\"node\">\n<title>&#45;644621374796801679</title>\n<polygon fill=\"none\" stroke=\"black\" points=\"422.5,-324 308.5,-324 308.5,-288 422.5,-288 422.5,-324\"/>\n<text text-anchor=\"middle\" x=\"365.5\" y=\"-301\" font-family=\"Helvetica,sans-Serif\" font-size=\"20.00\">IsNa(Drop)</text>\n</g>\n<!-- &#45;644621374796801679&#45;&gt;&#45;8421523888746813225 -->\n<g id=\"edge1\" class=\"edge\">\n<title>&#45;644621374796801679&#45;&gt;&#45;8421523888746813225</title>\n<path fill=\"none\" stroke=\"black\" d=\"M365.5,-324.3C365.5,-332.02 365.5,-341.29 365.5,-349.89\"/>\n<polygon fill=\"black\" stroke=\"black\" points=\"362,-349.9 365.5,-359.9 369,-349.9 362,-349.9\"/>\n</g>\n<!-- &#45;1980465335869368908 -->\n<g id=\"node3\" class=\"node\">\n<title>&#45;1980465335869368908</title>\n<polygon fill=\"none\" stroke=\"black\" points=\"434,-252 297,-252 297,-216 434,-216 434,-252\"/>\n<text text-anchor=\"middle\" x=\"365.5\" y=\"-229\" font-family=\"Helvetica,sans-Serif\" font-size=\"20.00\">Drop(Concat)</text>\n</g>\n<!-- &#45;1980465335869368908&#45;&gt;&#45;644621374796801679 -->\n<g id=\"edge2\" class=\"edge\">\n<title>&#45;1980465335869368908&#45;&gt;&#45;644621374796801679</title>\n<path fill=\"none\" stroke=\"black\" d=\"M365.5,-252.3C365.5,-260.02 365.5,-269.29 365.5,-277.89\"/>\n<polygon fill=\"black\" stroke=\"black\" points=\"362,-277.9 365.5,-287.9 369,-277.9 362,-277.9\"/>\n</g>\n<!-- 1341296637188645068 -->\n<g id=\"node4\" class=\"node\">\n<title>1341296637188645068</title>\n<polygon fill=\"none\" stroke=\"black\" points=\"731,-180 0,-180 0,-144 731,-144 731,-180\"/>\n<text text-anchor=\"middle\" x=\"365.5\" y=\"-157\" font-family=\"Helvetica,sans-Serif\" font-size=\"20.00\">Concat(ArrowStringConversion, ArrowStringConversion, ArrowStringConversion)</text>\n</g>\n<!-- 1341296637188645068&#45;&gt;&#45;1980465335869368908 -->\n<g id=\"edge3\" class=\"edge\">\n<title>1341296637188645068&#45;&gt;&#45;1980465335869368908</title>\n<path fill=\"none\" stroke=\"black\" d=\"M365.5,-180.3C365.5,-188.02 365.5,-197.29 365.5,-205.89\"/>\n<polygon fill=\"black\" stroke=\"black\" points=\"362,-205.9 365.5,-215.9 369,-205.9 362,-205.9\"/>\n</g>\n<!-- &#45;7566481729919965046 -->\n<g id=\"node5\" class=\"node\">\n<title>&#45;7566481729919965046</title>\n<polygon fill=\"none\" stroke=\"black\" points=\"576.5,-108 154.5,-108 154.5,-72 576.5,-72 576.5,-108\"/>\n<text text-anchor=\"middle\" x=\"365.5\" y=\"-85\" font-family=\"Helvetica,sans-Serif\" font-size=\"20.00\">ArrowStringConversion(FromMapProjectable)</text>\n</g>\n<!-- &#45;7566481729919965046&#45;&gt;1341296637188645068 -->\n<g id=\"edge4\" class=\"edge\">\n<title>&#45;7566481729919965046&#45;&gt;1341296637188645068</title>\n<path fill=\"none\" stroke=\"black\" d=\"M365.5,-108.3C365.5,-116.02 365.5,-125.29 365.5,-133.89\"/>\n<polygon fill=\"black\" stroke=\"black\" points=\"362,-133.9 365.5,-143.9 369,-133.9 362,-133.9\"/>\n</g>\n<!-- 1195809208253362179 -->\n<g id=\"node6\" class=\"node\">\n<title>1195809208253362179</title>\n<polygon fill=\"none\" stroke=\"black\" points=\"467,-36 264,-36 264,0 467,0 467,-36\"/>\n<text text-anchor=\"middle\" x=\"365.5\" y=\"-13\" font-family=\"Helvetica,sans-Serif\" font-size=\"20.00\">FromMapProjectable</text>\n</g>\n<!-- 1195809208253362179&#45;&gt;&#45;7566481729919965046 -->\n<g id=\"edge5\" class=\"edge\">\n<title>1195809208253362179&#45;&gt;&#45;7566481729919965046</title>\n<path fill=\"none\" stroke=\"black\" d=\"M365.5,-36.3C365.5,-44.02 365.5,-53.29 365.5,-61.89\"/>\n<polygon fill=\"black\" stroke=\"black\" points=\"362,-61.9 365.5,-71.9 369,-61.9 362,-61.9\"/>\n</g>\n</g>\n</svg>\n",
            "text/plain": [
              "<graphviz.graphs.Digraph at 0x7bb5dacd1810>"
            ]
          },
          "metadata": {},
          "execution_count": 20
        }
      ]
    },
    {
      "cell_type": "code",
      "source": [
        "# check for missing values in the data\n",
        "\n",
        "df_final.isna().sum().compute()"
      ],
      "metadata": {
        "colab": {
          "base_uri": "https://localhost:8080/",
          "height": 468
        },
        "id": "BdgbujNdUbm2",
        "outputId": "b13e15a6-5e4a-49d4-9f7a-e268893c18ca"
      },
      "execution_count": 21,
      "outputs": [
        {
          "output_type": "execute_result",
          "data": {
            "text/plain": [
              "VendorID                 0\n",
              "tpep_pickup_datetime     0\n",
              "tpep_dropoff_datetime    0\n",
              "passenger_count          0\n",
              "trip_distance            0\n",
              "pickup_longitude         0\n",
              "pickup_latitude          0\n",
              "RatecodeID               0\n",
              "store_and_fwd_flag       0\n",
              "dropoff_longitude        0\n",
              "dropoff_latitude         0\n",
              "fare_amount              0\n",
              "dtype: int64"
            ],
            "text/html": [
              "<div>\n",
              "<style scoped>\n",
              "    .dataframe tbody tr th:only-of-type {\n",
              "        vertical-align: middle;\n",
              "    }\n",
              "\n",
              "    .dataframe tbody tr th {\n",
              "        vertical-align: top;\n",
              "    }\n",
              "\n",
              "    .dataframe thead th {\n",
              "        text-align: right;\n",
              "    }\n",
              "</style>\n",
              "<table border=\"1\" class=\"dataframe\">\n",
              "  <thead>\n",
              "    <tr style=\"text-align: right;\">\n",
              "      <th></th>\n",
              "      <th>0</th>\n",
              "    </tr>\n",
              "  </thead>\n",
              "  <tbody>\n",
              "    <tr>\n",
              "      <th>VendorID</th>\n",
              "      <td>0</td>\n",
              "    </tr>\n",
              "    <tr>\n",
              "      <th>tpep_pickup_datetime</th>\n",
              "      <td>0</td>\n",
              "    </tr>\n",
              "    <tr>\n",
              "      <th>tpep_dropoff_datetime</th>\n",
              "      <td>0</td>\n",
              "    </tr>\n",
              "    <tr>\n",
              "      <th>passenger_count</th>\n",
              "      <td>0</td>\n",
              "    </tr>\n",
              "    <tr>\n",
              "      <th>trip_distance</th>\n",
              "      <td>0</td>\n",
              "    </tr>\n",
              "    <tr>\n",
              "      <th>pickup_longitude</th>\n",
              "      <td>0</td>\n",
              "    </tr>\n",
              "    <tr>\n",
              "      <th>pickup_latitude</th>\n",
              "      <td>0</td>\n",
              "    </tr>\n",
              "    <tr>\n",
              "      <th>RatecodeID</th>\n",
              "      <td>0</td>\n",
              "    </tr>\n",
              "    <tr>\n",
              "      <th>store_and_fwd_flag</th>\n",
              "      <td>0</td>\n",
              "    </tr>\n",
              "    <tr>\n",
              "      <th>dropoff_longitude</th>\n",
              "      <td>0</td>\n",
              "    </tr>\n",
              "    <tr>\n",
              "      <th>dropoff_latitude</th>\n",
              "      <td>0</td>\n",
              "    </tr>\n",
              "    <tr>\n",
              "      <th>fare_amount</th>\n",
              "      <td>0</td>\n",
              "    </tr>\n",
              "  </tbody>\n",
              "</table>\n",
              "</div><br><label><b>dtype:</b> int64</label>"
            ]
          },
          "metadata": {},
          "execution_count": 21
        }
      ]
    },
    {
      "cell_type": "markdown",
      "source": [
        "There are no missing values in the data"
      ],
      "metadata": {
        "id": "AaXa64NqUmpP"
      }
    },
    {
      "cell_type": "code",
      "source": [
        "# datatypes\n",
        "\n",
        "df_final.dtypes"
      ],
      "metadata": {
        "colab": {
          "base_uri": "https://localhost:8080/",
          "height": 468
        },
        "id": "LpZuCc_EUhYR",
        "outputId": "ae13fd6d-f33b-4be3-92fb-44a1d0f60213"
      },
      "execution_count": 23,
      "outputs": [
        {
          "output_type": "execute_result",
          "data": {
            "text/plain": [
              "VendorID                         float64\n",
              "tpep_pickup_datetime     string[pyarrow]\n",
              "tpep_dropoff_datetime    string[pyarrow]\n",
              "passenger_count                  float64\n",
              "trip_distance                    float64\n",
              "pickup_longitude                 float64\n",
              "pickup_latitude                  float64\n",
              "RatecodeID                       float64\n",
              "store_and_fwd_flag       string[pyarrow]\n",
              "dropoff_longitude                float64\n",
              "dropoff_latitude                 float64\n",
              "fare_amount                      float64\n",
              "dtype: object"
            ],
            "text/html": [
              "<div>\n",
              "<style scoped>\n",
              "    .dataframe tbody tr th:only-of-type {\n",
              "        vertical-align: middle;\n",
              "    }\n",
              "\n",
              "    .dataframe tbody tr th {\n",
              "        vertical-align: top;\n",
              "    }\n",
              "\n",
              "    .dataframe thead th {\n",
              "        text-align: right;\n",
              "    }\n",
              "</style>\n",
              "<table border=\"1\" class=\"dataframe\">\n",
              "  <thead>\n",
              "    <tr style=\"text-align: right;\">\n",
              "      <th></th>\n",
              "      <th>0</th>\n",
              "    </tr>\n",
              "  </thead>\n",
              "  <tbody>\n",
              "    <tr>\n",
              "      <th>VendorID</th>\n",
              "      <td>float64</td>\n",
              "    </tr>\n",
              "    <tr>\n",
              "      <th>tpep_pickup_datetime</th>\n",
              "      <td>string[pyarrow]</td>\n",
              "    </tr>\n",
              "    <tr>\n",
              "      <th>tpep_dropoff_datetime</th>\n",
              "      <td>string[pyarrow]</td>\n",
              "    </tr>\n",
              "    <tr>\n",
              "      <th>passenger_count</th>\n",
              "      <td>float64</td>\n",
              "    </tr>\n",
              "    <tr>\n",
              "      <th>trip_distance</th>\n",
              "      <td>float64</td>\n",
              "    </tr>\n",
              "    <tr>\n",
              "      <th>pickup_longitude</th>\n",
              "      <td>float64</td>\n",
              "    </tr>\n",
              "    <tr>\n",
              "      <th>pickup_latitude</th>\n",
              "      <td>float64</td>\n",
              "    </tr>\n",
              "    <tr>\n",
              "      <th>RatecodeID</th>\n",
              "      <td>float64</td>\n",
              "    </tr>\n",
              "    <tr>\n",
              "      <th>store_and_fwd_flag</th>\n",
              "      <td>string[pyarrow]</td>\n",
              "    </tr>\n",
              "    <tr>\n",
              "      <th>dropoff_longitude</th>\n",
              "      <td>float64</td>\n",
              "    </tr>\n",
              "    <tr>\n",
              "      <th>dropoff_latitude</th>\n",
              "      <td>float64</td>\n",
              "    </tr>\n",
              "    <tr>\n",
              "      <th>fare_amount</th>\n",
              "      <td>float64</td>\n",
              "    </tr>\n",
              "  </tbody>\n",
              "</table>\n",
              "</div><br><label><b>dtype:</b> object</label>"
            ]
          },
          "metadata": {},
          "execution_count": 23
        }
      ]
    },
    {
      "cell_type": "markdown",
      "source": [
        "## **Analysis**"
      ],
      "metadata": {
        "id": "uG6oxtYQUttj"
      }
    },
    {
      "cell_type": "code",
      "source": [
        "sns.set_style(\"whitegrid\")"
      ],
      "metadata": {
        "id": "IhQOe9HGUv45"
      },
      "execution_count": 24,
      "outputs": []
    },
    {
      "cell_type": "code",
      "source": [
        "# statistical summary of numerical columns.\n",
        "\n",
        "df_final.describe().compute()"
      ],
      "metadata": {
        "colab": {
          "base_uri": "https://localhost:8080/",
          "height": 313
        },
        "id": "-xdZ6GUlUv7P",
        "outputId": "f7e949d8-40c9-4447-c363-ce55508c9f87"
      },
      "execution_count": 26,
      "outputs": [
        {
          "output_type": "execute_result",
          "data": {
            "text/plain": [
              "           VendorID  passenger_count  trip_distance  pickup_longitude  \\\n",
              "count  3.272057e+07     3.272057e+07   3.272057e+07      3.272057e+07   \n",
              "mean   1.535024e+00     1.670847e+00   4.648197e+00     -7.281869e+01   \n",
              "std    4.987718e-01     1.324891e+00   2.981095e+03      9.168964e+00   \n",
              "min    1.000000e+00     0.000000e+00   0.000000e+00     -1.219343e+02   \n",
              "25%    1.000000e+00     1.000000e+00   1.100000e+00     -7.399062e+01   \n",
              "50%    2.000000e+00     1.000000e+00   1.930000e+00     -7.397945e+01   \n",
              "75%    2.000000e+00     2.000000e+00   3.800000e+00     -7.396252e+01   \n",
              "max    2.000000e+00     9.000000e+00   8.000010e+06      0.000000e+00   \n",
              "\n",
              "       pickup_latitude    RatecodeID  dropoff_longitude  dropoff_latitude  \\\n",
              "count     3.272057e+07  3.272057e+07       3.272057e+07      3.272057e+07   \n",
              "mean      4.011494e+01  1.039350e+00      -7.288659e+01      4.015315e+01   \n",
              "std       5.051022e+00  5.186309e-01       8.900841e+00      4.903456e+00   \n",
              "min       0.000000e+00  1.000000e+00      -1.219335e+02      0.000000e+00   \n",
              "25%       4.073968e+01  1.000000e+00      -7.399009e+01      4.073903e+01   \n",
              "50%       4.075607e+01  1.000000e+00      -7.397832e+01      4.075607e+01   \n",
              "75%       4.076970e+01  1.000000e+00      -7.395599e+01      4.077128e+01   \n",
              "max       6.090876e+01  9.900000e+01       0.000000e+00      6.090876e+01   \n",
              "\n",
              "        fare_amount  \n",
              "count  3.272057e+07  \n",
              "mean   1.248693e+01  \n",
              "std    3.556400e+01  \n",
              "min   -9.576000e+02  \n",
              "25%    7.000000e+00  \n",
              "50%    1.000000e+01  \n",
              "75%    1.550000e+01  \n",
              "max    1.112709e+05  "
            ],
            "text/html": [
              "\n",
              "  <div id=\"df-4769a910-0109-47de-9c89-a90a0f3d4e87\" class=\"colab-df-container\">\n",
              "    <div>\n",
              "<style scoped>\n",
              "    .dataframe tbody tr th:only-of-type {\n",
              "        vertical-align: middle;\n",
              "    }\n",
              "\n",
              "    .dataframe tbody tr th {\n",
              "        vertical-align: top;\n",
              "    }\n",
              "\n",
              "    .dataframe thead th {\n",
              "        text-align: right;\n",
              "    }\n",
              "</style>\n",
              "<table border=\"1\" class=\"dataframe\">\n",
              "  <thead>\n",
              "    <tr style=\"text-align: right;\">\n",
              "      <th></th>\n",
              "      <th>VendorID</th>\n",
              "      <th>passenger_count</th>\n",
              "      <th>trip_distance</th>\n",
              "      <th>pickup_longitude</th>\n",
              "      <th>pickup_latitude</th>\n",
              "      <th>RatecodeID</th>\n",
              "      <th>dropoff_longitude</th>\n",
              "      <th>dropoff_latitude</th>\n",
              "      <th>fare_amount</th>\n",
              "    </tr>\n",
              "  </thead>\n",
              "  <tbody>\n",
              "    <tr>\n",
              "      <th>count</th>\n",
              "      <td>3.272057e+07</td>\n",
              "      <td>3.272057e+07</td>\n",
              "      <td>3.272057e+07</td>\n",
              "      <td>3.272057e+07</td>\n",
              "      <td>3.272057e+07</td>\n",
              "      <td>3.272057e+07</td>\n",
              "      <td>3.272057e+07</td>\n",
              "      <td>3.272057e+07</td>\n",
              "      <td>3.272057e+07</td>\n",
              "    </tr>\n",
              "    <tr>\n",
              "      <th>mean</th>\n",
              "      <td>1.535024e+00</td>\n",
              "      <td>1.670847e+00</td>\n",
              "      <td>4.648197e+00</td>\n",
              "      <td>-7.281869e+01</td>\n",
              "      <td>4.011494e+01</td>\n",
              "      <td>1.039350e+00</td>\n",
              "      <td>-7.288659e+01</td>\n",
              "      <td>4.015315e+01</td>\n",
              "      <td>1.248693e+01</td>\n",
              "    </tr>\n",
              "    <tr>\n",
              "      <th>std</th>\n",
              "      <td>4.987718e-01</td>\n",
              "      <td>1.324891e+00</td>\n",
              "      <td>2.981095e+03</td>\n",
              "      <td>9.168964e+00</td>\n",
              "      <td>5.051022e+00</td>\n",
              "      <td>5.186309e-01</td>\n",
              "      <td>8.900841e+00</td>\n",
              "      <td>4.903456e+00</td>\n",
              "      <td>3.556400e+01</td>\n",
              "    </tr>\n",
              "    <tr>\n",
              "      <th>min</th>\n",
              "      <td>1.000000e+00</td>\n",
              "      <td>0.000000e+00</td>\n",
              "      <td>0.000000e+00</td>\n",
              "      <td>-1.219343e+02</td>\n",
              "      <td>0.000000e+00</td>\n",
              "      <td>1.000000e+00</td>\n",
              "      <td>-1.219335e+02</td>\n",
              "      <td>0.000000e+00</td>\n",
              "      <td>-9.576000e+02</td>\n",
              "    </tr>\n",
              "    <tr>\n",
              "      <th>25%</th>\n",
              "      <td>1.000000e+00</td>\n",
              "      <td>1.000000e+00</td>\n",
              "      <td>1.100000e+00</td>\n",
              "      <td>-7.399062e+01</td>\n",
              "      <td>4.073968e+01</td>\n",
              "      <td>1.000000e+00</td>\n",
              "      <td>-7.399009e+01</td>\n",
              "      <td>4.073903e+01</td>\n",
              "      <td>7.000000e+00</td>\n",
              "    </tr>\n",
              "    <tr>\n",
              "      <th>50%</th>\n",
              "      <td>2.000000e+00</td>\n",
              "      <td>1.000000e+00</td>\n",
              "      <td>1.930000e+00</td>\n",
              "      <td>-7.397945e+01</td>\n",
              "      <td>4.075607e+01</td>\n",
              "      <td>1.000000e+00</td>\n",
              "      <td>-7.397832e+01</td>\n",
              "      <td>4.075607e+01</td>\n",
              "      <td>1.000000e+01</td>\n",
              "    </tr>\n",
              "    <tr>\n",
              "      <th>75%</th>\n",
              "      <td>2.000000e+00</td>\n",
              "      <td>2.000000e+00</td>\n",
              "      <td>3.800000e+00</td>\n",
              "      <td>-7.396252e+01</td>\n",
              "      <td>4.076970e+01</td>\n",
              "      <td>1.000000e+00</td>\n",
              "      <td>-7.395599e+01</td>\n",
              "      <td>4.077128e+01</td>\n",
              "      <td>1.550000e+01</td>\n",
              "    </tr>\n",
              "    <tr>\n",
              "      <th>max</th>\n",
              "      <td>2.000000e+00</td>\n",
              "      <td>9.000000e+00</td>\n",
              "      <td>8.000010e+06</td>\n",
              "      <td>0.000000e+00</td>\n",
              "      <td>6.090876e+01</td>\n",
              "      <td>9.900000e+01</td>\n",
              "      <td>0.000000e+00</td>\n",
              "      <td>6.090876e+01</td>\n",
              "      <td>1.112709e+05</td>\n",
              "    </tr>\n",
              "  </tbody>\n",
              "</table>\n",
              "</div>\n",
              "    <div class=\"colab-df-buttons\">\n",
              "\n",
              "  <div class=\"colab-df-container\">\n",
              "    <button class=\"colab-df-convert\" onclick=\"convertToInteractive('df-4769a910-0109-47de-9c89-a90a0f3d4e87')\"\n",
              "            title=\"Convert this dataframe to an interactive table.\"\n",
              "            style=\"display:none;\">\n",
              "\n",
              "  <svg xmlns=\"http://www.w3.org/2000/svg\" height=\"24px\" viewBox=\"0 -960 960 960\">\n",
              "    <path d=\"M120-120v-720h720v720H120Zm60-500h600v-160H180v160Zm220 220h160v-160H400v160Zm0 220h160v-160H400v160ZM180-400h160v-160H180v160Zm440 0h160v-160H620v160ZM180-180h160v-160H180v160Zm440 0h160v-160H620v160Z\"/>\n",
              "  </svg>\n",
              "    </button>\n",
              "\n",
              "  <style>\n",
              "    .colab-df-container {\n",
              "      display:flex;\n",
              "      gap: 12px;\n",
              "    }\n",
              "\n",
              "    .colab-df-convert {\n",
              "      background-color: #E8F0FE;\n",
              "      border: none;\n",
              "      border-radius: 50%;\n",
              "      cursor: pointer;\n",
              "      display: none;\n",
              "      fill: #1967D2;\n",
              "      height: 32px;\n",
              "      padding: 0 0 0 0;\n",
              "      width: 32px;\n",
              "    }\n",
              "\n",
              "    .colab-df-convert:hover {\n",
              "      background-color: #E2EBFA;\n",
              "      box-shadow: 0px 1px 2px rgba(60, 64, 67, 0.3), 0px 1px 3px 1px rgba(60, 64, 67, 0.15);\n",
              "      fill: #174EA6;\n",
              "    }\n",
              "\n",
              "    .colab-df-buttons div {\n",
              "      margin-bottom: 4px;\n",
              "    }\n",
              "\n",
              "    [theme=dark] .colab-df-convert {\n",
              "      background-color: #3B4455;\n",
              "      fill: #D2E3FC;\n",
              "    }\n",
              "\n",
              "    [theme=dark] .colab-df-convert:hover {\n",
              "      background-color: #434B5C;\n",
              "      box-shadow: 0px 1px 3px 1px rgba(0, 0, 0, 0.15);\n",
              "      filter: drop-shadow(0px 1px 2px rgba(0, 0, 0, 0.3));\n",
              "      fill: #FFFFFF;\n",
              "    }\n",
              "  </style>\n",
              "\n",
              "    <script>\n",
              "      const buttonEl =\n",
              "        document.querySelector('#df-4769a910-0109-47de-9c89-a90a0f3d4e87 button.colab-df-convert');\n",
              "      buttonEl.style.display =\n",
              "        google.colab.kernel.accessAllowed ? 'block' : 'none';\n",
              "\n",
              "      async function convertToInteractive(key) {\n",
              "        const element = document.querySelector('#df-4769a910-0109-47de-9c89-a90a0f3d4e87');\n",
              "        const dataTable =\n",
              "          await google.colab.kernel.invokeFunction('convertToInteractive',\n",
              "                                                    [key], {});\n",
              "        if (!dataTable) return;\n",
              "\n",
              "        const docLinkHtml = 'Like what you see? Visit the ' +\n",
              "          '<a target=\"_blank\" href=https://colab.research.google.com/notebooks/data_table.ipynb>data table notebook</a>'\n",
              "          + ' to learn more about interactive tables.';\n",
              "        element.innerHTML = '';\n",
              "        dataTable['output_type'] = 'display_data';\n",
              "        await google.colab.output.renderOutput(dataTable, element);\n",
              "        const docLink = document.createElement('div');\n",
              "        docLink.innerHTML = docLinkHtml;\n",
              "        element.appendChild(docLink);\n",
              "      }\n",
              "    </script>\n",
              "  </div>\n",
              "\n",
              "\n",
              "<div id=\"df-a9b8a0d8-94f5-4117-b51c-88faf56ff614\">\n",
              "  <button class=\"colab-df-quickchart\" onclick=\"quickchart('df-a9b8a0d8-94f5-4117-b51c-88faf56ff614')\"\n",
              "            title=\"Suggest charts\"\n",
              "            style=\"display:none;\">\n",
              "\n",
              "<svg xmlns=\"http://www.w3.org/2000/svg\" height=\"24px\"viewBox=\"0 0 24 24\"\n",
              "     width=\"24px\">\n",
              "    <g>\n",
              "        <path d=\"M19 3H5c-1.1 0-2 .9-2 2v14c0 1.1.9 2 2 2h14c1.1 0 2-.9 2-2V5c0-1.1-.9-2-2-2zM9 17H7v-7h2v7zm4 0h-2V7h2v10zm4 0h-2v-4h2v4z\"/>\n",
              "    </g>\n",
              "</svg>\n",
              "  </button>\n",
              "\n",
              "<style>\n",
              "  .colab-df-quickchart {\n",
              "      --bg-color: #E8F0FE;\n",
              "      --fill-color: #1967D2;\n",
              "      --hover-bg-color: #E2EBFA;\n",
              "      --hover-fill-color: #174EA6;\n",
              "      --disabled-fill-color: #AAA;\n",
              "      --disabled-bg-color: #DDD;\n",
              "  }\n",
              "\n",
              "  [theme=dark] .colab-df-quickchart {\n",
              "      --bg-color: #3B4455;\n",
              "      --fill-color: #D2E3FC;\n",
              "      --hover-bg-color: #434B5C;\n",
              "      --hover-fill-color: #FFFFFF;\n",
              "      --disabled-bg-color: #3B4455;\n",
              "      --disabled-fill-color: #666;\n",
              "  }\n",
              "\n",
              "  .colab-df-quickchart {\n",
              "    background-color: var(--bg-color);\n",
              "    border: none;\n",
              "    border-radius: 50%;\n",
              "    cursor: pointer;\n",
              "    display: none;\n",
              "    fill: var(--fill-color);\n",
              "    height: 32px;\n",
              "    padding: 0;\n",
              "    width: 32px;\n",
              "  }\n",
              "\n",
              "  .colab-df-quickchart:hover {\n",
              "    background-color: var(--hover-bg-color);\n",
              "    box-shadow: 0 1px 2px rgba(60, 64, 67, 0.3), 0 1px 3px 1px rgba(60, 64, 67, 0.15);\n",
              "    fill: var(--button-hover-fill-color);\n",
              "  }\n",
              "\n",
              "  .colab-df-quickchart-complete:disabled,\n",
              "  .colab-df-quickchart-complete:disabled:hover {\n",
              "    background-color: var(--disabled-bg-color);\n",
              "    fill: var(--disabled-fill-color);\n",
              "    box-shadow: none;\n",
              "  }\n",
              "\n",
              "  .colab-df-spinner {\n",
              "    border: 2px solid var(--fill-color);\n",
              "    border-color: transparent;\n",
              "    border-bottom-color: var(--fill-color);\n",
              "    animation:\n",
              "      spin 1s steps(1) infinite;\n",
              "  }\n",
              "\n",
              "  @keyframes spin {\n",
              "    0% {\n",
              "      border-color: transparent;\n",
              "      border-bottom-color: var(--fill-color);\n",
              "      border-left-color: var(--fill-color);\n",
              "    }\n",
              "    20% {\n",
              "      border-color: transparent;\n",
              "      border-left-color: var(--fill-color);\n",
              "      border-top-color: var(--fill-color);\n",
              "    }\n",
              "    30% {\n",
              "      border-color: transparent;\n",
              "      border-left-color: var(--fill-color);\n",
              "      border-top-color: var(--fill-color);\n",
              "      border-right-color: var(--fill-color);\n",
              "    }\n",
              "    40% {\n",
              "      border-color: transparent;\n",
              "      border-right-color: var(--fill-color);\n",
              "      border-top-color: var(--fill-color);\n",
              "    }\n",
              "    60% {\n",
              "      border-color: transparent;\n",
              "      border-right-color: var(--fill-color);\n",
              "    }\n",
              "    80% {\n",
              "      border-color: transparent;\n",
              "      border-right-color: var(--fill-color);\n",
              "      border-bottom-color: var(--fill-color);\n",
              "    }\n",
              "    90% {\n",
              "      border-color: transparent;\n",
              "      border-bottom-color: var(--fill-color);\n",
              "    }\n",
              "  }\n",
              "</style>\n",
              "\n",
              "  <script>\n",
              "    async function quickchart(key) {\n",
              "      const quickchartButtonEl =\n",
              "        document.querySelector('#' + key + ' button');\n",
              "      quickchartButtonEl.disabled = true;  // To prevent multiple clicks.\n",
              "      quickchartButtonEl.classList.add('colab-df-spinner');\n",
              "      try {\n",
              "        const charts = await google.colab.kernel.invokeFunction(\n",
              "            'suggestCharts', [key], {});\n",
              "      } catch (error) {\n",
              "        console.error('Error during call to suggestCharts:', error);\n",
              "      }\n",
              "      quickchartButtonEl.classList.remove('colab-df-spinner');\n",
              "      quickchartButtonEl.classList.add('colab-df-quickchart-complete');\n",
              "    }\n",
              "    (() => {\n",
              "      let quickchartButtonEl =\n",
              "        document.querySelector('#df-a9b8a0d8-94f5-4117-b51c-88faf56ff614 button');\n",
              "      quickchartButtonEl.style.display =\n",
              "        google.colab.kernel.accessAllowed ? 'block' : 'none';\n",
              "    })();\n",
              "  </script>\n",
              "</div>\n",
              "\n",
              "    </div>\n",
              "  </div>\n"
            ],
            "application/vnd.google.colaboratory.intrinsic+json": {
              "type": "dataframe",
              "summary": "{\n  \"name\": \"df_final\",\n  \"rows\": 8,\n  \"fields\": [\n    {\n      \"column\": \"VendorID\",\n      \"properties\": {\n        \"dtype\": \"number\",\n        \"std\": 11568469.37307492,\n        \"min\": 0.49877183015131343,\n        \"max\": 32720574.0,\n        \"num_unique_values\": 5,\n        \"samples\": [\n          1.5350238354620551,\n          2.0,\n          0.49877183015131343\n        ],\n        \"semantic_type\": \"\",\n        \"description\": \"\"\n      }\n    },\n    {\n      \"column\": \"passenger_count\",\n      \"properties\": {\n        \"dtype\": \"number\",\n        \"std\": 11568469.07195171,\n        \"min\": 0.0,\n        \"max\": 32720574.0,\n        \"num_unique_values\": 7,\n        \"samples\": [\n          32720574.0,\n          1.670846819496504,\n          2.0\n        ],\n        \"semantic_type\": \"\",\n        \"description\": \"\"\n      }\n    },\n    {\n      \"column\": \"trip_distance\",\n      \"properties\": {\n        \"dtype\": \"number\",\n        \"std\": 11509840.017877843,\n        \"min\": 0.0,\n        \"max\": 32720574.0,\n        \"num_unique_values\": 8,\n        \"samples\": [\n          4.648196988536937,\n          1.93,\n          32720574.0\n        ],\n        \"semantic_type\": \"\",\n        \"description\": \"\"\n      }\n    },\n    {\n      \"column\": \"pickup_longitude\",\n      \"properties\": {\n        \"dtype\": \"number\",\n        \"std\": 11568490.462634861,\n        \"min\": -121.93428802490234,\n        \"max\": 32720574.0,\n        \"num_unique_values\": 8,\n        \"samples\": [\n          -72.81869455769785,\n          -73.97944641113281,\n          32720574.0\n        ],\n        \"semantic_type\": \"\",\n        \"description\": \"\"\n      }\n    },\n    {\n      \"column\": \"pickup_latitude\",\n      \"properties\": {\n        \"dtype\": \"number\",\n        \"std\": 11568458.346955867,\n        \"min\": 0.0,\n        \"max\": 32720574.0,\n        \"num_unique_values\": 8,\n        \"samples\": [\n          40.11494259107597,\n          40.75606536865234,\n          32720574.0\n        ],\n        \"semantic_type\": \"\",\n        \"description\": \"\"\n      }\n    },\n    {\n      \"column\": \"RatecodeID\",\n      \"properties\": {\n        \"dtype\": \"number\",\n        \"std\": 11568464.598933518,\n        \"min\": 0.5186309003849007,\n        \"max\": 32720574.0,\n        \"num_unique_values\": 5,\n        \"samples\": [\n          1.0393496458833515,\n          99.0,\n          0.5186309003849007\n        ],\n        \"semantic_type\": \"\",\n        \"description\": \"\"\n      }\n    },\n    {\n      \"column\": \"dropoff_longitude\",\n      \"properties\": {\n        \"dtype\": \"number\",\n        \"std\": 11568490.479152251,\n        \"min\": -121.93348693847656,\n        \"max\": 32720574.0,\n        \"num_unique_values\": 8,\n        \"samples\": [\n          -72.88659117441934,\n          -73.97831726074217,\n          32720574.0\n        ],\n        \"semantic_type\": \"\",\n        \"description\": \"\"\n      }\n    },\n    {\n      \"column\": \"dropoff_latitude\",\n      \"properties\": {\n        \"dtype\": \"number\",\n        \"std\": 11568458.352431878,\n        \"min\": 0.0,\n        \"max\": 32720574.0,\n        \"num_unique_values\": 8,\n        \"samples\": [\n          40.15315229928888,\n          40.75606918334961,\n          32720574.0\n        ],\n        \"semantic_type\": \"\",\n        \"description\": \"\"\n      }\n    },\n    {\n      \"column\": \"fare_amount\",\n      \"properties\": {\n        \"dtype\": \"number\",\n        \"std\": 11562959.885322941,\n        \"min\": -957.6,\n        \"max\": 32720574.0,\n        \"num_unique_values\": 8,\n        \"samples\": [\n          12.48692947043044,\n          10.0,\n          32720574.0\n        ],\n        \"semantic_type\": \"\",\n        \"description\": \"\"\n      }\n    }\n  ]\n}"
            }
          },
          "metadata": {},
          "execution_count": 26
        }
      ]
    },
    {
      "cell_type": "markdown",
      "source": [
        "## **Vendor ID**"
      ],
      "metadata": {
        "id": "lrf7gNZZVOYL"
      }
    },
    {
      "cell_type": "code",
      "source": [
        "df_final[\"VendorID\"].value_counts(normalize=True).visualize()"
      ],
      "metadata": {
        "colab": {
          "base_uri": "https://localhost:8080/",
          "height": 773
        },
        "id": "wEfu9PNRUv90",
        "outputId": "7e11b3bf-0841-4d4e-f11a-7e0684a0222c"
      },
      "execution_count": 28,
      "outputs": [
        {
          "output_type": "execute_result",
          "data": {
            "image/svg+xml": "<?xml version=\"1.0\" encoding=\"UTF-8\" standalone=\"no\"?>\n<!DOCTYPE svg PUBLIC \"-//W3C//DTD SVG 1.1//EN\"\n \"http://www.w3.org/Graphics/SVG/1.1/DTD/svg11.dtd\">\n<!-- Generated by graphviz version 2.43.0 (0)\n -->\n<!-- Title: %3 Pages: 1 -->\n<svg width=\"739pt\" height=\"548pt\"\n viewBox=\"0.00 0.00 739.00 548.00\" xmlns=\"http://www.w3.org/2000/svg\" xmlns:xlink=\"http://www.w3.org/1999/xlink\">\n<g id=\"graph0\" class=\"graph\" transform=\"scale(1 1) rotate(0) translate(4 544)\">\n<title>%3</title>\n<polygon fill=\"white\" stroke=\"transparent\" points=\"-4,4 -4,-544 735,-544 735,4 -4,4\"/>\n<!-- 421690927071308218 -->\n<g id=\"node1\" class=\"node\">\n<title>421690927071308218</title>\n<polygon fill=\"none\" stroke=\"black\" points=\"490,-540 213,-540 213,-504 490,-504 490,-540\"/>\n<text text-anchor=\"middle\" x=\"351.5\" y=\"-517\" font-family=\"Helvetica,sans-Serif\" font-size=\"20.00\">ValueCounts(Projection, Len)</text>\n</g>\n<!-- 3266080668195477292 -->\n<g id=\"node2\" class=\"node\">\n<title>3266080668195477292</title>\n<polygon fill=\"none\" stroke=\"black\" points=\"520,-468 333,-468 333,-432 520,-432 520,-468\"/>\n<text text-anchor=\"middle\" x=\"426.5\" y=\"-445\" font-family=\"Helvetica,sans-Serif\" font-size=\"20.00\">Len(DropnaSeries)</text>\n</g>\n<!-- 3266080668195477292&#45;&gt;421690927071308218 -->\n<g id=\"edge2\" class=\"edge\">\n<title>3266080668195477292&#45;&gt;421690927071308218</title>\n<path fill=\"none\" stroke=\"black\" d=\"M407.96,-468.3C398.7,-476.95 387.34,-487.55 377.24,-496.97\"/>\n<polygon fill=\"black\" stroke=\"black\" points=\"374.75,-494.51 369.83,-503.9 379.52,-499.63 374.75,-494.51\"/>\n</g>\n<!-- 7403457116311669356 -->\n<g id=\"node3\" class=\"node\">\n<title>7403457116311669356</title>\n<polygon fill=\"none\" stroke=\"black\" points=\"561.5,-396 319.5,-396 319.5,-360 561.5,-360 561.5,-396\"/>\n<text text-anchor=\"middle\" x=\"440.5\" y=\"-373\" font-family=\"Helvetica,sans-Serif\" font-size=\"20.00\">DropnaSeries(Projection)</text>\n</g>\n<!-- 7403457116311669356&#45;&gt;3266080668195477292 -->\n<g id=\"edge3\" class=\"edge\">\n<title>7403457116311669356&#45;&gt;3266080668195477292</title>\n<path fill=\"none\" stroke=\"black\" d=\"M437.04,-396.3C435.5,-404.02 433.64,-413.29 431.92,-421.89\"/>\n<polygon fill=\"black\" stroke=\"black\" points=\"428.45,-421.4 429.92,-431.9 435.31,-422.78 428.45,-421.4\"/>\n</g>\n<!-- &#45;3304103571223404301 -->\n<g id=\"node4\" class=\"node\">\n<title>&#45;3304103571223404301</title>\n<polygon fill=\"none\" stroke=\"black\" points=\"494,-324 237,-324 237,-288 494,-288 494,-324\"/>\n<text text-anchor=\"middle\" x=\"365.5\" y=\"-301\" font-family=\"Helvetica,sans-Serif\" font-size=\"20.00\">Projection(Drop, VendorID)</text>\n</g>\n<!-- &#45;3304103571223404301&#45;&gt;421690927071308218 -->\n<g id=\"edge1\" class=\"edge\">\n<title>&#45;3304103571223404301&#45;&gt;421690927071308218</title>\n<path fill=\"none\" stroke=\"black\" d=\"M340.12,-324.05C328.79,-333.21 316.62,-345.6 310.5,-360 291.09,-405.66 316.28,-462.65 334.89,-495.13\"/>\n<polygon fill=\"black\" stroke=\"black\" points=\"332.04,-497.19 340.16,-504 338.06,-493.61 332.04,-497.19\"/>\n</g>\n<!-- &#45;3304103571223404301&#45;&gt;7403457116311669356 -->\n<g id=\"edge4\" class=\"edge\">\n<title>&#45;3304103571223404301&#45;&gt;7403457116311669356</title>\n<path fill=\"none\" stroke=\"black\" d=\"M384.04,-324.3C393.3,-332.95 404.66,-343.55 414.76,-352.97\"/>\n<polygon fill=\"black\" stroke=\"black\" points=\"412.48,-355.63 422.17,-359.9 417.25,-350.51 412.48,-355.63\"/>\n</g>\n<!-- &#45;1980465335869368908 -->\n<g id=\"node5\" class=\"node\">\n<title>&#45;1980465335869368908</title>\n<polygon fill=\"none\" stroke=\"black\" points=\"434,-252 297,-252 297,-216 434,-216 434,-252\"/>\n<text text-anchor=\"middle\" x=\"365.5\" y=\"-229\" font-family=\"Helvetica,sans-Serif\" font-size=\"20.00\">Drop(Concat)</text>\n</g>\n<!-- &#45;1980465335869368908&#45;&gt;&#45;3304103571223404301 -->\n<g id=\"edge5\" class=\"edge\">\n<title>&#45;1980465335869368908&#45;&gt;&#45;3304103571223404301</title>\n<path fill=\"none\" stroke=\"black\" d=\"M365.5,-252.3C365.5,-260.02 365.5,-269.29 365.5,-277.89\"/>\n<polygon fill=\"black\" stroke=\"black\" points=\"362,-277.9 365.5,-287.9 369,-277.9 362,-277.9\"/>\n</g>\n<!-- 1341296637188645068 -->\n<g id=\"node6\" class=\"node\">\n<title>1341296637188645068</title>\n<polygon fill=\"none\" stroke=\"black\" points=\"731,-180 0,-180 0,-144 731,-144 731,-180\"/>\n<text text-anchor=\"middle\" x=\"365.5\" y=\"-157\" font-family=\"Helvetica,sans-Serif\" font-size=\"20.00\">Concat(ArrowStringConversion, ArrowStringConversion, ArrowStringConversion)</text>\n</g>\n<!-- 1341296637188645068&#45;&gt;&#45;1980465335869368908 -->\n<g id=\"edge6\" class=\"edge\">\n<title>1341296637188645068&#45;&gt;&#45;1980465335869368908</title>\n<path fill=\"none\" stroke=\"black\" d=\"M365.5,-180.3C365.5,-188.02 365.5,-197.29 365.5,-205.89\"/>\n<polygon fill=\"black\" stroke=\"black\" points=\"362,-205.9 365.5,-215.9 369,-205.9 362,-205.9\"/>\n</g>\n<!-- &#45;7566481729919965046 -->\n<g id=\"node7\" class=\"node\">\n<title>&#45;7566481729919965046</title>\n<polygon fill=\"none\" stroke=\"black\" points=\"576.5,-108 154.5,-108 154.5,-72 576.5,-72 576.5,-108\"/>\n<text text-anchor=\"middle\" x=\"365.5\" y=\"-85\" font-family=\"Helvetica,sans-Serif\" font-size=\"20.00\">ArrowStringConversion(FromMapProjectable)</text>\n</g>\n<!-- &#45;7566481729919965046&#45;&gt;1341296637188645068 -->\n<g id=\"edge7\" class=\"edge\">\n<title>&#45;7566481729919965046&#45;&gt;1341296637188645068</title>\n<path fill=\"none\" stroke=\"black\" d=\"M365.5,-108.3C365.5,-116.02 365.5,-125.29 365.5,-133.89\"/>\n<polygon fill=\"black\" stroke=\"black\" points=\"362,-133.9 365.5,-143.9 369,-133.9 362,-133.9\"/>\n</g>\n<!-- 1195809208253362179 -->\n<g id=\"node8\" class=\"node\">\n<title>1195809208253362179</title>\n<polygon fill=\"none\" stroke=\"black\" points=\"467,-36 264,-36 264,0 467,0 467,-36\"/>\n<text text-anchor=\"middle\" x=\"365.5\" y=\"-13\" font-family=\"Helvetica,sans-Serif\" font-size=\"20.00\">FromMapProjectable</text>\n</g>\n<!-- 1195809208253362179&#45;&gt;&#45;7566481729919965046 -->\n<g id=\"edge8\" class=\"edge\">\n<title>1195809208253362179&#45;&gt;&#45;7566481729919965046</title>\n<path fill=\"none\" stroke=\"black\" d=\"M365.5,-36.3C365.5,-44.02 365.5,-53.29 365.5,-61.89\"/>\n<polygon fill=\"black\" stroke=\"black\" points=\"362,-61.9 365.5,-71.9 369,-61.9 362,-61.9\"/>\n</g>\n</g>\n</svg>\n",
            "text/plain": [
              "<graphviz.graphs.Digraph at 0x7bb4b99623d0>"
            ]
          },
          "metadata": {},
          "execution_count": 28
        }
      ]
    },
    {
      "cell_type": "code",
      "source": [
        "# Pie Char of Vendor share in NYC.\n",
        "\n",
        "vendor_share = df_final[\"VendorID\"].value_counts(normalize=True).compute()"
      ],
      "metadata": {
        "id": "CjNAB0w5VVb_"
      },
      "execution_count": 29,
      "outputs": []
    },
    {
      "cell_type": "code",
      "source": [
        "vendor_share"
      ],
      "metadata": {
        "colab": {
          "base_uri": "https://localhost:8080/",
          "height": 193
        },
        "id": "4g5mRifJVzu0",
        "outputId": "81c7f772-674a-4072-983d-badabd77a06e"
      },
      "execution_count": 30,
      "outputs": [
        {
          "output_type": "execute_result",
          "data": {
            "text/plain": [
              "VendorID\n",
              "2.0    0.535024\n",
              "1.0    0.464976\n",
              "Name: proportion, dtype: float64"
            ],
            "text/html": [
              "<div>\n",
              "<style scoped>\n",
              "    .dataframe tbody tr th:only-of-type {\n",
              "        vertical-align: middle;\n",
              "    }\n",
              "\n",
              "    .dataframe tbody tr th {\n",
              "        vertical-align: top;\n",
              "    }\n",
              "\n",
              "    .dataframe thead th {\n",
              "        text-align: right;\n",
              "    }\n",
              "</style>\n",
              "<table border=\"1\" class=\"dataframe\">\n",
              "  <thead>\n",
              "    <tr style=\"text-align: right;\">\n",
              "      <th></th>\n",
              "      <th>proportion</th>\n",
              "    </tr>\n",
              "    <tr>\n",
              "      <th>VendorID</th>\n",
              "      <th></th>\n",
              "    </tr>\n",
              "  </thead>\n",
              "  <tbody>\n",
              "    <tr>\n",
              "      <th>2.0</th>\n",
              "      <td>0.535024</td>\n",
              "    </tr>\n",
              "    <tr>\n",
              "      <th>1.0</th>\n",
              "      <td>0.464976</td>\n",
              "    </tr>\n",
              "  </tbody>\n",
              "</table>\n",
              "</div><br><label><b>dtype:</b> float64</label>"
            ]
          },
          "metadata": {},
          "execution_count": 30
        }
      ]
    },
    {
      "cell_type": "code",
      "source": [
        "type(vendor_share)"
      ],
      "metadata": {
        "colab": {
          "base_uri": "https://localhost:8080/",
          "height": 221
        },
        "id": "u-L8RdWfVqaW",
        "outputId": "50323bf5-ea31-4fc3-b733-d9dc268e4a16"
      },
      "execution_count": 31,
      "outputs": [
        {
          "output_type": "execute_result",
          "data": {
            "text/plain": [
              "pandas.core.series.Series"
            ],
            "text/html": [
              "<div style=\"max-width:800px; border: 1px solid var(--colab-border-color);\"><style>\n",
              "      pre.function-repr-contents {\n",
              "        overflow-x: auto;\n",
              "        padding: 8px 12px;\n",
              "        max-height: 500px;\n",
              "      }\n",
              "\n",
              "      pre.function-repr-contents.function-repr-contents-collapsed {\n",
              "        cursor: pointer;\n",
              "        max-height: 100px;\n",
              "      }\n",
              "    </style>\n",
              "    <pre style=\"white-space: initial; background:\n",
              "         var(--colab-secondary-surface-color); padding: 8px 12px;\n",
              "         border-bottom: 1px solid var(--colab-border-color);\"><b>pandas.core.series.Series</b><br/>def __init__(data=None, index=None, dtype: Dtype | None=None, name=None, copy: bool | None=None, fastpath: bool | lib.NoDefault=lib.no_default) -&gt; None</pre><pre class=\"function-repr-contents function-repr-contents-collapsed\" style=\"\"><a class=\"filepath\" style=\"display:none\" href=\"#\">/usr/local/lib/python3.11/dist-packages/pandas/core/series.py</a>One-dimensional ndarray with axis labels (including time series).\n",
              "\n",
              "Labels need not be unique but must be a hashable type. The object\n",
              "supports both integer- and label-based indexing and provides a host of\n",
              "methods for performing operations involving the index. Statistical\n",
              "methods from ndarray have been overridden to automatically exclude\n",
              "missing data (currently represented as NaN).\n",
              "\n",
              "Operations between Series (+, -, /, \\*, \\*\\*) align values based on their\n",
              "associated index values-- they need not be the same length. The result\n",
              "index will be the sorted union of the two indexes.\n",
              "\n",
              "Parameters\n",
              "----------\n",
              "data : array-like, Iterable, dict, or scalar value\n",
              "    Contains data stored in Series. If data is a dict, argument order is\n",
              "    maintained.\n",
              "index : array-like or Index (1d)\n",
              "    Values must be hashable and have the same length as `data`.\n",
              "    Non-unique index values are allowed. Will default to\n",
              "    RangeIndex (0, 1, 2, ..., n) if not provided. If data is dict-like\n",
              "    and index is None, then the keys in the data are used as the index. If the\n",
              "    index is not None, the resulting Series is reindexed with the index values.\n",
              "dtype : str, numpy.dtype, or ExtensionDtype, optional\n",
              "    Data type for the output Series. If not specified, this will be\n",
              "    inferred from `data`.\n",
              "    See the :ref:`user guide &lt;basics.dtypes&gt;` for more usages.\n",
              "name : Hashable, default None\n",
              "    The name to give to the Series.\n",
              "copy : bool, default False\n",
              "    Copy input data. Only affects Series or 1d ndarray input. See examples.\n",
              "\n",
              "Notes\n",
              "-----\n",
              "Please reference the :ref:`User Guide &lt;basics.series&gt;` for more information.\n",
              "\n",
              "Examples\n",
              "--------\n",
              "Constructing Series from a dictionary with an Index specified\n",
              "\n",
              "&gt;&gt;&gt; d = {&#x27;a&#x27;: 1, &#x27;b&#x27;: 2, &#x27;c&#x27;: 3}\n",
              "&gt;&gt;&gt; ser = pd.Series(data=d, index=[&#x27;a&#x27;, &#x27;b&#x27;, &#x27;c&#x27;])\n",
              "&gt;&gt;&gt; ser\n",
              "a   1\n",
              "b   2\n",
              "c   3\n",
              "dtype: int64\n",
              "\n",
              "The keys of the dictionary match with the Index values, hence the Index\n",
              "values have no effect.\n",
              "\n",
              "&gt;&gt;&gt; d = {&#x27;a&#x27;: 1, &#x27;b&#x27;: 2, &#x27;c&#x27;: 3}\n",
              "&gt;&gt;&gt; ser = pd.Series(data=d, index=[&#x27;x&#x27;, &#x27;y&#x27;, &#x27;z&#x27;])\n",
              "&gt;&gt;&gt; ser\n",
              "x   NaN\n",
              "y   NaN\n",
              "z   NaN\n",
              "dtype: float64\n",
              "\n",
              "Note that the Index is first build with the keys from the dictionary.\n",
              "After this the Series is reindexed with the given Index values, hence we\n",
              "get all NaN as a result.\n",
              "\n",
              "Constructing Series from a list with `copy=False`.\n",
              "\n",
              "&gt;&gt;&gt; r = [1, 2]\n",
              "&gt;&gt;&gt; ser = pd.Series(r, copy=False)\n",
              "&gt;&gt;&gt; ser.iloc[0] = 999\n",
              "&gt;&gt;&gt; r\n",
              "[1, 2]\n",
              "&gt;&gt;&gt; ser\n",
              "0    999\n",
              "1      2\n",
              "dtype: int64\n",
              "\n",
              "Due to input data type the Series has a `copy` of\n",
              "the original data even though `copy=False`, so\n",
              "the data is unchanged.\n",
              "\n",
              "Constructing Series from a 1d ndarray with `copy=False`.\n",
              "\n",
              "&gt;&gt;&gt; r = np.array([1, 2])\n",
              "&gt;&gt;&gt; ser = pd.Series(r, copy=False)\n",
              "&gt;&gt;&gt; ser.iloc[0] = 999\n",
              "&gt;&gt;&gt; r\n",
              "array([999,   2])\n",
              "&gt;&gt;&gt; ser\n",
              "0    999\n",
              "1      2\n",
              "dtype: int64\n",
              "\n",
              "Due to input data type the Series has a `view` on\n",
              "the original data, so\n",
              "the data is changed as well.</pre>\n",
              "      <script>\n",
              "      if (google.colab.kernel.accessAllowed && google.colab.files && google.colab.files.view) {\n",
              "        for (const element of document.querySelectorAll('.filepath')) {\n",
              "          element.style.display = 'block'\n",
              "          element.onclick = (event) => {\n",
              "            event.preventDefault();\n",
              "            event.stopPropagation();\n",
              "            google.colab.files.view(element.textContent, 263);\n",
              "          };\n",
              "        }\n",
              "      }\n",
              "      for (const element of document.querySelectorAll('.function-repr-contents')) {\n",
              "        element.onclick = (event) => {\n",
              "          event.preventDefault();\n",
              "          event.stopPropagation();\n",
              "          element.classList.toggle('function-repr-contents-collapsed');\n",
              "        };\n",
              "      }\n",
              "      </script>\n",
              "      </div>"
            ]
          },
          "metadata": {},
          "execution_count": 31
        }
      ]
    },
    {
      "cell_type": "code",
      "source": [
        "plt.pie(\n",
        "    vendor_share,\n",
        "    labels=[\"Creative Mobile Technologies\",\"VeriFone Inc.\"],\n",
        "    autopct=\"%.2f%%\",\n",
        "    radius=1,\n",
        "    wedgeprops=dict(width=0.5, edgecolor=\"w\")\n",
        ")\n",
        "plt.show()"
      ],
      "metadata": {
        "colab": {
          "base_uri": "https://localhost:8080/",
          "height": 426
        },
        "id": "b6gQMDznV2zG",
        "outputId": "98af8cb2-da7a-42fc-9bc9-18db9340b3b7"
      },
      "execution_count": 32,
      "outputs": [
        {
          "output_type": "display_data",
          "data": {
            "text/plain": [
              "<Figure size 640x480 with 1 Axes>"
            ],
            "image/png": "[encoded data removed]"
          },
          "metadata": {}
        }
      ]
    },
    {
      "cell_type": "markdown",
      "source": [
        "## **Passenger Count**"
      ],
      "metadata": {
        "id": "-4VZlbqWWNEe"
      }
    },
    {
      "cell_type": "code",
      "source": [
        "df_final[\"passenger_count\"].value_counts().visualize()"
      ],
      "metadata": {
        "colab": {
          "base_uri": "https://localhost:8080/",
          "height": 580
        },
        "id": "P9NFBnoqWJ9e",
        "outputId": "6e59b257-3f00-4e0b-c3a1-165c326bf45d"
      },
      "execution_count": 33,
      "outputs": [
        {
          "output_type": "execute_result",
          "data": {
            "image/svg+xml": "<?xml version=\"1.0\" encoding=\"UTF-8\" standalone=\"no\"?>\n<!DOCTYPE svg PUBLIC \"-//W3C//DTD SVG 1.1//EN\"\n \"http://www.w3.org/Graphics/SVG/1.1/DTD/svg11.dtd\">\n<!-- Generated by graphviz version 2.43.0 (0)\n -->\n<!-- Title: %3 Pages: 1 -->\n<svg width=\"739pt\" height=\"404pt\"\n viewBox=\"0.00 0.00 739.00 404.00\" xmlns=\"http://www.w3.org/2000/svg\" xmlns:xlink=\"http://www.w3.org/1999/xlink\">\n<g id=\"graph0\" class=\"graph\" transform=\"scale(1 1) rotate(0) translate(4 400)\">\n<title>%3</title>\n<polygon fill=\"white\" stroke=\"transparent\" points=\"-4,4 -4,-400 735,-400 735,4 -4,4\"/>\n<!-- &#45;3768197653963321629 -->\n<g id=\"node1\" class=\"node\">\n<title>&#45;3768197653963321629</title>\n<polygon fill=\"none\" stroke=\"black\" points=\"482,-396 249,-396 249,-360 482,-360 482,-396\"/>\n<text text-anchor=\"middle\" x=\"365.5\" y=\"-373\" font-family=\"Helvetica,sans-Serif\" font-size=\"20.00\">ValueCounts(Projection)</text>\n</g>\n<!-- &#45;5413579270224055583 -->\n<g id=\"node2\" class=\"node\">\n<title>&#45;5413579270224055583</title>\n<polygon fill=\"none\" stroke=\"black\" points=\"529,-324 202,-324 202,-288 529,-288 529,-324\"/>\n<text text-anchor=\"middle\" x=\"365.5\" y=\"-301\" font-family=\"Helvetica,sans-Serif\" font-size=\"20.00\">Projection(Drop, passenger_count)</text>\n</g>\n<!-- &#45;5413579270224055583&#45;&gt;&#45;3768197653963321629 -->\n<g id=\"edge1\" class=\"edge\">\n<title>&#45;5413579270224055583&#45;&gt;&#45;3768197653963321629</title>\n<path fill=\"none\" stroke=\"black\" d=\"M365.5,-324.3C365.5,-332.02 365.5,-341.29 365.5,-349.89\"/>\n<polygon fill=\"black\" stroke=\"black\" points=\"362,-349.9 365.5,-359.9 369,-349.9 362,-349.9\"/>\n</g>\n<!-- &#45;1980465335869368908 -->\n<g id=\"node3\" class=\"node\">\n<title>&#45;1980465335869368908</title>\n<polygon fill=\"none\" stroke=\"black\" points=\"434,-252 297,-252 297,-216 434,-216 434,-252\"/>\n<text text-anchor=\"middle\" x=\"365.5\" y=\"-229\" font-family=\"Helvetica,sans-Serif\" font-size=\"20.00\">Drop(Concat)</text>\n</g>\n<!-- &#45;1980465335869368908&#45;&gt;&#45;5413579270224055583 -->\n<g id=\"edge2\" class=\"edge\">\n<title>&#45;1980465335869368908&#45;&gt;&#45;5413579270224055583</title>\n<path fill=\"none\" stroke=\"black\" d=\"M365.5,-252.3C365.5,-260.02 365.5,-269.29 365.5,-277.89\"/>\n<polygon fill=\"black\" stroke=\"black\" points=\"362,-277.9 365.5,-287.9 369,-277.9 362,-277.9\"/>\n</g>\n<!-- 1341296637188645068 -->\n<g id=\"node4\" class=\"node\">\n<title>1341296637188645068</title>\n<polygon fill=\"none\" stroke=\"black\" points=\"731,-180 0,-180 0,-144 731,-144 731,-180\"/>\n<text text-anchor=\"middle\" x=\"365.5\" y=\"-157\" font-family=\"Helvetica,sans-Serif\" font-size=\"20.00\">Concat(ArrowStringConversion, ArrowStringConversion, ArrowStringConversion)</text>\n</g>\n<!-- 1341296637188645068&#45;&gt;&#45;1980465335869368908 -->\n<g id=\"edge3\" class=\"edge\">\n<title>1341296637188645068&#45;&gt;&#45;1980465335869368908</title>\n<path fill=\"none\" stroke=\"black\" d=\"M365.5,-180.3C365.5,-188.02 365.5,-197.29 365.5,-205.89\"/>\n<polygon fill=\"black\" stroke=\"black\" points=\"362,-205.9 365.5,-215.9 369,-205.9 362,-205.9\"/>\n</g>\n<!-- &#45;7566481729919965046 -->\n<g id=\"node5\" class=\"node\">\n<title>&#45;7566481729919965046</title>\n<polygon fill=\"none\" stroke=\"black\" points=\"576.5,-108 154.5,-108 154.5,-72 576.5,-72 576.5,-108\"/>\n<text text-anchor=\"middle\" x=\"365.5\" y=\"-85\" font-family=\"Helvetica,sans-Serif\" font-size=\"20.00\">ArrowStringConversion(FromMapProjectable)</text>\n</g>\n<!-- &#45;7566481729919965046&#45;&gt;1341296637188645068 -->\n<g id=\"edge4\" class=\"edge\">\n<title>&#45;7566481729919965046&#45;&gt;1341296637188645068</title>\n<path fill=\"none\" stroke=\"black\" d=\"M365.5,-108.3C365.5,-116.02 365.5,-125.29 365.5,-133.89\"/>\n<polygon fill=\"black\" stroke=\"black\" points=\"362,-133.9 365.5,-143.9 369,-133.9 362,-133.9\"/>\n</g>\n<!-- 1195809208253362179 -->\n<g id=\"node6\" class=\"node\">\n<title>1195809208253362179</title>\n<polygon fill=\"none\" stroke=\"black\" points=\"467,-36 264,-36 264,0 467,0 467,-36\"/>\n<text text-anchor=\"middle\" x=\"365.5\" y=\"-13\" font-family=\"Helvetica,sans-Serif\" font-size=\"20.00\">FromMapProjectable</text>\n</g>\n<!-- 1195809208253362179&#45;&gt;&#45;7566481729919965046 -->\n<g id=\"edge5\" class=\"edge\">\n<title>1195809208253362179&#45;&gt;&#45;7566481729919965046</title>\n<path fill=\"none\" stroke=\"black\" d=\"M365.5,-36.3C365.5,-44.02 365.5,-53.29 365.5,-61.89\"/>\n<polygon fill=\"black\" stroke=\"black\" points=\"362,-61.9 365.5,-71.9 369,-61.9 362,-61.9\"/>\n</g>\n</g>\n</svg>\n",
            "text/plain": [
              "<graphviz.graphs.Digraph at 0x7bb5dbb89050>"
            ]
          },
          "metadata": {},
          "execution_count": 33
        }
      ]
    },
    {
      "cell_type": "code",
      "source": [
        "# countplot for passenger plot.\n",
        "\n",
        "passenger_count = df_final[\"passenger_count\"].value_counts().compute()"
      ],
      "metadata": {
        "id": "zieWLb0CWQUf"
      },
      "execution_count": 34,
      "outputs": []
    },
    {
      "cell_type": "code",
      "source": [
        "passenger_count"
      ],
      "metadata": {
        "colab": {
          "base_uri": "https://localhost:8080/",
          "height": 438
        },
        "id": "ribMBPn-ZzSj",
        "outputId": "017cde86-5607-4cfc-efd3-94d8ac6ac7fe"
      },
      "execution_count": 35,
      "outputs": [
        {
          "output_type": "execute_result",
          "data": {
            "text/plain": [
              "passenger_count\n",
              "3.0     1309293\n",
              "7.0          66\n",
              "2.0     4685931\n",
              "1.0    23180952\n",
              "0.0        1560\n",
              "4.0      631923\n",
              "9.0          69\n",
              "8.0          78\n",
              "5.0     1803237\n",
              "6.0     1107465\n",
              "Name: count, dtype: int64"
            ],
            "text/html": [
              "<div>\n",
              "<style scoped>\n",
              "    .dataframe tbody tr th:only-of-type {\n",
              "        vertical-align: middle;\n",
              "    }\n",
              "\n",
              "    .dataframe tbody tr th {\n",
              "        vertical-align: top;\n",
              "    }\n",
              "\n",
              "    .dataframe thead th {\n",
              "        text-align: right;\n",
              "    }\n",
              "</style>\n",
              "<table border=\"1\" class=\"dataframe\">\n",
              "  <thead>\n",
              "    <tr style=\"text-align: right;\">\n",
              "      <th></th>\n",
              "      <th>count</th>\n",
              "    </tr>\n",
              "    <tr>\n",
              "      <th>passenger_count</th>\n",
              "      <th></th>\n",
              "    </tr>\n",
              "  </thead>\n",
              "  <tbody>\n",
              "    <tr>\n",
              "      <th>3.0</th>\n",
              "      <td>1309293</td>\n",
              "    </tr>\n",
              "    <tr>\n",
              "      <th>7.0</th>\n",
              "      <td>66</td>\n",
              "    </tr>\n",
              "    <tr>\n",
              "      <th>2.0</th>\n",
              "      <td>4685931</td>\n",
              "    </tr>\n",
              "    <tr>\n",
              "      <th>1.0</th>\n",
              "      <td>23180952</td>\n",
              "    </tr>\n",
              "    <tr>\n",
              "      <th>0.0</th>\n",
              "      <td>1560</td>\n",
              "    </tr>\n",
              "    <tr>\n",
              "      <th>4.0</th>\n",
              "      <td>631923</td>\n",
              "    </tr>\n",
              "    <tr>\n",
              "      <th>9.0</th>\n",
              "      <td>69</td>\n",
              "    </tr>\n",
              "    <tr>\n",
              "      <th>8.0</th>\n",
              "      <td>78</td>\n",
              "    </tr>\n",
              "    <tr>\n",
              "      <th>5.0</th>\n",
              "      <td>1803237</td>\n",
              "    </tr>\n",
              "    <tr>\n",
              "      <th>6.0</th>\n",
              "      <td>1107465</td>\n",
              "    </tr>\n",
              "  </tbody>\n",
              "</table>\n",
              "</div><br><label><b>dtype:</b> int64</label>"
            ]
          },
          "metadata": {},
          "execution_count": 35
        }
      ]
    },
    {
      "cell_type": "code",
      "source": [
        "passenger_count.plot(kind=\"bar\")\n",
        "plt.show()"
      ],
      "metadata": {
        "colab": {
          "base_uri": "https://localhost:8080/",
          "height": 493
        },
        "id": "v9eZrDTPZ4bG",
        "outputId": "2be96013-2444-4848-da00-00cf75afa98c"
      },
      "execution_count": 39,
      "outputs": [
        {
          "output_type": "display_data",
          "data": {
            "text/plain": [
              "<Figure size 640x480 with 1 Axes>"
            ],
            "image/png": "[encoded data removed]"
          },
          "metadata": {}
        }
      ]
    },
    {
      "cell_type": "code",
      "source": [
        "passenger_count.sort_index().plot(kind=\"bar\")\n",
        "plt.show()"
      ],
      "metadata": {
        "colab": {
          "base_uri": "https://localhost:8080/",
          "height": 493
        },
        "id": "7gSK-6sqZ7p8",
        "outputId": "9408ebfd-e466-4484-9f00-35f979116b25"
      },
      "execution_count": 40,
      "outputs": [
        {
          "output_type": "display_data",
          "data": {
            "text/plain": [
              "<Figure size 640x480 with 1 Axes>"
            ],
            "image/png": "[encoded data removed]"
          },
          "metadata": {}
        }
      ]
    },
    {
      "cell_type": "markdown",
      "source": [
        "Passenger count value outside the range of 1 to 5 passengers are erroneous and not allowed by the taxi commission in NYC"
      ],
      "metadata": {
        "id": "G3mFscKtaH2W"
      }
    },
    {
      "cell_type": "markdown",
      "source": [
        "## **Trip Distance**"
      ],
      "metadata": {
        "id": "x5oJZVsCaLH9"
      }
    },
    {
      "cell_type": "code",
      "source": [
        "trip_distance = df_final.loc[:, \"trip_distance\"].visualize()\n",
        "trip_distance"
      ],
      "metadata": {
        "colab": {
          "base_uri": "https://localhost:8080/",
          "height": 485
        },
        "id": "8s_7DDkBaJAv",
        "outputId": "a973123e-30d4-4ff2-fa07-5098b3dd58c6"
      },
      "execution_count": 42,
      "outputs": [
        {
          "output_type": "execute_result",
          "data": {
            "image/svg+xml": "<?xml version=\"1.0\" encoding=\"UTF-8\" standalone=\"no\"?>\n<!DOCTYPE svg PUBLIC \"-//W3C//DTD SVG 1.1//EN\"\n \"http://www.w3.org/Graphics/SVG/1.1/DTD/svg11.dtd\">\n<!-- Generated by graphviz version 2.43.0 (0)\n -->\n<!-- Title: %3 Pages: 1 -->\n<svg width=\"739pt\" height=\"332pt\"\n viewBox=\"0.00 0.00 739.00 332.00\" xmlns=\"http://www.w3.org/2000/svg\" xmlns:xlink=\"http://www.w3.org/1999/xlink\">\n<g id=\"graph0\" class=\"graph\" transform=\"scale(1 1) rotate(0) translate(4 328)\">\n<title>%3</title>\n<polygon fill=\"white\" stroke=\"transparent\" points=\"-4,4 -4,-328 735,-328 735,4 -4,4\"/>\n<!-- &#45;5872512911361354495 -->\n<g id=\"node1\" class=\"node\">\n<title>&#45;5872512911361354495</title>\n<polygon fill=\"none\" stroke=\"black\" points=\"509,-324 222,-324 222,-288 509,-288 509,-324\"/>\n<text text-anchor=\"middle\" x=\"365.5\" y=\"-301\" font-family=\"Helvetica,sans-Serif\" font-size=\"20.00\">Projection(Drop, trip_distance)</text>\n</g>\n<!-- &#45;1980465335869368908 -->\n<g id=\"node2\" class=\"node\">\n<title>&#45;1980465335869368908</title>\n<polygon fill=\"none\" stroke=\"black\" points=\"434,-252 297,-252 297,-216 434,-216 434,-252\"/>\n<text text-anchor=\"middle\" x=\"365.5\" y=\"-229\" font-family=\"Helvetica,sans-Serif\" font-size=\"20.00\">Drop(Concat)</text>\n</g>\n<!-- &#45;1980465335869368908&#45;&gt;&#45;5872512911361354495 -->\n<g id=\"edge1\" class=\"edge\">\n<title>&#45;1980465335869368908&#45;&gt;&#45;5872512911361354495</title>\n<path fill=\"none\" stroke=\"black\" d=\"M365.5,-252.3C365.5,-260.02 365.5,-269.29 365.5,-277.89\"/>\n<polygon fill=\"black\" stroke=\"black\" points=\"362,-277.9 365.5,-287.9 369,-277.9 362,-277.9\"/>\n</g>\n<!-- 1341296637188645068 -->\n<g id=\"node3\" class=\"node\">\n<title>1341296637188645068</title>\n<polygon fill=\"none\" stroke=\"black\" points=\"731,-180 0,-180 0,-144 731,-144 731,-180\"/>\n<text text-anchor=\"middle\" x=\"365.5\" y=\"-157\" font-family=\"Helvetica,sans-Serif\" font-size=\"20.00\">Concat(ArrowStringConversion, ArrowStringConversion, ArrowStringConversion)</text>\n</g>\n<!-- 1341296637188645068&#45;&gt;&#45;1980465335869368908 -->\n<g id=\"edge2\" class=\"edge\">\n<title>1341296637188645068&#45;&gt;&#45;1980465335869368908</title>\n<path fill=\"none\" stroke=\"black\" d=\"M365.5,-180.3C365.5,-188.02 365.5,-197.29 365.5,-205.89\"/>\n<polygon fill=\"black\" stroke=\"black\" points=\"362,-205.9 365.5,-215.9 369,-205.9 362,-205.9\"/>\n</g>\n<!-- &#45;7566481729919965046 -->\n<g id=\"node4\" class=\"node\">\n<title>&#45;7566481729919965046</title>\n<polygon fill=\"none\" stroke=\"black\" points=\"576.5,-108 154.5,-108 154.5,-72 576.5,-72 576.5,-108\"/>\n<text text-anchor=\"middle\" x=\"365.5\" y=\"-85\" font-family=\"Helvetica,sans-Serif\" font-size=\"20.00\">ArrowStringConversion(FromMapProjectable)</text>\n</g>\n<!-- &#45;7566481729919965046&#45;&gt;1341296637188645068 -->\n<g id=\"edge3\" class=\"edge\">\n<title>&#45;7566481729919965046&#45;&gt;1341296637188645068</title>\n<path fill=\"none\" stroke=\"black\" d=\"M365.5,-108.3C365.5,-116.02 365.5,-125.29 365.5,-133.89\"/>\n<polygon fill=\"black\" stroke=\"black\" points=\"362,-133.9 365.5,-143.9 369,-133.9 362,-133.9\"/>\n</g>\n<!-- 1195809208253362179 -->\n<g id=\"node5\" class=\"node\">\n<title>1195809208253362179</title>\n<polygon fill=\"none\" stroke=\"black\" points=\"467,-36 264,-36 264,0 467,0 467,-36\"/>\n<text text-anchor=\"middle\" x=\"365.5\" y=\"-13\" font-family=\"Helvetica,sans-Serif\" font-size=\"20.00\">FromMapProjectable</text>\n</g>\n<!-- 1195809208253362179&#45;&gt;&#45;7566481729919965046 -->\n<g id=\"edge4\" class=\"edge\">\n<title>1195809208253362179&#45;&gt;&#45;7566481729919965046</title>\n<path fill=\"none\" stroke=\"black\" d=\"M365.5,-36.3C365.5,-44.02 365.5,-53.29 365.5,-61.89\"/>\n<polygon fill=\"black\" stroke=\"black\" points=\"362,-61.9 365.5,-71.9 369,-61.9 362,-61.9\"/>\n</g>\n</g>\n</svg>\n",
            "text/plain": [
              "<graphviz.graphs.Digraph at 0x7bb4842a40d0>"
            ]
          },
          "metadata": {},
          "execution_count": 42
        }
      ]
    },
    {
      "cell_type": "code",
      "source": [
        "# Boxplot for the trip distance\n",
        "trip_distance = df_final.loc[:, \"trip_distance\"]\n",
        "\n",
        "sns.boxplot(trip_distance.compute())"
      ],
      "metadata": {
        "colab": {
          "base_uri": "https://localhost:8080/",
          "height": 458
        },
        "id": "Xmq5CsNHaJDh",
        "outputId": "cbef21dd-6f17-4fc6-b433-60c70a4b0a0b"
      },
      "execution_count": 44,
      "outputs": [
        {
          "output_type": "execute_result",
          "data": {
            "text/plain": [
              "<Axes: ylabel='trip_distance'>"
            ]
          },
          "metadata": {},
          "execution_count": 44
        },
        {
          "output_type": "display_data",
          "data": {
            "text/plain": [
              "<Figure size 640x480 with 1 Axes>"
            ],
            "image/png": "[encoded data removed]"
          },
          "metadata": {}
        }
      ]
    },
    {
      "cell_type": "code",
      "source": [
        "df_final[\"trip_distance\"]"
      ],
      "metadata": {
        "colab": {
          "base_uri": "https://localhost:8080/"
        },
        "id": "dnq67V_UaJFo",
        "outputId": "0bad6f31-99f9-4495-bf5e-ae71d4a7f69d"
      },
      "execution_count": 45,
      "outputs": [
        {
          "output_type": "execute_result",
          "data": {
            "text/plain": [
              "Dask Series Structure:\n",
              "npartitions=78\n",
              "    float64\n",
              "        ...\n",
              "     ...   \n",
              "        ...\n",
              "        ...\n",
              "Dask Name: getitem, 5 expressions\n",
              "Expr=(Drop(frame=Concat(frames=[ArrowStringConversion(frame=FromMapProjectable(2dd432b)), ArrowStringConversion(frame=FromMapProjectable(2dd432b)), ArrowStringConversion(frame=FromMapProjectable(2dd432b))], ), columns=['extra', 'mta_tax', 'tip_amount', 'tolls_amount', 'improvement_surcharge', 'total_amount', 'payment_type']))['trip_distance']"
            ]
          },
          "metadata": {},
          "execution_count": 45
        }
      ]
    },
    {
      "cell_type": "code",
      "source": [
        "percentile_values = np.arange(0.1, 1.0, 0.1) # start from 10 to 100 percentile with gap of 10 percentile.\n",
        "\n",
        "print(percentile_values)\n",
        "\n",
        "for percentile in percentile_values:\n",
        "    print(f\"The trip distance value for {int(percentile * 100)}th percentile is {df_final['trip_distance'].quantile(q=percentile).compute()}\")"
      ],
      "metadata": {
        "colab": {
          "base_uri": "https://localhost:8080/"
        },
        "id": "VGJUR4UYaJHy",
        "outputId": "fa90371f-392b-421c-b893-a5f911fcc11c"
      },
      "execution_count": 48,
      "outputs": [
        {
          "output_type": "stream",
          "name": "stdout",
          "text": [
            "[0.1 0.2 0.3 0.4 0.5 0.6 0.7 0.8 0.9]\n",
            "The trip distance value for 10th percentile is 0.7\n",
            "The trip distance value for 20th percentile is 0.97\n",
            "The trip distance value for 30th percentile is 1.23\n",
            "The trip distance value for 40th percentile is 1.56\n",
            "The trip distance value for 50th percentile is 1.93\n",
            "The trip distance value for 60th percentile is 2.49\n",
            "The trip distance value for 70th percentile is 3.27\n",
            "The trip distance value for 80th percentile is 4.6\n",
            "The trip distance value for 90th percentile is 7.6\n"
          ]
        }
      ]
    },
    {
      "cell_type": "code",
      "source": [
        "# percentile values from 90th to 100th percentile.\n",
        "percentile_values = np.arange(0.90, 1.01, 0.01) # start from 90th percentile to 100th percentile with a gap of 10th percentile.\n",
        "print(percentile_values)"
      ],
      "metadata": {
        "colab": {
          "base_uri": "https://localhost:8080/"
        },
        "id": "mC_fSm0CcLhO",
        "outputId": "c2c4355c-612e-4c8d-e6a9-dc62918e75f5"
      },
      "execution_count": 49,
      "outputs": [
        {
          "output_type": "stream",
          "name": "stdout",
          "text": [
            "[0.9  0.91 0.92 0.93 0.94 0.95 0.96 0.97 0.98 0.99 1.  ]\n"
          ]
        }
      ]
    },
    {
      "cell_type": "code",
      "source": [
        "percentile_values = np.arange(0.90,1.01,0.01)\n",
        "percentile_values\n",
        "\n",
        "for percentile in percentile_values:\n",
        "    print(f\"The trip distance value for {int(percentile * 100)}th percentile is {df_final['trip_distance'].quantile(q=percentile).compute()}\")"
      ],
      "metadata": {
        "colab": {
          "base_uri": "https://localhost:8080/"
        },
        "id": "MLseIcYtcubz",
        "outputId": "296ee380-d17a-47e6-e02d-ee40043fc8aa"
      },
      "execution_count": 50,
      "outputs": [
        {
          "output_type": "stream",
          "name": "stdout",
          "text": [
            "The trip distance value for 90th percentile is 7.6\n",
            "The trip distance value for 91th percentile is 8.18\n",
            "The trip distance value for 92th percentile is 8.9\n",
            "The trip distance value for 93th percentile is 9.6\n",
            "The trip distance value for 94th percentile is 10.4\n",
            "The trip distance value for 95th percentile is 11.44\n",
            "The trip distance value for 96th percentile is 13.21\n",
            "The trip distance value for 97th percentile is 16.47\n",
            "The trip distance value for 98th percentile is 17.8\n",
            "The trip distance value for 99th percentile is 19.238400000000254\n",
            "The trip distance value for 100th percentile is 8000010.0\n"
          ]
        }
      ]
    },
    {
      "cell_type": "markdown",
      "source": [
        "## **Fare Amount**"
      ],
      "metadata": {
        "id": "vLgb1l7gczo5"
      }
    },
    {
      "cell_type": "code",
      "source": [
        "# boxplot for the fare amount\n",
        "\n",
        "sns.boxplot(df_final.loc[:,\"fare_amount\"].compute())"
      ],
      "metadata": {
        "colab": {
          "base_uri": "https://localhost:8080/",
          "height": 443
        },
        "id": "fIifPqMdcy4L",
        "outputId": "706c5062-3667-4fb8-d7ec-b748b0ec93de"
      },
      "execution_count": 52,
      "outputs": [
        {
          "output_type": "execute_result",
          "data": {
            "text/plain": [
              "<Axes: ylabel='fare_amount'>"
            ]
          },
          "metadata": {},
          "execution_count": 52
        },
        {
          "output_type": "display_data",
          "data": {
            "text/plain": [
              "<Figure size 640x480 with 1 Axes>"
            ],
            "image/png": "[encoded data removed]"
          },
          "metadata": {}
        }
      ]
    },
    {
      "cell_type": "code",
      "source": [
        "# percentile values for fare amount from 10th percentile to 100th percentile.\n",
        "\n",
        "percentile_values = np.arange(0.1,1.1,0.1)\n",
        "print(percentile_values)\n",
        "\n",
        "for percentile in percentile_values:\n",
        "    print(f\"The fare amount value for {int(percentile * 100)}th percentile is {df_final['fare_amount'].quantile(q=percentile).compute()}\")"
      ],
      "metadata": {
        "colab": {
          "base_uri": "https://localhost:8080/"
        },
        "id": "92YzWUGpdMVK",
        "outputId": "58f07414-798c-440c-fdfd-350b61e85a27"
      },
      "execution_count": 53,
      "outputs": [
        {
          "output_type": "stream",
          "name": "stdout",
          "text": [
            "[0.1 0.2 0.3 0.4 0.5 0.6 0.7 0.8 0.9 1. ]\n",
            "The fare amount value for 10th percentile is 5.0\n",
            "The fare amount value for 20th percentile is 6.0\n",
            "The fare amount value for 30th percentile is 7.5\n",
            "The fare amount value for 40th percentile is 8.5\n",
            "The fare amount value for 50th percentile is 10.0\n",
            "The fare amount value for 60th percentile is 11.5\n",
            "The fare amount value for 70th percentile is 14.0\n",
            "The fare amount value for 80th percentile is 17.5\n",
            "The fare amount value for 90th percentile is 25.5\n",
            "The fare amount value for 100th percentile is 111270.85\n"
          ]
        }
      ]
    },
    {
      "cell_type": "code",
      "source": [
        "# Percentile value from 90th percentile to 100th percentile.\n",
        "percentile_values = np.arange(0.90,1.01,0.01)\n",
        "print(percentile_values)\n",
        "\n",
        "for percentile in percentile_values:\n",
        "    print(f\"The fare amount value for {int(percentile * 100)}th percentile is {df_final['fare_amount'].quantile(q=percentile).compute()}\")"
      ],
      "metadata": {
        "colab": {
          "base_uri": "https://localhost:8080/"
        },
        "id": "9tGWonnydV8e",
        "outputId": "d2bdf813-0586-45be-80fc-d3b6af2c4393"
      },
      "execution_count": 54,
      "outputs": [
        {
          "output_type": "stream",
          "name": "stdout",
          "text": [
            "[0.9  0.91 0.92 0.93 0.94 0.95 0.96 0.97 0.98 0.99 1.  ]\n",
            "The fare amount value for 90th percentile is 25.5\n",
            "The fare amount value for 91th percentile is 27.5\n",
            "The fare amount value for 92th percentile is 29.0\n",
            "The fare amount value for 93th percentile is 31.5\n",
            "The fare amount value for 94th percentile is 34.5\n",
            "The fare amount value for 95th percentile is 38.5\n",
            "The fare amount value for 96th percentile is 45.0\n",
            "The fare amount value for 97th percentile is 52.0\n",
            "The fare amount value for 98th percentile is 52.0\n",
            "The fare amount value for 99th percentile is 52.0\n",
            "The fare amount value for 100th percentile is 111270.85\n"
          ]
        }
      ]
    },
    {
      "cell_type": "markdown",
      "source": [
        "## **RateCode ID**"
      ],
      "metadata": {
        "id": "Ue7tWOFVdilO"
      }
    },
    {
      "cell_type": "code",
      "source": [
        "# unique values\n",
        "\n",
        "rate_code_ids = df_final.loc[:, \"RatecodeID\"].value_counts().compute()\n",
        "rate_code_ids"
      ],
      "metadata": {
        "colab": {
          "base_uri": "https://localhost:8080/",
          "height": 346
        },
        "id": "qcv-YR57dj7r",
        "outputId": "7377e699-4551-4b6a-f5b2-23f8dd30fc92"
      },
      "execution_count": 55,
      "outputs": [
        {
          "output_type": "execute_result",
          "data": {
            "text/plain": [
              "RatecodeID\n",
              "3.0        50466\n",
              "2.0       675057\n",
              "1.0     31878945\n",
              "99.0         648\n",
              "4.0        14088\n",
              "5.0       101064\n",
              "6.0          306\n",
              "Name: count, dtype: int64"
            ],
            "text/html": [
              "<div>\n",
              "<style scoped>\n",
              "    .dataframe tbody tr th:only-of-type {\n",
              "        vertical-align: middle;\n",
              "    }\n",
              "\n",
              "    .dataframe tbody tr th {\n",
              "        vertical-align: top;\n",
              "    }\n",
              "\n",
              "    .dataframe thead th {\n",
              "        text-align: right;\n",
              "    }\n",
              "</style>\n",
              "<table border=\"1\" class=\"dataframe\">\n",
              "  <thead>\n",
              "    <tr style=\"text-align: right;\">\n",
              "      <th></th>\n",
              "      <th>count</th>\n",
              "    </tr>\n",
              "    <tr>\n",
              "      <th>RatecodeID</th>\n",
              "      <th></th>\n",
              "    </tr>\n",
              "  </thead>\n",
              "  <tbody>\n",
              "    <tr>\n",
              "      <th>3.0</th>\n",
              "      <td>50466</td>\n",
              "    </tr>\n",
              "    <tr>\n",
              "      <th>2.0</th>\n",
              "      <td>675057</td>\n",
              "    </tr>\n",
              "    <tr>\n",
              "      <th>1.0</th>\n",
              "      <td>31878945</td>\n",
              "    </tr>\n",
              "    <tr>\n",
              "      <th>99.0</th>\n",
              "      <td>648</td>\n",
              "    </tr>\n",
              "    <tr>\n",
              "      <th>4.0</th>\n",
              "      <td>14088</td>\n",
              "    </tr>\n",
              "    <tr>\n",
              "      <th>5.0</th>\n",
              "      <td>101064</td>\n",
              "    </tr>\n",
              "    <tr>\n",
              "      <th>6.0</th>\n",
              "      <td>306</td>\n",
              "    </tr>\n",
              "  </tbody>\n",
              "</table>\n",
              "</div><br><label><b>dtype:</b> int64</label>"
            ]
          },
          "metadata": {},
          "execution_count": 55
        }
      ]
    },
    {
      "cell_type": "code",
      "source": [
        "rate_code_ids.sort_index()"
      ],
      "metadata": {
        "colab": {
          "base_uri": "https://localhost:8080/",
          "height": 346
        },
        "id": "RaoBjJ2mdkBX",
        "outputId": "d0346f29-e1a5-402f-aeea-204fb5042e3b"
      },
      "execution_count": 57,
      "outputs": [
        {
          "output_type": "execute_result",
          "data": {
            "text/plain": [
              "RatecodeID\n",
              "1.0     31878945\n",
              "2.0       675057\n",
              "3.0        50466\n",
              "4.0        14088\n",
              "5.0       101064\n",
              "6.0          306\n",
              "99.0         648\n",
              "Name: count, dtype: int64"
            ],
            "text/html": [
              "<div>\n",
              "<style scoped>\n",
              "    .dataframe tbody tr th:only-of-type {\n",
              "        vertical-align: middle;\n",
              "    }\n",
              "\n",
              "    .dataframe tbody tr th {\n",
              "        vertical-align: top;\n",
              "    }\n",
              "\n",
              "    .dataframe thead th {\n",
              "        text-align: right;\n",
              "    }\n",
              "</style>\n",
              "<table border=\"1\" class=\"dataframe\">\n",
              "  <thead>\n",
              "    <tr style=\"text-align: right;\">\n",
              "      <th></th>\n",
              "      <th>count</th>\n",
              "    </tr>\n",
              "    <tr>\n",
              "      <th>RatecodeID</th>\n",
              "      <th></th>\n",
              "    </tr>\n",
              "  </thead>\n",
              "  <tbody>\n",
              "    <tr>\n",
              "      <th>1.0</th>\n",
              "      <td>31878945</td>\n",
              "    </tr>\n",
              "    <tr>\n",
              "      <th>2.0</th>\n",
              "      <td>675057</td>\n",
              "    </tr>\n",
              "    <tr>\n",
              "      <th>3.0</th>\n",
              "      <td>50466</td>\n",
              "    </tr>\n",
              "    <tr>\n",
              "      <th>4.0</th>\n",
              "      <td>14088</td>\n",
              "    </tr>\n",
              "    <tr>\n",
              "      <th>5.0</th>\n",
              "      <td>101064</td>\n",
              "    </tr>\n",
              "    <tr>\n",
              "      <th>6.0</th>\n",
              "      <td>306</td>\n",
              "    </tr>\n",
              "    <tr>\n",
              "      <th>99.0</th>\n",
              "      <td>648</td>\n",
              "    </tr>\n",
              "  </tbody>\n",
              "</table>\n",
              "</div><br><label><b>dtype:</b> int64</label>"
            ]
          },
          "metadata": {},
          "execution_count": 57
        }
      ]
    },
    {
      "cell_type": "code",
      "source": [
        "# Unique values in rate code columns.\n",
        "print(rate_code_ids.sort_index().index.tolist())"
      ],
      "metadata": {
        "colab": {
          "base_uri": "https://localhost:8080/"
        },
        "id": "py1PUOJjdkDo",
        "outputId": "e9b67aa4-0135-4d64-85b7-526021f1ad11"
      },
      "execution_count": 59,
      "outputs": [
        {
          "output_type": "stream",
          "name": "stdout",
          "text": [
            "[1.0, 2.0, 3.0, 4.0, 5.0, 6.0, 99.0]\n"
          ]
        }
      ]
    },
    {
      "cell_type": "code",
      "source": [
        "# plot the bar plot to display the distribution of categories\n",
        "\n",
        "rate_code_ids.sort_index().plot(kind=\"bar\")\n",
        "plt.show()"
      ],
      "metadata": {
        "colab": {
          "base_uri": "https://localhost:8080/",
          "height": 501
        },
        "id": "jxjGvvCOh8UJ",
        "outputId": "52d739e5-9c27-4002-ab68-90b5357f0312"
      },
      "execution_count": 60,
      "outputs": [
        {
          "output_type": "display_data",
          "data": {
            "text/plain": [
              "<Figure size 640x480 with 1 Axes>"
            ],
            "image/png": "[encoded data removed]"
          },
          "metadata": {}
        }
      ]
    },
    {
      "cell_type": "markdown",
      "source": [
        "Missing values category is replaced by 99"
      ],
      "metadata": {
        "id": "2dtUswJaiGe8"
      }
    },
    {
      "cell_type": "markdown",
      "source": [
        "## **Location Based Columns**"
      ],
      "metadata": {
        "id": "6gS1YQgdiImY"
      }
    },
    {
      "cell_type": "code",
      "source": [
        "# make a subset of location based columns\n",
        "\n",
        "location_subset = df_final[[\n",
        "    'pickup_latitude','pickup_longitude','dropoff_latitude','dropoff_longitude'\n",
        "]]\n",
        "location_subset"
      ],
      "metadata": {
        "colab": {
          "base_uri": "https://localhost:8080/",
          "height": 285
        },
        "id": "gOAWEQBEiCAN",
        "outputId": "d1b478a4-7c2a-4ec5-fb6e-3766c45a4e98"
      },
      "execution_count": 68,
      "outputs": [
        {
          "output_type": "execute_result",
          "data": {
            "text/plain": [
              "Dask DataFrame Structure:\n",
              "               pickup_latitude pickup_longitude dropoff_latitude dropoff_longitude\n",
              "npartitions=78                                                                    \n",
              "                       float64          float64          float64           float64\n",
              "                           ...              ...              ...               ...\n",
              "...                        ...              ...              ...               ...\n",
              "                           ...              ...              ...               ...\n",
              "                           ...              ...              ...               ...\n",
              "Dask Name: getitem, 5 expressions\n",
              "Expr=(Drop(frame=Concat(frames=[ArrowStringConversion(frame=FromMapProjectable(2dd432b)), ArrowStringConversion(frame=FromMapProjectable(2dd432b)), ArrowStringConversion(frame=FromMapProjectable(2dd432b))], ), columns=['extra', 'mta_tax', 'tip_amount', 'tolls_amount', 'improvement_surcharge', 'total_amount', 'payment_type']))[['pickup_latitude', 'pickup_longitude', 'dropoff_latitude', 'dropoff_longitude']]"
            ],
            "text/html": [
              "<div><strong>Dask DataFrame Structure:</strong></div>\n",
              "<table border=\"1\" class=\"dataframe\">\n",
              "  <thead>\n",
              "    <tr style=\"text-align: right;\">\n",
              "      <th></th>\n",
              "      <th>pickup_latitude</th>\n",
              "      <th>pickup_longitude</th>\n",
              "      <th>dropoff_latitude</th>\n",
              "      <th>dropoff_longitude</th>\n",
              "    </tr>\n",
              "    <tr>\n",
              "      <th>npartitions=78</th>\n",
              "      <th></th>\n",
              "      <th></th>\n",
              "      <th></th>\n",
              "      <th></th>\n",
              "    </tr>\n",
              "  </thead>\n",
              "  <tbody>\n",
              "    <tr>\n",
              "      <th></th>\n",
              "      <td>float64</td>\n",
              "      <td>float64</td>\n",
              "      <td>float64</td>\n",
              "      <td>float64</td>\n",
              "    </tr>\n",
              "    <tr>\n",
              "      <th></th>\n",
              "      <td>...</td>\n",
              "      <td>...</td>\n",
              "      <td>...</td>\n",
              "      <td>...</td>\n",
              "    </tr>\n",
              "    <tr>\n",
              "      <th>...</th>\n",
              "      <td>...</td>\n",
              "      <td>...</td>\n",
              "      <td>...</td>\n",
              "      <td>...</td>\n",
              "    </tr>\n",
              "    <tr>\n",
              "      <th></th>\n",
              "      <td>...</td>\n",
              "      <td>...</td>\n",
              "      <td>...</td>\n",
              "      <td>...</td>\n",
              "    </tr>\n",
              "    <tr>\n",
              "      <th></th>\n",
              "      <td>...</td>\n",
              "      <td>...</td>\n",
              "      <td>...</td>\n",
              "      <td>...</td>\n",
              "    </tr>\n",
              "  </tbody>\n",
              "</table>\n",
              "<div>Dask Name: getitem, 5 expressions</div>"
            ]
          },
          "metadata": {},
          "execution_count": 68
        }
      ]
    },
    {
      "cell_type": "code",
      "source": [
        "# location_subset = df_final[[\n",
        "#     'pickup_latitude','pickup_longitude','dropoff_latitude','dropoff_longitude'\n",
        "# ]].compute()\n",
        "# location_subset"
      ],
      "metadata": {
        "id": "TVpaQn0miR3N"
      },
      "execution_count": 67,
      "outputs": []
    },
    {
      "cell_type": "code",
      "source": [
        "# boxplots for location based columns\n",
        "\n",
        "fig, (ax1, ax2) = plt.subplots(nrows=2, ncols=2, figsize=(12,5))\n",
        "for i in range(4):\n",
        "    if i <= 1:\n",
        "        # plot the boxplot\n",
        "        sns.boxplot(y=location_subset.iloc[:,i].compute(),ax=ax1[i])\n",
        "    else:\n",
        "        # plot the boxplot\n",
        "        sns.boxplot(y=location_subset.iloc[:,i].compute(),ax=ax2[i - 2])"
      ],
      "metadata": {
        "colab": {
          "base_uri": "https://localhost:8080/",
          "height": 446
        },
        "id": "xed_PWHtidtI",
        "outputId": "555ce4c4-ea3c-4539-b6e1-75c3ee89da01"
      },
      "execution_count": 69,
      "outputs": [
        {
          "output_type": "display_data",
          "data": {
            "text/plain": [
              "<Figure size 1200x500 with 4 Axes>"
            ],
            "image/png": "[encoded data removed]"
          },
          "metadata": {}
        }
      ]
    },
    {
      "cell_type": "markdown",
      "source": [
        "## **Store and Fwd Flag**"
      ],
      "metadata": {
        "id": "M4rpGBqsjeZG"
      }
    },
    {
      "cell_type": "code",
      "source": [
        "# countplot\n",
        "store_fwd_flag = df_final[\"store_and_fwd_flag\"].compute()\n",
        "sns.countplot(store_fwd_flag)"
      ],
      "metadata": {
        "colab": {
          "base_uri": "https://localhost:8080/",
          "height": 486
        },
        "id": "ocmX6bLwi3ep",
        "outputId": "1e835727-3eec-4885-ab09-21f53f05a776"
      },
      "execution_count": 70,
      "outputs": [
        {
          "output_type": "execute_result",
          "data": {
            "text/plain": [
              "<Axes: xlabel='count', ylabel='store_and_fwd_flag'>"
            ]
          },
          "metadata": {},
          "execution_count": 70
        },
        {
          "output_type": "display_data",
          "data": {
            "text/plain": [
              "<Figure size 640x480 with 1 Axes>"
            ],
            "image/png": "[encoded data removed]"
          },
          "metadata": {}
        }
      ]
    },
    {
      "cell_type": "markdown",
      "source": [
        "## **Datetime Columns**"
      ],
      "metadata": {
        "id": "dKsayx9GjqWg"
      }
    },
    {
      "cell_type": "code",
      "source": [
        "df_final.columns"
      ],
      "metadata": {
        "colab": {
          "base_uri": "https://localhost:8080/"
        },
        "id": "CfWHPHgWjoRB",
        "outputId": "2def0449-77a0-40f3-d250-6ef1ad670979"
      },
      "execution_count": 71,
      "outputs": [
        {
          "output_type": "execute_result",
          "data": {
            "text/plain": [
              "Index(['VendorID', 'tpep_pickup_datetime', 'tpep_dropoff_datetime',\n",
              "       'passenger_count', 'trip_distance', 'pickup_longitude',\n",
              "       'pickup_latitude', 'RatecodeID', 'store_and_fwd_flag',\n",
              "       'dropoff_longitude', 'dropoff_latitude', 'fare_amount'],\n",
              "      dtype='object')"
            ]
          },
          "metadata": {},
          "execution_count": 71
        }
      ]
    },
    {
      "cell_type": "code",
      "source": [
        "# convert the columns to datetime\n",
        "\n",
        "df_final[\"tpep_pickup_datetime\"] = dd.to_datetime(df_final[\"tpep_pickup_datetime\"], yearfirst=True, format=\"mixed\")\n",
        "df_final[\"tpep_dropoff_datetime\"] = dd.to_datetime(df_final[\"tpep_dropoff_datetime\"], yearfirst=True, format=\"mixed\")"
      ],
      "metadata": {
        "id": "4b8rKPqylDGP"
      },
      "execution_count": 80,
      "outputs": []
    },
    {
      "cell_type": "code",
      "source": [
        "# create new columns\n",
        "\n",
        "df_final[\"pickup_months\"] = df_final[\"tpep_pickup_datetime\"].dt.month\n",
        "df_final[\"pickup_day_of_week\"] = df_final[\"tpep_pickup_datetime\"].dt.dayofweek\n",
        "df_final[\"pickup_hour\"] = df_final[\"tpep_pickup_datetime\"].dt.hour"
      ],
      "metadata": {
        "id": "zNQWKe2blLcE"
      },
      "execution_count": 81,
      "outputs": []
    },
    {
      "cell_type": "code",
      "source": [
        "df_final.dtypes"
      ],
      "metadata": {
        "colab": {
          "base_uri": "https://localhost:8080/",
          "height": 560
        },
        "id": "wc0716tAjsp2",
        "outputId": "2e411178-eaf3-4cfb-b88e-7633ce9c59d3"
      },
      "execution_count": 82,
      "outputs": [
        {
          "output_type": "execute_result",
          "data": {
            "text/plain": [
              "VendorID                         float64\n",
              "tpep_pickup_datetime      datetime64[ns]\n",
              "tpep_dropoff_datetime     datetime64[ns]\n",
              "passenger_count                  float64\n",
              "trip_distance                    float64\n",
              "pickup_longitude                 float64\n",
              "pickup_latitude                  float64\n",
              "RatecodeID                       float64\n",
              "store_and_fwd_flag       string[pyarrow]\n",
              "dropoff_longitude                float64\n",
              "dropoff_latitude                 float64\n",
              "fare_amount                      float64\n",
              "pickup_months                      int32\n",
              "pickup_day_of_week                 int32\n",
              "pickup_hour                        int32\n",
              "dtype: object"
            ],
            "text/html": [
              "<div>\n",
              "<style scoped>\n",
              "    .dataframe tbody tr th:only-of-type {\n",
              "        vertical-align: middle;\n",
              "    }\n",
              "\n",
              "    .dataframe tbody tr th {\n",
              "        vertical-align: top;\n",
              "    }\n",
              "\n",
              "    .dataframe thead th {\n",
              "        text-align: right;\n",
              "    }\n",
              "</style>\n",
              "<table border=\"1\" class=\"dataframe\">\n",
              "  <thead>\n",
              "    <tr style=\"text-align: right;\">\n",
              "      <th></th>\n",
              "      <th>0</th>\n",
              "    </tr>\n",
              "  </thead>\n",
              "  <tbody>\n",
              "    <tr>\n",
              "      <th>VendorID</th>\n",
              "      <td>float64</td>\n",
              "    </tr>\n",
              "    <tr>\n",
              "      <th>tpep_pickup_datetime</th>\n",
              "      <td>datetime64[ns]</td>\n",
              "    </tr>\n",
              "    <tr>\n",
              "      <th>tpep_dropoff_datetime</th>\n",
              "      <td>datetime64[ns]</td>\n",
              "    </tr>\n",
              "    <tr>\n",
              "      <th>passenger_count</th>\n",
              "      <td>float64</td>\n",
              "    </tr>\n",
              "    <tr>\n",
              "      <th>trip_distance</th>\n",
              "      <td>float64</td>\n",
              "    </tr>\n",
              "    <tr>\n",
              "      <th>pickup_longitude</th>\n",
              "      <td>float64</td>\n",
              "    </tr>\n",
              "    <tr>\n",
              "      <th>pickup_latitude</th>\n",
              "      <td>float64</td>\n",
              "    </tr>\n",
              "    <tr>\n",
              "      <th>RatecodeID</th>\n",
              "      <td>float64</td>\n",
              "    </tr>\n",
              "    <tr>\n",
              "      <th>store_and_fwd_flag</th>\n",
              "      <td>string[pyarrow]</td>\n",
              "    </tr>\n",
              "    <tr>\n",
              "      <th>dropoff_longitude</th>\n",
              "      <td>float64</td>\n",
              "    </tr>\n",
              "    <tr>\n",
              "      <th>dropoff_latitude</th>\n",
              "      <td>float64</td>\n",
              "    </tr>\n",
              "    <tr>\n",
              "      <th>fare_amount</th>\n",
              "      <td>float64</td>\n",
              "    </tr>\n",
              "    <tr>\n",
              "      <th>pickup_months</th>\n",
              "      <td>int32</td>\n",
              "    </tr>\n",
              "    <tr>\n",
              "      <th>pickup_day_of_week</th>\n",
              "      <td>int32</td>\n",
              "    </tr>\n",
              "    <tr>\n",
              "      <th>pickup_hour</th>\n",
              "      <td>int32</td>\n",
              "    </tr>\n",
              "  </tbody>\n",
              "</table>\n",
              "</div><br><label><b>dtype:</b> object</label>"
            ]
          },
          "metadata": {},
          "execution_count": 82
        }
      ]
    },
    {
      "cell_type": "code",
      "source": [
        "df_final.visualize()"
      ],
      "metadata": {
        "colab": {
          "base_uri": "https://localhost:8080/",
          "height": 1000
        },
        "id": "61jZ9tKDjx4m",
        "outputId": "8e7f7a51-561c-4100-b05f-9ed0f104be7a"
      },
      "execution_count": 83,
      "outputs": [
        {
          "output_type": "execute_result",
          "data": {
            "image/svg+xml": "<?xml version=\"1.0\" encoding=\"UTF-8\" standalone=\"no\"?>\n<!DOCTYPE svg PUBLIC \"-//W3C//DTD SVG 1.1//EN\"\n \"http://www.w3.org/Graphics/SVG/1.1/DTD/svg11.dtd\">\n<!-- Generated by graphviz version 2.43.0 (0)\n -->\n<!-- Title: %3 Pages: 1 -->\n<svg width=\"765pt\" height=\"1340pt\"\n viewBox=\"0.00 0.00 765.00 1340.00\" xmlns=\"http://www.w3.org/2000/svg\" xmlns:xlink=\"http://www.w3.org/1999/xlink\">\n<g id=\"graph0\" class=\"graph\" transform=\"scale(1 1) rotate(0) translate(4 1336)\">\n<title>%3</title>\n<polygon fill=\"white\" stroke=\"transparent\" points=\"-4,4 -4,-1336 761,-1336 761,4 -4,4\"/>\n<!-- 1279218054977757845 -->\n<g id=\"node1\" class=\"node\">\n<title>1279218054977757845</title>\n<polygon fill=\"none\" stroke=\"black\" points=\"395.5,-1332 1.5,-1332 1.5,-1296 395.5,-1296 395.5,-1332\"/>\n<text text-anchor=\"middle\" x=\"198.5\" y=\"-1309\" font-family=\"Helvetica,sans-Serif\" font-size=\"20.00\">Assign(Assign, pickup_hour, PropertyMap)</text>\n</g>\n<!-- &#45;1343345365464341928 -->\n<g id=\"node2\" class=\"node\">\n<title>&#45;1343345365464341928</title>\n<polygon fill=\"none\" stroke=\"black\" points=\"426.5,-1260 192.5,-1260 192.5,-1224 426.5,-1224 426.5,-1260\"/>\n<text text-anchor=\"middle\" x=\"309.5\" y=\"-1237\" font-family=\"Helvetica,sans-Serif\" font-size=\"20.00\">PropertyMap(Projection)</text>\n</g>\n<!-- &#45;1343345365464341928&#45;&gt;1279218054977757845 -->\n<g id=\"edge1\" class=\"edge\">\n<title>&#45;1343345365464341928&#45;&gt;1279218054977757845</title>\n<path fill=\"none\" stroke=\"black\" d=\"M282.35,-1260.12C267.97,-1269.19 250.12,-1280.45 234.59,-1290.24\"/>\n<polygon fill=\"black\" stroke=\"black\" points=\"232.35,-1287.52 225.76,-1295.81 236.08,-1293.44 232.35,-1287.52\"/>\n</g>\n<!-- 5892228820737950571 -->\n<g id=\"node3\" class=\"node\">\n<title>5892228820737950571</title>\n<polygon fill=\"none\" stroke=\"black\" points=\"540.5,-1188 154.5,-1188 154.5,-1152 540.5,-1152 540.5,-1188\"/>\n<text text-anchor=\"middle\" x=\"347.5\" y=\"-1165\" font-family=\"Helvetica,sans-Serif\" font-size=\"20.00\">Projection(Assign, tpep_pickup_datetime)</text>\n</g>\n<!-- 5892228820737950571&#45;&gt;&#45;1343345365464341928 -->\n<g id=\"edge3\" class=\"edge\">\n<title>5892228820737950571&#45;&gt;&#45;1343345365464341928</title>\n<path fill=\"none\" stroke=\"black\" d=\"M338.11,-1188.3C333.74,-1196.36 328.44,-1206.11 323.6,-1215.02\"/>\n<polygon fill=\"black\" stroke=\"black\" points=\"320.48,-1213.44 318.79,-1223.9 326.63,-1216.78 320.48,-1213.44\"/>\n</g>\n<!-- &#45;4386955708281128985 -->\n<g id=\"node4\" class=\"node\">\n<title>&#45;4386955708281128985</title>\n<polygon fill=\"none\" stroke=\"black\" points=\"473,-1116 0,-1116 0,-1080 473,-1080 473,-1116\"/>\n<text text-anchor=\"middle\" x=\"236.5\" y=\"-1093\" font-family=\"Helvetica,sans-Serif\" font-size=\"20.00\">Assign(Assign, pickup_day_of_week, PropertyMap)</text>\n</g>\n<!-- &#45;4386955708281128985&#45;&gt;1279218054977757845 -->\n<g id=\"edge2\" class=\"edge\">\n<title>&#45;4386955708281128985&#45;&gt;1279218054977757845</title>\n<path fill=\"none\" stroke=\"black\" d=\"M186.94,-1116.15C170.81,-1124.36 154.7,-1135.99 145.5,-1152 120.06,-1196.26 153.44,-1254.48 177.61,-1287.4\"/>\n<polygon fill=\"black\" stroke=\"black\" points=\"174.98,-1289.74 183.81,-1295.6 180.56,-1285.51 174.98,-1289.74\"/>\n</g>\n<!-- &#45;4386955708281128985&#45;&gt;5892228820737950571 -->\n<g id=\"edge4\" class=\"edge\">\n<title>&#45;4386955708281128985&#45;&gt;5892228820737950571</title>\n<path fill=\"none\" stroke=\"black\" d=\"M263.65,-1116.12C278.03,-1125.19 295.88,-1136.45 311.41,-1146.24\"/>\n<polygon fill=\"black\" stroke=\"black\" points=\"309.92,-1149.44 320.24,-1151.81 313.65,-1143.52 309.92,-1149.44\"/>\n</g>\n<!-- 6373598585791845355 -->\n<g id=\"node5\" class=\"node\">\n<title>6373598585791845355</title>\n<polygon fill=\"none\" stroke=\"black\" points=\"464.5,-1044 230.5,-1044 230.5,-1008 464.5,-1008 464.5,-1044\"/>\n<text text-anchor=\"middle\" x=\"347.5\" y=\"-1021\" font-family=\"Helvetica,sans-Serif\" font-size=\"20.00\">PropertyMap(Projection)</text>\n</g>\n<!-- 6373598585791845355&#45;&gt;&#45;4386955708281128985 -->\n<g id=\"edge5\" class=\"edge\">\n<title>6373598585791845355&#45;&gt;&#45;4386955708281128985</title>\n<path fill=\"none\" stroke=\"black\" d=\"M320.35,-1044.12C305.97,-1053.19 288.12,-1064.45 272.59,-1074.24\"/>\n<polygon fill=\"black\" stroke=\"black\" points=\"270.35,-1071.52 263.76,-1079.81 274.08,-1077.44 270.35,-1071.52\"/>\n</g>\n<!-- &#45;2310564225168437882 -->\n<g id=\"node6\" class=\"node\">\n<title>&#45;2310564225168437882</title>\n<polygon fill=\"none\" stroke=\"black\" points=\"578.5,-972 192.5,-972 192.5,-936 578.5,-936 578.5,-972\"/>\n<text text-anchor=\"middle\" x=\"385.5\" y=\"-949\" font-family=\"Helvetica,sans-Serif\" font-size=\"20.00\">Projection(Assign, tpep_pickup_datetime)</text>\n</g>\n<!-- &#45;2310564225168437882&#45;&gt;6373598585791845355 -->\n<g id=\"edge7\" class=\"edge\">\n<title>&#45;2310564225168437882&#45;&gt;6373598585791845355</title>\n<path fill=\"none\" stroke=\"black\" d=\"M376.11,-972.3C371.74,-980.36 366.44,-990.11 361.6,-999.02\"/>\n<polygon fill=\"black\" stroke=\"black\" points=\"358.48,-997.44 356.79,-1007.9 364.63,-1000.78 358.48,-997.44\"/>\n</g>\n<!-- 6072011436351910327 -->\n<g id=\"node7\" class=\"node\">\n<title>6072011436351910327</title>\n<polygon fill=\"none\" stroke=\"black\" points=\"484.5,-900 64.5,-900 64.5,-864 484.5,-864 484.5,-900\"/>\n<text text-anchor=\"middle\" x=\"274.5\" y=\"-877\" font-family=\"Helvetica,sans-Serif\" font-size=\"20.00\">Assign(Assign, pickup_months, PropertyMap)</text>\n</g>\n<!-- 6072011436351910327&#45;&gt;&#45;4386955708281128985 -->\n<g id=\"edge6\" class=\"edge\">\n<title>6072011436351910327&#45;&gt;&#45;4386955708281128985</title>\n<path fill=\"none\" stroke=\"black\" d=\"M224.94,-900.15C208.81,-908.36 192.7,-919.99 183.5,-936 158.06,-980.26 191.44,-1038.48 215.61,-1071.4\"/>\n<polygon fill=\"black\" stroke=\"black\" points=\"212.98,-1073.74 221.81,-1079.6 218.56,-1069.51 212.98,-1073.74\"/>\n</g>\n<!-- 6072011436351910327&#45;&gt;&#45;2310564225168437882 -->\n<g id=\"edge8\" class=\"edge\">\n<title>6072011436351910327&#45;&gt;&#45;2310564225168437882</title>\n<path fill=\"none\" stroke=\"black\" d=\"M301.65,-900.12C316.03,-909.19 333.88,-920.45 349.41,-930.24\"/>\n<polygon fill=\"black\" stroke=\"black\" points=\"347.92,-933.44 358.24,-935.81 351.65,-927.52 347.92,-933.44\"/>\n</g>\n<!-- 7294033856151421028 -->\n<g id=\"node8\" class=\"node\">\n<title>7294033856151421028</title>\n<polygon fill=\"none\" stroke=\"black\" points=\"502.5,-828 268.5,-828 268.5,-792 502.5,-792 502.5,-828\"/>\n<text text-anchor=\"middle\" x=\"385.5\" y=\"-805\" font-family=\"Helvetica,sans-Serif\" font-size=\"20.00\">PropertyMap(Projection)</text>\n</g>\n<!-- 7294033856151421028&#45;&gt;6072011436351910327 -->\n<g id=\"edge9\" class=\"edge\">\n<title>7294033856151421028&#45;&gt;6072011436351910327</title>\n<path fill=\"none\" stroke=\"black\" d=\"M358.35,-828.12C343.97,-837.19 326.12,-848.45 310.59,-858.24\"/>\n<polygon fill=\"black\" stroke=\"black\" points=\"308.35,-855.52 301.76,-863.81 312.08,-861.44 308.35,-855.52\"/>\n</g>\n<!-- 8210257934307620758 -->\n<g id=\"node9\" class=\"node\">\n<title>8210257934307620758</title>\n<polygon fill=\"none\" stroke=\"black\" points=\"616.5,-756 230.5,-756 230.5,-720 616.5,-720 616.5,-756\"/>\n<text text-anchor=\"middle\" x=\"423.5\" y=\"-733\" font-family=\"Helvetica,sans-Serif\" font-size=\"20.00\">Projection(Assign, tpep_pickup_datetime)</text>\n</g>\n<!-- 8210257934307620758&#45;&gt;7294033856151421028 -->\n<g id=\"edge11\" class=\"edge\">\n<title>8210257934307620758&#45;&gt;7294033856151421028</title>\n<path fill=\"none\" stroke=\"black\" d=\"M414.11,-756.3C409.74,-764.36 404.44,-774.11 399.6,-783.02\"/>\n<polygon fill=\"black\" stroke=\"black\" points=\"396.48,-781.44 394.79,-791.9 402.63,-784.78 396.48,-781.44\"/>\n</g>\n<!-- 6792403579564290935 -->\n<g id=\"node10\" class=\"node\">\n<title>6792403579564290935</title>\n<polygon fill=\"none\" stroke=\"black\" points=\"548.5,-684 76.5,-684 76.5,-648 548.5,-648 548.5,-684\"/>\n<text text-anchor=\"middle\" x=\"312.5\" y=\"-661\" font-family=\"Helvetica,sans-Serif\" font-size=\"20.00\">Assign(Assign, tpep_dropoff_datetime, ToDatetime)</text>\n</g>\n<!-- 6792403579564290935&#45;&gt;6072011436351910327 -->\n<g id=\"edge10\" class=\"edge\">\n<title>6792403579564290935&#45;&gt;6072011436351910327</title>\n<path fill=\"none\" stroke=\"black\" d=\"M262.94,-684.15C246.81,-692.36 230.7,-703.99 221.5,-720 196.06,-764.26 229.44,-822.48 253.61,-855.4\"/>\n<polygon fill=\"black\" stroke=\"black\" points=\"250.98,-857.74 259.81,-863.6 256.56,-853.51 250.98,-857.74\"/>\n</g>\n<!-- 6792403579564290935&#45;&gt;8210257934307620758 -->\n<g id=\"edge12\" class=\"edge\">\n<title>6792403579564290935&#45;&gt;8210257934307620758</title>\n<path fill=\"none\" stroke=\"black\" d=\"M339.65,-684.12C354.03,-693.19 371.88,-704.45 387.41,-714.24\"/>\n<polygon fill=\"black\" stroke=\"black\" points=\"385.92,-717.44 396.24,-719.81 389.65,-711.52 385.92,-717.44\"/>\n</g>\n<!-- &#45;526780356708148115 -->\n<g id=\"node11\" class=\"node\">\n<title>&#45;526780356708148115</title>\n<polygon fill=\"none\" stroke=\"black\" points=\"533.5,-612 313.5,-612 313.5,-576 533.5,-576 533.5,-612\"/>\n<text text-anchor=\"middle\" x=\"423.5\" y=\"-589\" font-family=\"Helvetica,sans-Serif\" font-size=\"20.00\">ToDatetime(Projection)</text>\n</g>\n<!-- &#45;526780356708148115&#45;&gt;6792403579564290935 -->\n<g id=\"edge13\" class=\"edge\">\n<title>&#45;526780356708148115&#45;&gt;6792403579564290935</title>\n<path fill=\"none\" stroke=\"black\" d=\"M396.35,-612.12C381.97,-621.19 364.12,-632.45 348.59,-642.24\"/>\n<polygon fill=\"black\" stroke=\"black\" points=\"346.35,-639.52 339.76,-647.81 350.08,-645.44 346.35,-639.52\"/>\n</g>\n<!-- 5683440273551074352 -->\n<g id=\"node12\" class=\"node\">\n<title>5683440273551074352</title>\n<polygon fill=\"none\" stroke=\"black\" points=\"661.5,-540 271.5,-540 271.5,-504 661.5,-504 661.5,-540\"/>\n<text text-anchor=\"middle\" x=\"466.5\" y=\"-517\" font-family=\"Helvetica,sans-Serif\" font-size=\"20.00\">Projection(Assign, tpep_dropoff_datetime)</text>\n</g>\n<!-- 5683440273551074352&#45;&gt;&#45;526780356708148115 -->\n<g id=\"edge15\" class=\"edge\">\n<title>5683440273551074352&#45;&gt;&#45;526780356708148115</title>\n<path fill=\"none\" stroke=\"black\" d=\"M455.87,-540.3C450.87,-548.44 444.81,-558.31 439.29,-567.3\"/>\n<polygon fill=\"black\" stroke=\"black\" points=\"436.26,-565.54 434.01,-575.9 442.22,-569.21 436.26,-565.54\"/>\n</g>\n<!-- &#45;3625313468015151385 -->\n<g id=\"node13\" class=\"node\">\n<title>&#45;3625313468015151385</title>\n<polygon fill=\"none\" stroke=\"black\" points=\"580,-468 129,-468 129,-432 580,-432 580,-468\"/>\n<text text-anchor=\"middle\" x=\"354.5\" y=\"-445\" font-family=\"Helvetica,sans-Serif\" font-size=\"20.00\">Assign(Drop, tpep_pickup_datetime, ToDatetime)</text>\n</g>\n<!-- &#45;3625313468015151385&#45;&gt;6792403579564290935 -->\n<g id=\"edge14\" class=\"edge\">\n<title>&#45;3625313468015151385&#45;&gt;6792403579564290935</title>\n<path fill=\"none\" stroke=\"black\" d=\"M304.41,-468.03C288.1,-476.23 271.82,-487.88 262.5,-504 237.09,-547.96 269.09,-606.29 292.35,-639.31\"/>\n<polygon fill=\"black\" stroke=\"black\" points=\"289.62,-641.5 298.33,-647.53 295.28,-637.38 289.62,-641.5\"/>\n</g>\n<!-- &#45;3625313468015151385&#45;&gt;5683440273551074352 -->\n<g id=\"edge16\" class=\"edge\">\n<title>&#45;3625313468015151385&#45;&gt;5683440273551074352</title>\n<path fill=\"none\" stroke=\"black\" d=\"M381.9,-468.12C396.41,-477.19 414.42,-488.45 430.09,-498.24\"/>\n<polygon fill=\"black\" stroke=\"black\" points=\"428.66,-501.48 439,-503.81 432.37,-495.54 428.66,-501.48\"/>\n</g>\n<!-- &#45;2063149081205100457 -->\n<g id=\"node14\" class=\"node\">\n<title>&#45;2063149081205100457</title>\n<polygon fill=\"none\" stroke=\"black\" points=\"570.5,-396 350.5,-396 350.5,-360 570.5,-360 570.5,-396\"/>\n<text text-anchor=\"middle\" x=\"460.5\" y=\"-373\" font-family=\"Helvetica,sans-Serif\" font-size=\"20.00\">ToDatetime(Projection)</text>\n</g>\n<!-- &#45;2063149081205100457&#45;&gt;&#45;3625313468015151385 -->\n<g id=\"edge18\" class=\"edge\">\n<title>&#45;2063149081205100457&#45;&gt;&#45;3625313468015151385</title>\n<path fill=\"none\" stroke=\"black\" d=\"M434.57,-396.12C420.84,-405.19 403.79,-416.45 388.96,-426.24\"/>\n<polygon fill=\"black\" stroke=\"black\" points=\"386.95,-423.38 380.53,-431.81 390.8,-429.22 386.95,-423.38\"/>\n</g>\n<!-- &#45;7372895577256653302 -->\n<g id=\"node15\" class=\"node\">\n<title>&#45;7372895577256653302</title>\n<polygon fill=\"none\" stroke=\"black\" points=\"683,-324 314,-324 314,-288 683,-288 683,-324\"/>\n<text text-anchor=\"middle\" x=\"498.5\" y=\"-301\" font-family=\"Helvetica,sans-Serif\" font-size=\"20.00\">Projection(Drop, tpep_pickup_datetime)</text>\n</g>\n<!-- &#45;7372895577256653302&#45;&gt;&#45;2063149081205100457 -->\n<g id=\"edge19\" class=\"edge\">\n<title>&#45;7372895577256653302&#45;&gt;&#45;2063149081205100457</title>\n<path fill=\"none\" stroke=\"black\" d=\"M489.11,-324.3C484.74,-332.36 479.44,-342.11 474.6,-351.02\"/>\n<polygon fill=\"black\" stroke=\"black\" points=\"471.48,-349.44 469.79,-359.9 477.63,-352.78 471.48,-349.44\"/>\n</g>\n<!-- &#45;1980465335869368908 -->\n<g id=\"node16\" class=\"node\">\n<title>&#45;1980465335869368908</title>\n<polygon fill=\"none\" stroke=\"black\" points=\"460,-252 323,-252 323,-216 460,-216 460,-252\"/>\n<text text-anchor=\"middle\" x=\"391.5\" y=\"-229\" font-family=\"Helvetica,sans-Serif\" font-size=\"20.00\">Drop(Concat)</text>\n</g>\n<!-- &#45;1980465335869368908&#45;&gt;&#45;3625313468015151385 -->\n<g id=\"edge17\" class=\"edge\">\n<title>&#45;1980465335869368908&#45;&gt;&#45;3625313468015151385</title>\n<path fill=\"none\" stroke=\"black\" d=\"M344.98,-252.15C329.25,-260.44 313.42,-272.12 304.5,-288 279.63,-332.27 311.43,-390.48 334.52,-423.41\"/>\n<polygon fill=\"black\" stroke=\"black\" points=\"331.75,-425.55 340.45,-431.6 337.42,-421.45 331.75,-425.55\"/>\n</g>\n<!-- &#45;1980465335869368908&#45;&gt;&#45;7372895577256653302 -->\n<g id=\"edge20\" class=\"edge\">\n<title>&#45;1980465335869368908&#45;&gt;&#45;7372895577256653302</title>\n<path fill=\"none\" stroke=\"black\" d=\"M417.68,-252.12C431.54,-261.19 448.74,-272.45 463.71,-282.24\"/>\n<polygon fill=\"black\" stroke=\"black\" points=\"461.94,-285.26 472.22,-287.81 465.77,-279.41 461.94,-285.26\"/>\n</g>\n<!-- 1341296637188645068 -->\n<g id=\"node17\" class=\"node\">\n<title>1341296637188645068</title>\n<polygon fill=\"none\" stroke=\"black\" points=\"757,-180 26,-180 26,-144 757,-144 757,-180\"/>\n<text text-anchor=\"middle\" x=\"391.5\" y=\"-157\" font-family=\"Helvetica,sans-Serif\" font-size=\"20.00\">Concat(ArrowStringConversion, ArrowStringConversion, ArrowStringConversion)</text>\n</g>\n<!-- 1341296637188645068&#45;&gt;&#45;1980465335869368908 -->\n<g id=\"edge21\" class=\"edge\">\n<title>1341296637188645068&#45;&gt;&#45;1980465335869368908</title>\n<path fill=\"none\" stroke=\"black\" d=\"M391.5,-180.3C391.5,-188.02 391.5,-197.29 391.5,-205.89\"/>\n<polygon fill=\"black\" stroke=\"black\" points=\"388,-205.9 391.5,-215.9 395,-205.9 388,-205.9\"/>\n</g>\n<!-- &#45;7566481729919965046 -->\n<g id=\"node18\" class=\"node\">\n<title>&#45;7566481729919965046</title>\n<polygon fill=\"none\" stroke=\"black\" points=\"602.5,-108 180.5,-108 180.5,-72 602.5,-72 602.5,-108\"/>\n<text text-anchor=\"middle\" x=\"391.5\" y=\"-85\" font-family=\"Helvetica,sans-Serif\" font-size=\"20.00\">ArrowStringConversion(FromMapProjectable)</text>\n</g>\n<!-- &#45;7566481729919965046&#45;&gt;1341296637188645068 -->\n<g id=\"edge22\" class=\"edge\">\n<title>&#45;7566481729919965046&#45;&gt;1341296637188645068</title>\n<path fill=\"none\" stroke=\"black\" d=\"M391.5,-108.3C391.5,-116.02 391.5,-125.29 391.5,-133.89\"/>\n<polygon fill=\"black\" stroke=\"black\" points=\"388,-133.9 391.5,-143.9 395,-133.9 388,-133.9\"/>\n</g>\n<!-- 1195809208253362179 -->\n<g id=\"node19\" class=\"node\">\n<title>1195809208253362179</title>\n<polygon fill=\"none\" stroke=\"black\" points=\"493,-36 290,-36 290,0 493,0 493,-36\"/>\n<text text-anchor=\"middle\" x=\"391.5\" y=\"-13\" font-family=\"Helvetica,sans-Serif\" font-size=\"20.00\">FromMapProjectable</text>\n</g>\n<!-- 1195809208253362179&#45;&gt;&#45;7566481729919965046 -->\n<g id=\"edge23\" class=\"edge\">\n<title>1195809208253362179&#45;&gt;&#45;7566481729919965046</title>\n<path fill=\"none\" stroke=\"black\" d=\"M391.5,-36.3C391.5,-44.02 391.5,-53.29 391.5,-61.89\"/>\n<polygon fill=\"black\" stroke=\"black\" points=\"388,-61.9 391.5,-71.9 395,-61.9 388,-61.9\"/>\n</g>\n</g>\n</svg>\n",
            "text/plain": [
              "<graphviz.graphs.Digraph at 0x7bb5516647d0>"
            ]
          },
          "metadata": {},
          "execution_count": 83
        }
      ]
    },
    {
      "cell_type": "code",
      "source": [
        "# plot the number of pickups\n",
        "\n",
        "pickups_every_3_days = (\n",
        "                            df_final\n",
        "                            .set_index('tpep_pickup_datetime')\n",
        "                            .resample(\"3D\")\n",
        "                            .size()\n",
        "                            .compute()\n",
        ")"
      ],
      "metadata": {
        "id": "TmfGne5Cjz5r"
      },
      "execution_count": 93,
      "outputs": []
    },
    {
      "cell_type": "code",
      "source": [
        "pickups_every_3_days"
      ],
      "metadata": {
        "colab": {
          "base_uri": "https://localhost:8080/",
          "height": 468
        },
        "id": "rC0kln74kH9k",
        "outputId": "da7cfdf8-0aea-4584-fdbe-ced25ce09cc5"
      },
      "execution_count": 94,
      "outputs": [
        {
          "output_type": "execute_result",
          "data": {
            "text/plain": [
              "tpep_pickup_datetime\n",
              "2016-01-01    2882238\n",
              "2016-01-04    3023814\n",
              "2016-01-07    3488367\n",
              "2016-01-10    3185487\n",
              "2016-01-13    3578556\n",
              "2016-01-16    3397608\n",
              "2016-01-19    3500838\n",
              "2016-01-22    1974183\n",
              "2016-01-25    2906766\n",
              "2016-01-28    3698202\n",
              "2016-01-31    1084515\n",
              "Freq: 3D, dtype: int64"
            ],
            "text/html": [
              "<div>\n",
              "<style scoped>\n",
              "    .dataframe tbody tr th:only-of-type {\n",
              "        vertical-align: middle;\n",
              "    }\n",
              "\n",
              "    .dataframe tbody tr th {\n",
              "        vertical-align: top;\n",
              "    }\n",
              "\n",
              "    .dataframe thead th {\n",
              "        text-align: right;\n",
              "    }\n",
              "</style>\n",
              "<table border=\"1\" class=\"dataframe\">\n",
              "  <thead>\n",
              "    <tr style=\"text-align: right;\">\n",
              "      <th></th>\n",
              "      <th>0</th>\n",
              "    </tr>\n",
              "    <tr>\n",
              "      <th>tpep_pickup_datetime</th>\n",
              "      <th></th>\n",
              "    </tr>\n",
              "  </thead>\n",
              "  <tbody>\n",
              "    <tr>\n",
              "      <th>2016-01-01</th>\n",
              "      <td>2882238</td>\n",
              "    </tr>\n",
              "    <tr>\n",
              "      <th>2016-01-04</th>\n",
              "      <td>3023814</td>\n",
              "    </tr>\n",
              "    <tr>\n",
              "      <th>2016-01-07</th>\n",
              "      <td>3488367</td>\n",
              "    </tr>\n",
              "    <tr>\n",
              "      <th>2016-01-10</th>\n",
              "      <td>3185487</td>\n",
              "    </tr>\n",
              "    <tr>\n",
              "      <th>2016-01-13</th>\n",
              "      <td>3578556</td>\n",
              "    </tr>\n",
              "    <tr>\n",
              "      <th>2016-01-16</th>\n",
              "      <td>3397608</td>\n",
              "    </tr>\n",
              "    <tr>\n",
              "      <th>2016-01-19</th>\n",
              "      <td>3500838</td>\n",
              "    </tr>\n",
              "    <tr>\n",
              "      <th>2016-01-22</th>\n",
              "      <td>1974183</td>\n",
              "    </tr>\n",
              "    <tr>\n",
              "      <th>2016-01-25</th>\n",
              "      <td>2906766</td>\n",
              "    </tr>\n",
              "    <tr>\n",
              "      <th>2016-01-28</th>\n",
              "      <td>3698202</td>\n",
              "    </tr>\n",
              "    <tr>\n",
              "      <th>2016-01-31</th>\n",
              "      <td>1084515</td>\n",
              "    </tr>\n",
              "  </tbody>\n",
              "</table>\n",
              "</div><br><label><b>dtype:</b> int64</label>"
            ]
          },
          "metadata": {},
          "execution_count": 94
        }
      ]
    },
    {
      "cell_type": "code",
      "source": [
        "# plot the graph of pickups\n",
        "\n",
        "sns.lineplot(pickups_every_3_days)\n",
        "plt.xticks(rotation=45)\n",
        "plt.show()"
      ],
      "metadata": {
        "colab": {
          "base_uri": "https://localhost:8080/",
          "height": 538
        },
        "id": "tGxih9R-lTaM",
        "outputId": "963772da-b7f1-4ba3-dbd9-44ceee1fda2f"
      },
      "execution_count": 95,
      "outputs": [
        {
          "output_type": "display_data",
          "data": {
            "text/plain": [
              "<Figure size 640x480 with 1 Axes>"
            ],
            "image/png": "[encoded data removed]"
          },
          "metadata": {}
        }
      ]
    },
    {
      "cell_type": "code",
      "source": [
        "# pickups for each hour of the day.\n",
        "\n",
        "pickups_each_hour = (\n",
        "    df_final\n",
        "    .groupby([\"pickup_hour\",\"pickup_day_of_week\"])[\"VendorID\"]\n",
        "    .count()\n",
        "    .compute()\n",
        ")"
      ],
      "metadata": {
        "id": "ys4d1miWlVcm"
      },
      "execution_count": 96,
      "outputs": []
    },
    {
      "cell_type": "code",
      "source": [
        "pickups_each_hour"
      ],
      "metadata": {
        "colab": {
          "base_uri": "https://localhost:8080/",
          "height": 497
        },
        "id": "DDEJX1uilywJ",
        "outputId": "bf690691-50af-4a27-c0a0-178ac6c44f10"
      },
      "execution_count": 92,
      "outputs": [
        {
          "output_type": "execute_result",
          "data": {
            "text/plain": [
              "pickup_hour  pickup_day_of_week\n",
              "1            4                     186741\n",
              "19           4                     370344\n",
              "9            6                     140058\n",
              "7            0                     164565\n",
              "8            0                     201663\n",
              "                                    ...  \n",
              "16           1                     194091\n",
              "20           1                     265737\n",
              "1            2                      58260\n",
              "5            3                      45480\n",
              "9            3                     241152\n",
              "Name: VendorID, Length: 168, dtype: int64"
            ],
            "text/html": [
              "<div>\n",
              "<style scoped>\n",
              "    .dataframe tbody tr th:only-of-type {\n",
              "        vertical-align: middle;\n",
              "    }\n",
              "\n",
              "    .dataframe tbody tr th {\n",
              "        vertical-align: top;\n",
              "    }\n",
              "\n",
              "    .dataframe thead th {\n",
              "        text-align: right;\n",
              "    }\n",
              "</style>\n",
              "<table border=\"1\" class=\"dataframe\">\n",
              "  <thead>\n",
              "    <tr style=\"text-align: right;\">\n",
              "      <th></th>\n",
              "      <th></th>\n",
              "      <th>VendorID</th>\n",
              "    </tr>\n",
              "    <tr>\n",
              "      <th>pickup_hour</th>\n",
              "      <th>pickup_day_of_week</th>\n",
              "      <th></th>\n",
              "    </tr>\n",
              "  </thead>\n",
              "  <tbody>\n",
              "    <tr>\n",
              "      <th>1</th>\n",
              "      <th>4</th>\n",
              "      <td>186741</td>\n",
              "    </tr>\n",
              "    <tr>\n",
              "      <th>19</th>\n",
              "      <th>4</th>\n",
              "      <td>370344</td>\n",
              "    </tr>\n",
              "    <tr>\n",
              "      <th>9</th>\n",
              "      <th>6</th>\n",
              "      <td>140058</td>\n",
              "    </tr>\n",
              "    <tr>\n",
              "      <th>7</th>\n",
              "      <th>0</th>\n",
              "      <td>164565</td>\n",
              "    </tr>\n",
              "    <tr>\n",
              "      <th>8</th>\n",
              "      <th>0</th>\n",
              "      <td>201663</td>\n",
              "    </tr>\n",
              "    <tr>\n",
              "      <th>...</th>\n",
              "      <th>...</th>\n",
              "      <td>...</td>\n",
              "    </tr>\n",
              "    <tr>\n",
              "      <th>16</th>\n",
              "      <th>1</th>\n",
              "      <td>194091</td>\n",
              "    </tr>\n",
              "    <tr>\n",
              "      <th>20</th>\n",
              "      <th>1</th>\n",
              "      <td>265737</td>\n",
              "    </tr>\n",
              "    <tr>\n",
              "      <th>1</th>\n",
              "      <th>2</th>\n",
              "      <td>58260</td>\n",
              "    </tr>\n",
              "    <tr>\n",
              "      <th>5</th>\n",
              "      <th>3</th>\n",
              "      <td>45480</td>\n",
              "    </tr>\n",
              "    <tr>\n",
              "      <th>9</th>\n",
              "      <th>3</th>\n",
              "      <td>241152</td>\n",
              "    </tr>\n",
              "  </tbody>\n",
              "</table>\n",
              "<p>168 rows × 1 columns</p>\n",
              "</div><br><label><b>dtype:</b> int64</label>"
            ]
          },
          "metadata": {},
          "execution_count": 92
        }
      ]
    },
    {
      "cell_type": "code",
      "source": [
        "pickups_each_hour = pickups_each_hour.reset_index()"
      ],
      "metadata": {
        "id": "YEbym_B_l030"
      },
      "execution_count": 97,
      "outputs": []
    },
    {
      "cell_type": "code",
      "source": [
        "pickups_each_hour"
      ],
      "metadata": {
        "colab": {
          "base_uri": "https://localhost:8080/",
          "height": 433
        },
        "id": "uUjKhhLEnCor",
        "outputId": "cbdb589c-7439-499a-c079-4385d175652d"
      },
      "execution_count": 98,
      "outputs": [
        {
          "output_type": "execute_result",
          "data": {
            "text/plain": [
              "     pickup_hour  pickup_day_of_week  VendorID\n",
              "0              1                   4    186741\n",
              "1             19                   4    370344\n",
              "2              9                   6    140058\n",
              "3              7                   0    164565\n",
              "4              8                   0    201663\n",
              "..           ...                 ...       ...\n",
              "163           16                   1    194091\n",
              "164           20                   1    265737\n",
              "165            1                   2     58260\n",
              "166            5                   3     45480\n",
              "167            9                   3    241152\n",
              "\n",
              "[168 rows x 3 columns]"
            ],
            "text/html": [
              "\n",
              "  <div id=\"df-7f4cc2c0-6121-42e5-925f-32afc017ca3e\" class=\"colab-df-container\">\n",
              "    <div>\n",
              "<style scoped>\n",
              "    .dataframe tbody tr th:only-of-type {\n",
              "        vertical-align: middle;\n",
              "    }\n",
              "\n",
              "    .dataframe tbody tr th {\n",
              "        vertical-align: top;\n",
              "    }\n",
              "\n",
              "    .dataframe thead th {\n",
              "        text-align: right;\n",
              "    }\n",
              "</style>\n",
              "<table border=\"1\" class=\"dataframe\">\n",
              "  <thead>\n",
              "    <tr style=\"text-align: right;\">\n",
              "      <th></th>\n",
              "      <th>pickup_hour</th>\n",
              "      <th>pickup_day_of_week</th>\n",
              "      <th>VendorID</th>\n",
              "    </tr>\n",
              "  </thead>\n",
              "  <tbody>\n",
              "    <tr>\n",
              "      <th>0</th>\n",
              "      <td>1</td>\n",
              "      <td>4</td>\n",
              "      <td>186741</td>\n",
              "    </tr>\n",
              "    <tr>\n",
              "      <th>1</th>\n",
              "      <td>19</td>\n",
              "      <td>4</td>\n",
              "      <td>370344</td>\n",
              "    </tr>\n",
              "    <tr>\n",
              "      <th>2</th>\n",
              "      <td>9</td>\n",
              "      <td>6</td>\n",
              "      <td>140058</td>\n",
              "    </tr>\n",
              "    <tr>\n",
              "      <th>3</th>\n",
              "      <td>7</td>\n",
              "      <td>0</td>\n",
              "      <td>164565</td>\n",
              "    </tr>\n",
              "    <tr>\n",
              "      <th>4</th>\n",
              "      <td>8</td>\n",
              "      <td>0</td>\n",
              "      <td>201663</td>\n",
              "    </tr>\n",
              "    <tr>\n",
              "      <th>...</th>\n",
              "      <td>...</td>\n",
              "      <td>...</td>\n",
              "      <td>...</td>\n",
              "    </tr>\n",
              "    <tr>\n",
              "      <th>163</th>\n",
              "      <td>16</td>\n",
              "      <td>1</td>\n",
              "      <td>194091</td>\n",
              "    </tr>\n",
              "    <tr>\n",
              "      <th>164</th>\n",
              "      <td>20</td>\n",
              "      <td>1</td>\n",
              "      <td>265737</td>\n",
              "    </tr>\n",
              "    <tr>\n",
              "      <th>165</th>\n",
              "      <td>1</td>\n",
              "      <td>2</td>\n",
              "      <td>58260</td>\n",
              "    </tr>\n",
              "    <tr>\n",
              "      <th>166</th>\n",
              "      <td>5</td>\n",
              "      <td>3</td>\n",
              "      <td>45480</td>\n",
              "    </tr>\n",
              "    <tr>\n",
              "      <th>167</th>\n",
              "      <td>9</td>\n",
              "      <td>3</td>\n",
              "      <td>241152</td>\n",
              "    </tr>\n",
              "  </tbody>\n",
              "</table>\n",
              "<p>168 rows × 3 columns</p>\n",
              "</div>\n",
              "    <div class=\"colab-df-buttons\">\n",
              "\n",
              "  <div class=\"colab-df-container\">\n",
              "    <button class=\"colab-df-convert\" onclick=\"convertToInteractive('df-7f4cc2c0-6121-42e5-925f-32afc017ca3e')\"\n",
              "            title=\"Convert this dataframe to an interactive table.\"\n",
              "            style=\"display:none;\">\n",
              "\n",
              "  <svg xmlns=\"http://www.w3.org/2000/svg\" height=\"24px\" viewBox=\"0 -960 960 960\">\n",
              "    <path d=\"M120-120v-720h720v720H120Zm60-500h600v-160H180v160Zm220 220h160v-160H400v160Zm0 220h160v-160H400v160ZM180-400h160v-160H180v160Zm440 0h160v-160H620v160ZM180-180h160v-160H180v160Zm440 0h160v-160H620v160Z\"/>\n",
              "  </svg>\n",
              "    </button>\n",
              "\n",
              "  <style>\n",
              "    .colab-df-container {\n",
              "      display:flex;\n",
              "      gap: 12px;\n",
              "    }\n",
              "\n",
              "    .colab-df-convert {\n",
              "      background-color: #E8F0FE;\n",
              "      border: none;\n",
              "      border-radius: 50%;\n",
              "      cursor: pointer;\n",
              "      display: none;\n",
              "      fill: #1967D2;\n",
              "      height: 32px;\n",
              "      padding: 0 0 0 0;\n",
              "      width: 32px;\n",
              "    }\n",
              "\n",
              "    .colab-df-convert:hover {\n",
              "      background-color: #E2EBFA;\n",
              "      box-shadow: 0px 1px 2px rgba(60, 64, 67, 0.3), 0px 1px 3px 1px rgba(60, 64, 67, 0.15);\n",
              "      fill: #174EA6;\n",
              "    }\n",
              "\n",
              "    .colab-df-buttons div {\n",
              "      margin-bottom: 4px;\n",
              "    }\n",
              "\n",
              "    [theme=dark] .colab-df-convert {\n",
              "      background-color: #3B4455;\n",
              "      fill: #D2E3FC;\n",
              "    }\n",
              "\n",
              "    [theme=dark] .colab-df-convert:hover {\n",
              "      background-color: #434B5C;\n",
              "      box-shadow: 0px 1px 3px 1px rgba(0, 0, 0, 0.15);\n",
              "      filter: drop-shadow(0px 1px 2px rgba(0, 0, 0, 0.3));\n",
              "      fill: #FFFFFF;\n",
              "    }\n",
              "  </style>\n",
              "\n",
              "    <script>\n",
              "      const buttonEl =\n",
              "        document.querySelector('#df-7f4cc2c0-6121-42e5-925f-32afc017ca3e button.colab-df-convert');\n",
              "      buttonEl.style.display =\n",
              "        google.colab.kernel.accessAllowed ? 'block' : 'none';\n",
              "\n",
              "      async function convertToInteractive(key) {\n",
              "        const element = document.querySelector('#df-7f4cc2c0-6121-42e5-925f-32afc017ca3e');\n",
              "        const dataTable =\n",
              "          await google.colab.kernel.invokeFunction('convertToInteractive',\n",
              "                                                    [key], {});\n",
              "        if (!dataTable) return;\n",
              "\n",
              "        const docLinkHtml = 'Like what you see? Visit the ' +\n",
              "          '<a target=\"_blank\" href=https://colab.research.google.com/notebooks/data_table.ipynb>data table notebook</a>'\n",
              "          + ' to learn more about interactive tables.';\n",
              "        element.innerHTML = '';\n",
              "        dataTable['output_type'] = 'display_data';\n",
              "        await google.colab.output.renderOutput(dataTable, element);\n",
              "        const docLink = document.createElement('div');\n",
              "        docLink.innerHTML = docLinkHtml;\n",
              "        element.appendChild(docLink);\n",
              "      }\n",
              "    </script>\n",
              "  </div>\n",
              "\n",
              "\n",
              "<div id=\"df-3363ccf6-6c4c-4ed5-b728-d8c3751977f9\">\n",
              "  <button class=\"colab-df-quickchart\" onclick=\"quickchart('df-3363ccf6-6c4c-4ed5-b728-d8c3751977f9')\"\n",
              "            title=\"Suggest charts\"\n",
              "            style=\"display:none;\">\n",
              "\n",
              "<svg xmlns=\"http://www.w3.org/2000/svg\" height=\"24px\"viewBox=\"0 0 24 24\"\n",
              "     width=\"24px\">\n",
              "    <g>\n",
              "        <path d=\"M19 3H5c-1.1 0-2 .9-2 2v14c0 1.1.9 2 2 2h14c1.1 0 2-.9 2-2V5c0-1.1-.9-2-2-2zM9 17H7v-7h2v7zm4 0h-2V7h2v10zm4 0h-2v-4h2v4z\"/>\n",
              "    </g>\n",
              "</svg>\n",
              "  </button>\n",
              "\n",
              "<style>\n",
              "  .colab-df-quickchart {\n",
              "      --bg-color: #E8F0FE;\n",
              "      --fill-color: #1967D2;\n",
              "      --hover-bg-color: #E2EBFA;\n",
              "      --hover-fill-color: #174EA6;\n",
              "      --disabled-fill-color: #AAA;\n",
              "      --disabled-bg-color: #DDD;\n",
              "  }\n",
              "\n",
              "  [theme=dark] .colab-df-quickchart {\n",
              "      --bg-color: #3B4455;\n",
              "      --fill-color: #D2E3FC;\n",
              "      --hover-bg-color: #434B5C;\n",
              "      --hover-fill-color: #FFFFFF;\n",
              "      --disabled-bg-color: #3B4455;\n",
              "      --disabled-fill-color: #666;\n",
              "  }\n",
              "\n",
              "  .colab-df-quickchart {\n",
              "    background-color: var(--bg-color);\n",
              "    border: none;\n",
              "    border-radius: 50%;\n",
              "    cursor: pointer;\n",
              "    display: none;\n",
              "    fill: var(--fill-color);\n",
              "    height: 32px;\n",
              "    padding: 0;\n",
              "    width: 32px;\n",
              "  }\n",
              "\n",
              "  .colab-df-quickchart:hover {\n",
              "    background-color: var(--hover-bg-color);\n",
              "    box-shadow: 0 1px 2px rgba(60, 64, 67, 0.3), 0 1px 3px 1px rgba(60, 64, 67, 0.15);\n",
              "    fill: var(--button-hover-fill-color);\n",
              "  }\n",
              "\n",
              "  .colab-df-quickchart-complete:disabled,\n",
              "  .colab-df-quickchart-complete:disabled:hover {\n",
              "    background-color: var(--disabled-bg-color);\n",
              "    fill: var(--disabled-fill-color);\n",
              "    box-shadow: none;\n",
              "  }\n",
              "\n",
              "  .colab-df-spinner {\n",
              "    border: 2px solid var(--fill-color);\n",
              "    border-color: transparent;\n",
              "    border-bottom-color: var(--fill-color);\n",
              "    animation:\n",
              "      spin 1s steps(1) infinite;\n",
              "  }\n",
              "\n",
              "  @keyframes spin {\n",
              "    0% {\n",
              "      border-color: transparent;\n",
              "      border-bottom-color: var(--fill-color);\n",
              "      border-left-color: var(--fill-color);\n",
              "    }\n",
              "    20% {\n",
              "      border-color: transparent;\n",
              "      border-left-color: var(--fill-color);\n",
              "      border-top-color: var(--fill-color);\n",
              "    }\n",
              "    30% {\n",
              "      border-color: transparent;\n",
              "      border-left-color: var(--fill-color);\n",
              "      border-top-color: var(--fill-color);\n",
              "      border-right-color: var(--fill-color);\n",
              "    }\n",
              "    40% {\n",
              "      border-color: transparent;\n",
              "      border-right-color: var(--fill-color);\n",
              "      border-top-color: var(--fill-color);\n",
              "    }\n",
              "    60% {\n",
              "      border-color: transparent;\n",
              "      border-right-color: var(--fill-color);\n",
              "    }\n",
              "    80% {\n",
              "      border-color: transparent;\n",
              "      border-right-color: var(--fill-color);\n",
              "      border-bottom-color: var(--fill-color);\n",
              "    }\n",
              "    90% {\n",
              "      border-color: transparent;\n",
              "      border-bottom-color: var(--fill-color);\n",
              "    }\n",
              "  }\n",
              "</style>\n",
              "\n",
              "  <script>\n",
              "    async function quickchart(key) {\n",
              "      const quickchartButtonEl =\n",
              "        document.querySelector('#' + key + ' button');\n",
              "      quickchartButtonEl.disabled = true;  // To prevent multiple clicks.\n",
              "      quickchartButtonEl.classList.add('colab-df-spinner');\n",
              "      try {\n",
              "        const charts = await google.colab.kernel.invokeFunction(\n",
              "            'suggestCharts', [key], {});\n",
              "      } catch (error) {\n",
              "        console.error('Error during call to suggestCharts:', error);\n",
              "      }\n",
              "      quickchartButtonEl.classList.remove('colab-df-spinner');\n",
              "      quickchartButtonEl.classList.add('colab-df-quickchart-complete');\n",
              "    }\n",
              "    (() => {\n",
              "      let quickchartButtonEl =\n",
              "        document.querySelector('#df-3363ccf6-6c4c-4ed5-b728-d8c3751977f9 button');\n",
              "      quickchartButtonEl.style.display =\n",
              "        google.colab.kernel.accessAllowed ? 'block' : 'none';\n",
              "    })();\n",
              "  </script>\n",
              "</div>\n",
              "\n",
              "  <div id=\"id_ac876c78-2f70-495d-8eb1-6d4bf6f8b1b0\">\n",
              "    <style>\n",
              "      .colab-df-generate {\n",
              "        background-color: #E8F0FE;\n",
              "        border: none;\n",
              "        border-radius: 50%;\n",
              "        cursor: pointer;\n",
              "        display: none;\n",
              "        fill: #1967D2;\n",
              "        height: 32px;\n",
              "        padding: 0 0 0 0;\n",
              "        width: 32px;\n",
              "      }\n",
              "\n",
              "      .colab-df-generate:hover {\n",
              "        background-color: #E2EBFA;\n",
              "        box-shadow: 0px 1px 2px rgba(60, 64, 67, 0.3), 0px 1px 3px 1px rgba(60, 64, 67, 0.15);\n",
              "        fill: #174EA6;\n",
              "      }\n",
              "\n",
              "      [theme=dark] .colab-df-generate {\n",
              "        background-color: #3B4455;\n",
              "        fill: #D2E3FC;\n",
              "      }\n",
              "\n",
              "      [theme=dark] .colab-df-generate:hover {\n",
              "        background-color: #434B5C;\n",
              "        box-shadow: 0px 1px 3px 1px rgba(0, 0, 0, 0.15);\n",
              "        filter: drop-shadow(0px 1px 2px rgba(0, 0, 0, 0.3));\n",
              "        fill: #FFFFFF;\n",
              "      }\n",
              "    </style>\n",
              "    <button class=\"colab-df-generate\" onclick=\"generateWithVariable('pickups_each_hour')\"\n",
              "            title=\"Generate code using this dataframe.\"\n",
              "            style=\"display:none;\">\n",
              "\n",
              "  <svg xmlns=\"http://www.w3.org/2000/svg\" height=\"24px\"viewBox=\"0 0 24 24\"\n",
              "       width=\"24px\">\n",
              "    <path d=\"M7,19H8.4L18.45,9,17,7.55,7,17.6ZM5,21V16.75L18.45,3.32a2,2,0,0,1,2.83,0l1.4,1.43a1.91,1.91,0,0,1,.58,1.4,1.91,1.91,0,0,1-.58,1.4L9.25,21ZM18.45,9,17,7.55Zm-12,3A5.31,5.31,0,0,0,4.9,8.1,5.31,5.31,0,0,0,1,6.5,5.31,5.31,0,0,0,4.9,4.9,5.31,5.31,0,0,0,6.5,1,5.31,5.31,0,0,0,8.1,4.9,5.31,5.31,0,0,0,12,6.5,5.46,5.46,0,0,0,6.5,12Z\"/>\n",
              "  </svg>\n",
              "    </button>\n",
              "    <script>\n",
              "      (() => {\n",
              "      const buttonEl =\n",
              "        document.querySelector('#id_ac876c78-2f70-495d-8eb1-6d4bf6f8b1b0 button.colab-df-generate');\n",
              "      buttonEl.style.display =\n",
              "        google.colab.kernel.accessAllowed ? 'block' : 'none';\n",
              "\n",
              "      buttonEl.onclick = () => {\n",
              "        google.colab.notebook.generateWithVariable('pickups_each_hour');\n",
              "      }\n",
              "      })();\n",
              "    </script>\n",
              "  </div>\n",
              "\n",
              "    </div>\n",
              "  </div>\n"
            ],
            "application/vnd.google.colaboratory.intrinsic+json": {
              "type": "dataframe",
              "variable_name": "pickups_each_hour",
              "summary": "{\n  \"name\": \"pickups_each_hour\",\n  \"rows\": 168,\n  \"fields\": [\n    {\n      \"column\": \"pickup_hour\",\n      \"properties\": {\n        \"dtype\": \"int32\",\n        \"num_unique_values\": 24,\n        \"samples\": [\n          12,\n          13,\n          1\n        ],\n        \"semantic_type\": \"\",\n        \"description\": \"\"\n      }\n    },\n    {\n      \"column\": \"pickup_day_of_week\",\n      \"properties\": {\n        \"dtype\": \"int32\",\n        \"num_unique_values\": 7,\n        \"samples\": [\n          4,\n          6,\n          3\n        ],\n        \"semantic_type\": \"\",\n        \"description\": \"\"\n      }\n    },\n    {\n      \"column\": \"VendorID\",\n      \"properties\": {\n        \"dtype\": \"number\",\n        \"std\": 86294,\n        \"min\": 20886,\n        \"max\": 370344,\n        \"num_unique_values\": 167,\n        \"samples\": [\n          281169,\n          258723,\n          279348\n        ],\n        \"semantic_type\": \"\",\n        \"description\": \"\"\n      }\n    }\n  ]\n}"
            }
          },
          "metadata": {},
          "execution_count": 98
        }
      ]
    },
    {
      "cell_type": "code",
      "source": [
        "pickups_each_hour.rename(\n",
        "    columns={\n",
        "        \"VendorID\": \"Number of Pickups\"\n",
        "    }, inplace=True\n",
        ")"
      ],
      "metadata": {
        "id": "4h9PphgEnEk3"
      },
      "execution_count": 100,
      "outputs": []
    },
    {
      "cell_type": "code",
      "source": [
        "day_names = [\n",
        "    \"Mon\", \"Tue\", \"Wed\", \"Thu\", \"Fri\", \"Sat\", \"Sun\"\n",
        "]\n",
        "\n",
        "replacement_mapper = {\n",
        "    k:v for k, v in enumerate(day_names)\n",
        "}"
      ],
      "metadata": {
        "id": "z-TcAJHRnOg0"
      },
      "execution_count": 101,
      "outputs": []
    },
    {
      "cell_type": "code",
      "source": [
        "replacement_mapper"
      ],
      "metadata": {
        "colab": {
          "base_uri": "https://localhost:8080/"
        },
        "id": "x6ROz-a4ne6i",
        "outputId": "e1f11a47-fba8-4d32-9e09-6931cedd1b6b"
      },
      "execution_count": 102,
      "outputs": [
        {
          "output_type": "execute_result",
          "data": {
            "text/plain": [
              "{0: 'Mon', 1: 'Tue', 2: 'Wed', 3: 'Thu', 4: 'Fri', 5: 'Sat', 6: 'Sun'}"
            ]
          },
          "metadata": {},
          "execution_count": 102
        }
      ]
    },
    {
      "cell_type": "code",
      "source": [
        "pickups_each_hour.replace({\"pickup_day_of_week\":replacement_mapper},inplace=True)"
      ],
      "metadata": {
        "id": "Zk8bKfYxngr9"
      },
      "execution_count": 103,
      "outputs": []
    },
    {
      "cell_type": "code",
      "source": [
        "# plot the lineplot\n",
        "\n",
        "fig = plt.figure(figsize=(12,6))\n",
        "\n",
        "sns.lineplot(pickups_each_hour, x=\"pickup_hour\", y=\"Number of Pickups\",\n",
        "             hue=\"pickup_day_of_week\",hue_order=day_names)\n",
        "\n",
        "plt.show()"
      ],
      "metadata": {
        "colab": {
          "base_uri": "https://localhost:8080/",
          "height": 562
        },
        "id": "GNEc6GpznjF_",
        "outputId": "eb54032e-9d67-44ab-965b-582120bdddaf"
      },
      "execution_count": 104,
      "outputs": [
        {
          "output_type": "display_data",
          "data": {
            "text/plain": [
              "<Figure size 1200x600 with 1 Axes>"
            ],
            "image/png": "[encoded data removed]"
          },
          "metadata": {}
        }
      ]
    },
    {
      "cell_type": "code",
      "source": [],
      "metadata": {
        "id": "_ACqy_YInlcr"
      },
      "execution_count": null,
      "outputs": []
    }
  ]
}